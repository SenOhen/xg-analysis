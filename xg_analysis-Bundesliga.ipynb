{
 "cells": [
  {
   "cell_type": "markdown",
   "id": "1c29d893",
   "metadata": {},
   "source": []
  },
  {
   "cell_type": "code",
   "execution_count": 1,
   "id": "67dcb23a",
   "metadata": {},
   "outputs": [],
   "source": [
    "#import modules\n",
    "from statsbombpy import sb\n",
    "\n",
    "import pandas as pd\n",
    "import matplotlib.pyplot as plt\n",
    "import json\n",
    "\n",
    "from sklearn.compose import ColumnTransformer\n",
    "from sklearn.impute import SimpleImputer\n",
    "from sklearn.linear_model import LogisticRegression, SGDClassifier\n",
    "from sklearn.model_selection import train_test_split\n",
    "from sklearn.metrics import classification_report, confusion_matrix, r2_score\n",
    "from sklearn.pipeline import Pipeline\n",
    "from sklearn.preprocessing import LabelEncoder, StandardScaler, OneHotEncoder, OrdinalEncoder\n",
    "from sklearn.preprocessing import TargetEncoder\n",
    "from sklearn.ensemble import GradientBoostingRegressor, RandomForestClassifier\n",
    "\n",
    "import numpy as np\n",
    "import time\n",
    "import warnings\n",
    "warnings.filterwarnings('ignore')"
   ]
  },
  {
   "cell_type": "code",
   "execution_count": 2,
   "id": "47d34770",
   "metadata": {},
   "outputs": [],
   "source": [
    "from bs4 import BeautifulSoup\n",
    "import requests"
   ]
  },
  {
   "cell_type": "code",
   "execution_count": 3,
   "id": "30b973b4",
   "metadata": {},
   "outputs": [],
   "source": [
    "competitions = sb.competitions()"
   ]
  },
  {
   "cell_type": "code",
   "execution_count": 4,
   "id": "875a578c",
   "metadata": {},
   "outputs": [
    {
     "name": "stdout",
     "output_type": "stream",
     "text": [
      "Help on function matches in module statsbombpy.sb:\n",
      "\n",
      "matches(competition_id: int, season_id: int, fmt='dataframe', creds: dict = {'user': None, 'passwd': None})\n",
      "\n"
     ]
    }
   ],
   "source": [
    "help(sb.matches)"
   ]
  },
  {
   "cell_type": "code",
   "execution_count": 5,
   "id": "e3aef86c",
   "metadata": {},
   "outputs": [],
   "source": [
    "# events = sb.competition_events(\n",
    "#     country=\"England\",\n",
    "#     division= \"Premier League\",\n",
    "#     season=\"2015/2016\",\n",
    "#     gender=\"male\"\n",
    "# )"
   ]
  },
  {
   "cell_type": "code",
   "execution_count": 6,
   "id": "15d76294",
   "metadata": {},
   "outputs": [],
   "source": [
    "#events.columns"
   ]
  },
  {
   "cell_type": "code",
   "execution_count": 7,
   "id": "e829959a",
   "metadata": {},
   "outputs": [
    {
     "data": {
      "text/html": [
       "<div>\n",
       "<style scoped>\n",
       "    .dataframe tbody tr th:only-of-type {\n",
       "        vertical-align: middle;\n",
       "    }\n",
       "\n",
       "    .dataframe tbody tr th {\n",
       "        vertical-align: top;\n",
       "    }\n",
       "\n",
       "    .dataframe thead th {\n",
       "        text-align: right;\n",
       "    }\n",
       "</style>\n",
       "<table border=\"1\" class=\"dataframe\">\n",
       "  <thead>\n",
       "    <tr style=\"text-align: right;\">\n",
       "      <th></th>\n",
       "      <th>competition_id</th>\n",
       "      <th>season_id</th>\n",
       "      <th>country_name</th>\n",
       "      <th>competition_name</th>\n",
       "      <th>competition_gender</th>\n",
       "      <th>competition_youth</th>\n",
       "      <th>competition_international</th>\n",
       "      <th>season_name</th>\n",
       "      <th>match_updated</th>\n",
       "      <th>match_updated_360</th>\n",
       "      <th>match_available_360</th>\n",
       "      <th>match_available</th>\n",
       "    </tr>\n",
       "  </thead>\n",
       "  <tbody>\n",
       "    <tr>\n",
       "      <th>0</th>\n",
       "      <td>9</td>\n",
       "      <td>27</td>\n",
       "      <td>Germany</td>\n",
       "      <td>1. Bundesliga</td>\n",
       "      <td>male</td>\n",
       "      <td>False</td>\n",
       "      <td>False</td>\n",
       "      <td>2015/2016</td>\n",
       "      <td>2023-12-12T07:43:33.436182</td>\n",
       "      <td>None</td>\n",
       "      <td>None</td>\n",
       "      <td>2023-12-12T07:43:33.436182</td>\n",
       "    </tr>\n",
       "    <tr>\n",
       "      <th>41</th>\n",
       "      <td>11</td>\n",
       "      <td>27</td>\n",
       "      <td>Spain</td>\n",
       "      <td>La Liga</td>\n",
       "      <td>male</td>\n",
       "      <td>False</td>\n",
       "      <td>False</td>\n",
       "      <td>2015/2016</td>\n",
       "      <td>2023-09-20T17:21:32.111535</td>\n",
       "      <td>2021-06-13T16:17:31.694</td>\n",
       "      <td>None</td>\n",
       "      <td>2023-09-20T17:21:32.111535</td>\n",
       "    </tr>\n",
       "    <tr>\n",
       "      <th>58</th>\n",
       "      <td>7</td>\n",
       "      <td>27</td>\n",
       "      <td>France</td>\n",
       "      <td>Ligue 1</td>\n",
       "      <td>male</td>\n",
       "      <td>False</td>\n",
       "      <td>False</td>\n",
       "      <td>2015/2016</td>\n",
       "      <td>2023-12-13T00:27:57.162379</td>\n",
       "      <td>None</td>\n",
       "      <td>None</td>\n",
       "      <td>2023-12-13T00:27:57.162379</td>\n",
       "    </tr>\n",
       "    <tr>\n",
       "      <th>62</th>\n",
       "      <td>2</td>\n",
       "      <td>27</td>\n",
       "      <td>England</td>\n",
       "      <td>Premier League</td>\n",
       "      <td>male</td>\n",
       "      <td>False</td>\n",
       "      <td>False</td>\n",
       "      <td>2015/2016</td>\n",
       "      <td>2023-11-14T11:25:33.476498</td>\n",
       "      <td>2021-06-13T16:17:31.694</td>\n",
       "      <td>None</td>\n",
       "      <td>2023-11-14T11:25:33.476498</td>\n",
       "    </tr>\n",
       "    <tr>\n",
       "      <th>64</th>\n",
       "      <td>12</td>\n",
       "      <td>27</td>\n",
       "      <td>Italy</td>\n",
       "      <td>Serie A</td>\n",
       "      <td>male</td>\n",
       "      <td>False</td>\n",
       "      <td>False</td>\n",
       "      <td>2015/2016</td>\n",
       "      <td>2023-12-13T17:32:46.423081</td>\n",
       "      <td>None</td>\n",
       "      <td>None</td>\n",
       "      <td>2023-12-13T17:32:46.423081</td>\n",
       "    </tr>\n",
       "  </tbody>\n",
       "</table>\n",
       "</div>"
      ],
      "text/plain": [
       "    competition_id  season_id country_name competition_name  \\\n",
       "0                9         27      Germany    1. Bundesliga   \n",
       "41              11         27        Spain          La Liga   \n",
       "58               7         27       France          Ligue 1   \n",
       "62               2         27      England   Premier League   \n",
       "64              12         27        Italy          Serie A   \n",
       "\n",
       "   competition_gender  competition_youth  competition_international  \\\n",
       "0                male              False                      False   \n",
       "41               male              False                      False   \n",
       "58               male              False                      False   \n",
       "62               male              False                      False   \n",
       "64               male              False                      False   \n",
       "\n",
       "   season_name               match_updated        match_updated_360  \\\n",
       "0    2015/2016  2023-12-12T07:43:33.436182                     None   \n",
       "41   2015/2016  2023-09-20T17:21:32.111535  2021-06-13T16:17:31.694   \n",
       "58   2015/2016  2023-12-13T00:27:57.162379                     None   \n",
       "62   2015/2016  2023-11-14T11:25:33.476498  2021-06-13T16:17:31.694   \n",
       "64   2015/2016  2023-12-13T17:32:46.423081                     None   \n",
       "\n",
       "   match_available_360             match_available  \n",
       "0                 None  2023-12-12T07:43:33.436182  \n",
       "41                None  2023-09-20T17:21:32.111535  \n",
       "58                None  2023-12-13T00:27:57.162379  \n",
       "62                None  2023-11-14T11:25:33.476498  \n",
       "64                None  2023-12-13T17:32:46.423081  "
      ]
     },
     "execution_count": 7,
     "metadata": {},
     "output_type": "execute_result"
    }
   ],
   "source": [
    "competitions[\n",
    "    (competitions['competition_name'].isin([\n",
    "    'Premier League', '1. Bundesliga', 'La Liga', 'Ligue 1', 'Serie A']))\n",
    "             & \n",
    "    (competitions['season_name']=='2015/2016')\n",
    "            ]"
   ]
  },
  {
   "cell_type": "code",
   "execution_count": 8,
   "id": "cabb5787",
   "metadata": {},
   "outputs": [],
   "source": [
    "#competitions[competitions['competition_name']=='Champions League']"
   ]
  },
  {
   "cell_type": "code",
   "execution_count": 9,
   "id": "0244fc01",
   "metadata": {},
   "outputs": [
    {
     "data": {
      "text/html": [
       "<div>\n",
       "<style scoped>\n",
       "    .dataframe tbody tr th:only-of-type {\n",
       "        vertical-align: middle;\n",
       "    }\n",
       "\n",
       "    .dataframe tbody tr th {\n",
       "        vertical-align: top;\n",
       "    }\n",
       "\n",
       "    .dataframe thead th {\n",
       "        text-align: right;\n",
       "    }\n",
       "</style>\n",
       "<table border=\"1\" class=\"dataframe\">\n",
       "  <thead>\n",
       "    <tr style=\"text-align: right;\">\n",
       "      <th></th>\n",
       "      <th>match_id</th>\n",
       "      <th>match_date</th>\n",
       "      <th>kick_off</th>\n",
       "      <th>competition</th>\n",
       "      <th>season</th>\n",
       "      <th>home_team</th>\n",
       "      <th>away_team</th>\n",
       "      <th>home_score</th>\n",
       "      <th>away_score</th>\n",
       "      <th>match_status</th>\n",
       "      <th>...</th>\n",
       "      <th>last_updated_360</th>\n",
       "      <th>match_week</th>\n",
       "      <th>competition_stage</th>\n",
       "      <th>stadium</th>\n",
       "      <th>referee</th>\n",
       "      <th>home_managers</th>\n",
       "      <th>away_managers</th>\n",
       "      <th>data_version</th>\n",
       "      <th>shot_fidelity_version</th>\n",
       "      <th>xy_fidelity_version</th>\n",
       "    </tr>\n",
       "  </thead>\n",
       "  <tbody>\n",
       "    <tr>\n",
       "      <th>0</th>\n",
       "      <td>3890561</td>\n",
       "      <td>2016-05-14</td>\n",
       "      <td>15:30:00.000</td>\n",
       "      <td>Germany - 1. Bundesliga</td>\n",
       "      <td>2015/2016</td>\n",
       "      <td>Hoffenheim</td>\n",
       "      <td>Schalke 04</td>\n",
       "      <td>1</td>\n",
       "      <td>4</td>\n",
       "      <td>available</td>\n",
       "      <td>...</td>\n",
       "      <td>None</td>\n",
       "      <td>34</td>\n",
       "      <td>Regular Season</td>\n",
       "      <td>PreZero Arena</td>\n",
       "      <td>Felix Brych</td>\n",
       "      <td>Julian Nagelsmann</td>\n",
       "      <td>André Breitenreiter</td>\n",
       "      <td>1.1.0</td>\n",
       "      <td>2</td>\n",
       "      <td>2</td>\n",
       "    </tr>\n",
       "    <tr>\n",
       "      <th>1</th>\n",
       "      <td>3890505</td>\n",
       "      <td>2016-04-02</td>\n",
       "      <td>15:30:00.000</td>\n",
       "      <td>Germany - 1. Bundesliga</td>\n",
       "      <td>2015/2016</td>\n",
       "      <td>Bayern Munich</td>\n",
       "      <td>Eintracht Frankfurt</td>\n",
       "      <td>1</td>\n",
       "      <td>0</td>\n",
       "      <td>available</td>\n",
       "      <td>...</td>\n",
       "      <td>None</td>\n",
       "      <td>28</td>\n",
       "      <td>Regular Season</td>\n",
       "      <td>Allianz Arena</td>\n",
       "      <td>Florian Meyer</td>\n",
       "      <td>Josep Guardiola i Sala</td>\n",
       "      <td>Niko Kovač</td>\n",
       "      <td>1.1.0</td>\n",
       "      <td>2</td>\n",
       "      <td>2</td>\n",
       "    </tr>\n",
       "    <tr>\n",
       "      <th>2</th>\n",
       "      <td>3890511</td>\n",
       "      <td>2016-04-08</td>\n",
       "      <td>20:30:00.000</td>\n",
       "      <td>Germany - 1. Bundesliga</td>\n",
       "      <td>2015/2016</td>\n",
       "      <td>Hertha Berlin</td>\n",
       "      <td>Hannover 96</td>\n",
       "      <td>2</td>\n",
       "      <td>2</td>\n",
       "      <td>available</td>\n",
       "      <td>...</td>\n",
       "      <td>None</td>\n",
       "      <td>29</td>\n",
       "      <td>Regular Season</td>\n",
       "      <td>Olympiastadion Berlin</td>\n",
       "      <td>Benjamin Brand</td>\n",
       "      <td>Pál Dárdai</td>\n",
       "      <td>Daniel Stendel</td>\n",
       "      <td>1.1.0</td>\n",
       "      <td>2</td>\n",
       "      <td>2</td>\n",
       "    </tr>\n",
       "    <tr>\n",
       "      <th>3</th>\n",
       "      <td>3890515</td>\n",
       "      <td>2016-04-09</td>\n",
       "      <td>15:30:00.000</td>\n",
       "      <td>Germany - 1. Bundesliga</td>\n",
       "      <td>2015/2016</td>\n",
       "      <td>Hamburger SV</td>\n",
       "      <td>Darmstadt 98</td>\n",
       "      <td>1</td>\n",
       "      <td>2</td>\n",
       "      <td>available</td>\n",
       "      <td>...</td>\n",
       "      <td>None</td>\n",
       "      <td>29</td>\n",
       "      <td>Regular Season</td>\n",
       "      <td>Volksparkstadion</td>\n",
       "      <td>Peter Sippel</td>\n",
       "      <td>Bruno Labbadia</td>\n",
       "      <td>Dirk Schuster</td>\n",
       "      <td>1.1.0</td>\n",
       "      <td>2</td>\n",
       "      <td>2</td>\n",
       "    </tr>\n",
       "    <tr>\n",
       "      <th>4</th>\n",
       "      <td>3890411</td>\n",
       "      <td>2015-12-20</td>\n",
       "      <td>16:30:00.000</td>\n",
       "      <td>Germany - 1. Bundesliga</td>\n",
       "      <td>2015/2016</td>\n",
       "      <td>Hertha Berlin</td>\n",
       "      <td>FSV Mainz 05</td>\n",
       "      <td>2</td>\n",
       "      <td>0</td>\n",
       "      <td>available</td>\n",
       "      <td>...</td>\n",
       "      <td>None</td>\n",
       "      <td>17</td>\n",
       "      <td>Regular Season</td>\n",
       "      <td>Olympiastadion Berlin</td>\n",
       "      <td>Peter Sippel</td>\n",
       "      <td>Pál Dárdai</td>\n",
       "      <td>Martin Schmidt</td>\n",
       "      <td>1.1.0</td>\n",
       "      <td>2</td>\n",
       "      <td>2</td>\n",
       "    </tr>\n",
       "  </tbody>\n",
       "</table>\n",
       "<p>5 rows × 22 columns</p>\n",
       "</div>"
      ],
      "text/plain": [
       "   match_id  match_date      kick_off              competition     season  \\\n",
       "0   3890561  2016-05-14  15:30:00.000  Germany - 1. Bundesliga  2015/2016   \n",
       "1   3890505  2016-04-02  15:30:00.000  Germany - 1. Bundesliga  2015/2016   \n",
       "2   3890511  2016-04-08  20:30:00.000  Germany - 1. Bundesliga  2015/2016   \n",
       "3   3890515  2016-04-09  15:30:00.000  Germany - 1. Bundesliga  2015/2016   \n",
       "4   3890411  2015-12-20  16:30:00.000  Germany - 1. Bundesliga  2015/2016   \n",
       "\n",
       "       home_team            away_team  home_score  away_score match_status  \\\n",
       "0     Hoffenheim           Schalke 04           1           4    available   \n",
       "1  Bayern Munich  Eintracht Frankfurt           1           0    available   \n",
       "2  Hertha Berlin          Hannover 96           2           2    available   \n",
       "3   Hamburger SV         Darmstadt 98           1           2    available   \n",
       "4  Hertha Berlin         FSV Mainz 05           2           0    available   \n",
       "\n",
       "   ... last_updated_360 match_week competition_stage                stadium  \\\n",
       "0  ...             None         34    Regular Season          PreZero Arena   \n",
       "1  ...             None         28    Regular Season          Allianz Arena   \n",
       "2  ...             None         29    Regular Season  Olympiastadion Berlin   \n",
       "3  ...             None         29    Regular Season       Volksparkstadion   \n",
       "4  ...             None         17    Regular Season  Olympiastadion Berlin   \n",
       "\n",
       "          referee           home_managers        away_managers data_version  \\\n",
       "0     Felix Brych       Julian Nagelsmann  André Breitenreiter        1.1.0   \n",
       "1   Florian Meyer  Josep Guardiola i Sala           Niko Kovač        1.1.0   \n",
       "2  Benjamin Brand              Pál Dárdai       Daniel Stendel        1.1.0   \n",
       "3    Peter Sippel          Bruno Labbadia        Dirk Schuster        1.1.0   \n",
       "4    Peter Sippel              Pál Dárdai       Martin Schmidt        1.1.0   \n",
       "\n",
       "  shot_fidelity_version xy_fidelity_version  \n",
       "0                     2                   2  \n",
       "1                     2                   2  \n",
       "2                     2                   2  \n",
       "3                     2                   2  \n",
       "4                     2                   2  \n",
       "\n",
       "[5 rows x 22 columns]"
      ]
     },
     "execution_count": 9,
     "metadata": {},
     "output_type": "execute_result"
    }
   ],
   "source": [
    "Bundesliga = sb.matches(competition_id=9, season_id=27)\n",
    "Bundesliga.head()"
   ]
  },
  {
   "cell_type": "code",
   "execution_count": 10,
   "id": "c2fb83b4",
   "metadata": {
    "scrolled": false
   },
   "outputs": [
    {
     "data": {
      "text/plain": [
       "Index(['match_id', 'match_date', 'kick_off', 'competition', 'season',\n",
       "       'home_team', 'away_team', 'home_score', 'away_score', 'match_status',\n",
       "       'match_status_360', 'last_updated', 'last_updated_360', 'match_week',\n",
       "       'competition_stage', 'stadium', 'referee', 'home_managers',\n",
       "       'away_managers', 'data_version', 'shot_fidelity_version',\n",
       "       'xy_fidelity_version'],\n",
       "      dtype='object')"
      ]
     },
     "execution_count": 10,
     "metadata": {},
     "output_type": "execute_result"
    }
   ],
   "source": [
    "Bundesliga.columns"
   ]
  },
  {
   "cell_type": "code",
   "execution_count": 11,
   "id": "16a08eac",
   "metadata": {
    "scrolled": true
   },
   "outputs": [
    {
     "name": "stdout",
     "output_type": "stream",
     "text": [
      "['Hoffenheim' 'Bayern Munich' 'Hertha Berlin' 'Hamburger SV'\n",
      " 'Borussia Dortmund' 'Wolfsburg' 'Schalke 04' 'FSV Mainz 05' 'Augsburg'\n",
      " 'Bayer Leverkusen' 'Darmstadt 98' 'Werder Bremen' 'FC Köln'\n",
      " 'Eintracht Frankfurt' 'VfB Stuttgart' 'Borussia Mönchengladbach'\n",
      " 'Ingolstadt' 'Hannover 96']\n"
     ]
    }
   ],
   "source": [
    "print(pd.unique(Bundesliga['home_team']))"
   ]
  },
  {
   "cell_type": "code",
   "execution_count": 12,
   "id": "f12b1ab0",
   "metadata": {},
   "outputs": [],
   "source": [
    "elevations = {'King Power Stadium ': 57, 'The Hawthorns': 166, \"St. James'' Park\": 78, 'Goodison Park': 47,\n",
    " 'Selhurst Park': 54, 'Emirates Stadium': 31, 'White Hart Lane': 20, 'Stadium of Light': 40,\n",
    " 'Villa Park': 105, 'Anfield ': 66, 'bet365 Stadium': 131, 'Old Trafford':43,\n",
    " 'Vitality Stadium': 33,'Swansea.com Stadium': 15, \"St. Mary''s Stadium\": 1,\n",
    " 'Carrow Road': 7, 'Stamford Bridge':11, 'Vicarage Road':70, 'Etihad Stadium': 60,\n",
    " 'Boleyn Ground':11}"
   ]
  },
  {
   "cell_type": "code",
   "execution_count": 13,
   "id": "8ce34408",
   "metadata": {},
   "outputs": [
    {
     "data": {
      "text/plain": [
       "match_id                                    3890561\n",
       "match_date                               2016-05-14\n",
       "kick_off                               15:30:00.000\n",
       "competition                 Germany - 1. Bundesliga\n",
       "season                                    2015/2016\n",
       "home_team                                Hoffenheim\n",
       "away_team                                Schalke 04\n",
       "home_score                                        1\n",
       "away_score                                        4\n",
       "match_status                              available\n",
       "match_status_360                        unscheduled\n",
       "last_updated             2023-07-24T07:47:12.510532\n",
       "last_updated_360                               None\n",
       "match_week                                       34\n",
       "competition_stage                    Regular Season\n",
       "stadium                               PreZero Arena\n",
       "referee                                 Felix Brych\n",
       "home_managers                     Julian Nagelsmann\n",
       "away_managers                   André Breitenreiter\n",
       "data_version                                  1.1.0\n",
       "shot_fidelity_version                             2\n",
       "xy_fidelity_version                               2\n",
       "Name: 0, dtype: object"
      ]
     },
     "execution_count": 13,
     "metadata": {},
     "output_type": "execute_result"
    }
   ],
   "source": [
    "Bundesliga.iloc[0]"
   ]
  },
  {
   "cell_type": "code",
   "execution_count": 14,
   "id": "311e1f7f",
   "metadata": {},
   "outputs": [
    {
     "data": {
      "text/plain": [
       "Index(['ball_receipt_outcome', 'ball_recovery_offensive',\n",
       "       'ball_recovery_recovery_failure', 'carry_end_location',\n",
       "       'clearance_aerial_won', 'clearance_body_part', 'clearance_head',\n",
       "       'clearance_left_foot', 'clearance_right_foot', 'counterpress',\n",
       "       'dribble_nutmeg', 'dribble_outcome', 'dribble_overrun', 'duel_outcome',\n",
       "       'duel_type', 'duration', 'foul_committed_advantage',\n",
       "       'foul_committed_card', 'foul_committed_offensive',\n",
       "       'foul_committed_type', 'foul_won_advantage', 'foul_won_defensive',\n",
       "       'goalkeeper_body_part', 'goalkeeper_end_location', 'goalkeeper_outcome',\n",
       "       'goalkeeper_position', 'goalkeeper_technique', 'goalkeeper_type', 'id',\n",
       "       'index', 'interception_outcome', 'location', 'match_id', 'minute',\n",
       "       'miscontrol_aerial_won', 'off_camera', 'out', 'pass_aerial_won',\n",
       "       'pass_angle', 'pass_assisted_shot_id', 'pass_body_part', 'pass_cross',\n",
       "       'pass_cut_back', 'pass_end_location', 'pass_goal_assist', 'pass_height',\n",
       "       'pass_inswinging', 'pass_length', 'pass_no_touch', 'pass_outcome',\n",
       "       'pass_outswinging', 'pass_recipient', 'pass_recipient_id',\n",
       "       'pass_shot_assist', 'pass_straight', 'pass_switch', 'pass_technique',\n",
       "       'pass_type', 'period', 'play_pattern', 'player', 'player_id',\n",
       "       'position', 'possession', 'possession_team', 'possession_team_id',\n",
       "       'related_events', 'second', 'shot_aerial_won', 'shot_body_part',\n",
       "       'shot_end_location', 'shot_first_time', 'shot_freeze_frame',\n",
       "       'shot_key_pass_id', 'shot_outcome', 'shot_statsbomb_xg',\n",
       "       'shot_technique', 'shot_type', 'substitution_outcome',\n",
       "       'substitution_replacement', 'tactics', 'team', 'team_id', 'timestamp',\n",
       "       'type', 'under_pressure'],\n",
       "      dtype='object')"
      ]
     },
     "execution_count": 14,
     "metadata": {},
     "output_type": "execute_result"
    }
   ],
   "source": [
    "example = sb.events(match_id=3754037)\n",
    "example.columns"
   ]
  },
  {
   "cell_type": "code",
   "execution_count": 15,
   "id": "8a8e5589",
   "metadata": {},
   "outputs": [],
   "source": [
    "relevant_attributes = ['minute', 'second', 'team', 'shot_statsbomb_xg',\n",
    "                       'player', 'position', 'location', 'shot_body_part',\n",
    "       'shot_end_location', 'shot_first_time', \n",
    "         'shot_technique',\n",
    "       'shot_type', 'type','shot_outcome']"
   ]
  },
  {
   "cell_type": "code",
   "execution_count": 16,
   "id": "caad183b",
   "metadata": {},
   "outputs": [],
   "source": [
    "# check_attributes = ['pass_angle', 'pass_assisted_shot_id', 'pass_body_part', 'pass_cross',\n",
    "#        'pass_cut_back', 'pass_end_location', 'pass_goal_assist', 'pass_height',\n",
    "#        'pass_inswinging', 'pass_length', 'pass_no_touch', 'pass_outcome',\n",
    "#        'pass_outswinging', 'pass_recipient', 'pass_recipient_id',\n",
    "#        'pass_shot_assist', 'pass_straight', 'pass_switch', 'pass_technique',\n",
    "#        'pass_type', 'type', 'shot_outcome', 'location']\n",
    "# first_match_df = pd.DataFrame(columns=check_attributes)\n",
    "# for match in PremierLeague['match_id'][:1]:\n",
    "#     match_df = sb.events(match_id=match)\n",
    "#     relevant_match_df = match_df[relevant_attributes][match_df['type']=='Shot']\n",
    "#     first_match_df = pd.concat([first_match_df, relevant_match_df], ignore_index=True)\n",
    "\n",
    "# first_match_df['shot_outcome'] = first_match_df['shot_outcome'].replace(to_replace={'Off T': 0, 'Blocked': 0, 'Saved': 0, 'Goal': 1, 'Wayward': 0, 'Post': 0,\n",
    "#                'Saved to Post': 0, 'Saved Off Target': 0})\n",
    "\n",
    "# first_match_df['distance'] = first_match_df.apply(lambda row: np.sqrt(np.abs(row.location[0]-120)**2 + \n",
    "#                                                      np.abs(row.location[1]-40)**2), axis=1)\n",
    "# first_match_df"
   ]
  },
  {
   "cell_type": "code",
   "execution_count": 17,
   "id": "c6e7b609",
   "metadata": {},
   "outputs": [],
   "source": [
    "Bundesliga_shots_df = pd.DataFrame(columns=relevant_attributes)"
   ]
  },
  {
   "cell_type": "code",
   "execution_count": 18,
   "id": "a844f0f1",
   "metadata": {},
   "outputs": [
    {
     "name": "stdout",
     "output_type": "stream",
     "text": [
      "script run time: 4.07833822965622 minutes\n"
     ]
    },
    {
     "data": {
      "text/html": [
       "<div>\n",
       "<style scoped>\n",
       "    .dataframe tbody tr th:only-of-type {\n",
       "        vertical-align: middle;\n",
       "    }\n",
       "\n",
       "    .dataframe tbody tr th {\n",
       "        vertical-align: top;\n",
       "    }\n",
       "\n",
       "    .dataframe thead th {\n",
       "        text-align: right;\n",
       "    }\n",
       "</style>\n",
       "<table border=\"1\" class=\"dataframe\">\n",
       "  <thead>\n",
       "    <tr style=\"text-align: right;\">\n",
       "      <th></th>\n",
       "      <th>minute</th>\n",
       "      <th>second</th>\n",
       "      <th>team</th>\n",
       "      <th>shot_statsbomb_xg</th>\n",
       "      <th>player</th>\n",
       "      <th>position</th>\n",
       "      <th>location</th>\n",
       "      <th>shot_body_part</th>\n",
       "      <th>shot_end_location</th>\n",
       "      <th>shot_first_time</th>\n",
       "      <th>shot_technique</th>\n",
       "      <th>shot_type</th>\n",
       "      <th>type</th>\n",
       "      <th>shot_outcome</th>\n",
       "      <th>distance</th>\n",
       "      <th>shot_angle</th>\n",
       "    </tr>\n",
       "  </thead>\n",
       "  <tbody>\n",
       "    <tr>\n",
       "      <th>0</th>\n",
       "      <td>4</td>\n",
       "      <td>21</td>\n",
       "      <td>Hoffenheim</td>\n",
       "      <td>0.087901</td>\n",
       "      <td>Tarik Elyounoussi</td>\n",
       "      <td>Left Wing Back</td>\n",
       "      <td>[108.1, 31.2]</td>\n",
       "      <td>Left Foot</td>\n",
       "      <td>[120.0, 35.2, 1.0]</td>\n",
       "      <td>True</td>\n",
       "      <td>Half Volley</td>\n",
       "      <td>Open Play</td>\n",
       "      <td>Shot</td>\n",
       "      <td>0</td>\n",
       "      <td>14.800338</td>\n",
       "      <td>0.636744</td>\n",
       "    </tr>\n",
       "    <tr>\n",
       "      <th>1</th>\n",
       "      <td>6</td>\n",
       "      <td>27</td>\n",
       "      <td>Schalke 04</td>\n",
       "      <td>0.160274</td>\n",
       "      <td>Klaas-Jan Huntelaar</td>\n",
       "      <td>Center Forward</td>\n",
       "      <td>[110.9, 42.6]</td>\n",
       "      <td>Right Foot</td>\n",
       "      <td>[120.0, 39.3, 0.5]</td>\n",
       "      <td>True</td>\n",
       "      <td>Volley</td>\n",
       "      <td>Open Play</td>\n",
       "      <td>Shot</td>\n",
       "      <td>1</td>\n",
       "      <td>9.464143</td>\n",
       "      <td>0.278300</td>\n",
       "    </tr>\n",
       "    <tr>\n",
       "      <th>2</th>\n",
       "      <td>8</td>\n",
       "      <td>16</td>\n",
       "      <td>Hoffenheim</td>\n",
       "      <td>0.016036</td>\n",
       "      <td>Kevin Volland</td>\n",
       "      <td>Left Attacking Midfield</td>\n",
       "      <td>[117.9, 29.1]</td>\n",
       "      <td>Left Foot</td>\n",
       "      <td>[118.1, 30.2]</td>\n",
       "      <td>True</td>\n",
       "      <td>Half Volley</td>\n",
       "      <td>Open Play</td>\n",
       "      <td>Shot</td>\n",
       "      <td>0</td>\n",
       "      <td>11.100450</td>\n",
       "      <td>1.380468</td>\n",
       "    </tr>\n",
       "    <tr>\n",
       "      <th>3</th>\n",
       "      <td>13</td>\n",
       "      <td>55</td>\n",
       "      <td>Schalke 04</td>\n",
       "      <td>0.527759</td>\n",
       "      <td>Jean-Eric Maxim Choupo-Moting</td>\n",
       "      <td>Left Midfield</td>\n",
       "      <td>[101.8, 27.6]</td>\n",
       "      <td>Left Foot</td>\n",
       "      <td>[120.0, 39.0, 0.2]</td>\n",
       "      <td>NaN</td>\n",
       "      <td>Normal</td>\n",
       "      <td>Open Play</td>\n",
       "      <td>Shot</td>\n",
       "      <td>1</td>\n",
       "      <td>22.022716</td>\n",
       "      <td>0.598078</td>\n",
       "    </tr>\n",
       "    <tr>\n",
       "      <th>4</th>\n",
       "      <td>17</td>\n",
       "      <td>16</td>\n",
       "      <td>Schalke 04</td>\n",
       "      <td>0.074020</td>\n",
       "      <td>Klaas-Jan Huntelaar</td>\n",
       "      <td>Center Forward</td>\n",
       "      <td>[109.3, 26.5]</td>\n",
       "      <td>Right Foot</td>\n",
       "      <td>[118.8, 36.0, 0.2]</td>\n",
       "      <td>NaN</td>\n",
       "      <td>Normal</td>\n",
       "      <td>Open Play</td>\n",
       "      <td>Shot</td>\n",
       "      <td>0</td>\n",
       "      <td>17.226143</td>\n",
       "      <td>0.900588</td>\n",
       "    </tr>\n",
       "    <tr>\n",
       "      <th>...</th>\n",
       "      <td>...</td>\n",
       "      <td>...</td>\n",
       "      <td>...</td>\n",
       "      <td>...</td>\n",
       "      <td>...</td>\n",
       "      <td>...</td>\n",
       "      <td>...</td>\n",
       "      <td>...</td>\n",
       "      <td>...</td>\n",
       "      <td>...</td>\n",
       "      <td>...</td>\n",
       "      <td>...</td>\n",
       "      <td>...</td>\n",
       "      <td>...</td>\n",
       "      <td>...</td>\n",
       "      <td>...</td>\n",
       "    </tr>\n",
       "    <tr>\n",
       "      <th>7826</th>\n",
       "      <td>72</td>\n",
       "      <td>14</td>\n",
       "      <td>Bayern Munich</td>\n",
       "      <td>0.248334</td>\n",
       "      <td>Thomas Müller</td>\n",
       "      <td>Right Center Midfield</td>\n",
       "      <td>[113.6, 30.4]</td>\n",
       "      <td>Left Foot</td>\n",
       "      <td>[120.0, 38.9, 0.2]</td>\n",
       "      <td>NaN</td>\n",
       "      <td>Normal</td>\n",
       "      <td>Open Play</td>\n",
       "      <td>Shot</td>\n",
       "      <td>1</td>\n",
       "      <td>11.537764</td>\n",
       "      <td>0.982794</td>\n",
       "    </tr>\n",
       "    <tr>\n",
       "      <th>7827</th>\n",
       "      <td>77</td>\n",
       "      <td>17</td>\n",
       "      <td>Bayern Munich</td>\n",
       "      <td>0.028587</td>\n",
       "      <td>David Olatukunbo Alaba</td>\n",
       "      <td>Left Back</td>\n",
       "      <td>[99.2, 25.5]</td>\n",
       "      <td>Left Foot</td>\n",
       "      <td>[117.7, 36.8, 2.2]</td>\n",
       "      <td>NaN</td>\n",
       "      <td>Normal</td>\n",
       "      <td>Open Play</td>\n",
       "      <td>Shot</td>\n",
       "      <td>0</td>\n",
       "      <td>25.355276</td>\n",
       "      <td>0.608787</td>\n",
       "    </tr>\n",
       "    <tr>\n",
       "      <th>7828</th>\n",
       "      <td>83</td>\n",
       "      <td>16</td>\n",
       "      <td>Bayern Munich</td>\n",
       "      <td>0.007272</td>\n",
       "      <td>Douglas Costa de Souza</td>\n",
       "      <td>Right Midfield</td>\n",
       "      <td>[106.5, 64.6]</td>\n",
       "      <td>Left Foot</td>\n",
       "      <td>[120.0, 37.3, 3.6]</td>\n",
       "      <td>NaN</td>\n",
       "      <td>Normal</td>\n",
       "      <td>Open Play</td>\n",
       "      <td>Shot</td>\n",
       "      <td>0</td>\n",
       "      <td>28.060827</td>\n",
       "      <td>1.068890</td>\n",
       "    </tr>\n",
       "    <tr>\n",
       "      <th>7829</th>\n",
       "      <td>86</td>\n",
       "      <td>15</td>\n",
       "      <td>Bayern Munich</td>\n",
       "      <td>0.025284</td>\n",
       "      <td>Douglas Costa de Souza</td>\n",
       "      <td>Right Midfield</td>\n",
       "      <td>[100.7, 57.0]</td>\n",
       "      <td>Left Foot</td>\n",
       "      <td>[120.0, 37.0, 0.7]</td>\n",
       "      <td>NaN</td>\n",
       "      <td>Normal</td>\n",
       "      <td>Open Play</td>\n",
       "      <td>Shot</td>\n",
       "      <td>1</td>\n",
       "      <td>25.719448</td>\n",
       "      <td>0.722122</td>\n",
       "    </tr>\n",
       "    <tr>\n",
       "      <th>7830</th>\n",
       "      <td>89</td>\n",
       "      <td>29</td>\n",
       "      <td>Bayern Munich</td>\n",
       "      <td>0.049658</td>\n",
       "      <td>Jérôme Boateng</td>\n",
       "      <td>Right Center Back</td>\n",
       "      <td>[91.5, 46.0]</td>\n",
       "      <td>Right Foot</td>\n",
       "      <td>[120.0, 46.7, 5.1]</td>\n",
       "      <td>NaN</td>\n",
       "      <td>Normal</td>\n",
       "      <td>Open Play</td>\n",
       "      <td>Shot</td>\n",
       "      <td>0</td>\n",
       "      <td>29.124732</td>\n",
       "      <td>0.207496</td>\n",
       "    </tr>\n",
       "  </tbody>\n",
       "</table>\n",
       "<p>7831 rows × 16 columns</p>\n",
       "</div>"
      ],
      "text/plain": [
       "     minute second           team  shot_statsbomb_xg  \\\n",
       "0         4     21     Hoffenheim           0.087901   \n",
       "1         6     27     Schalke 04           0.160274   \n",
       "2         8     16     Hoffenheim           0.016036   \n",
       "3        13     55     Schalke 04           0.527759   \n",
       "4        17     16     Schalke 04           0.074020   \n",
       "...     ...    ...            ...                ...   \n",
       "7826     72     14  Bayern Munich           0.248334   \n",
       "7827     77     17  Bayern Munich           0.028587   \n",
       "7828     83     16  Bayern Munich           0.007272   \n",
       "7829     86     15  Bayern Munich           0.025284   \n",
       "7830     89     29  Bayern Munich           0.049658   \n",
       "\n",
       "                             player                 position       location  \\\n",
       "0                 Tarik Elyounoussi           Left Wing Back  [108.1, 31.2]   \n",
       "1               Klaas-Jan Huntelaar           Center Forward  [110.9, 42.6]   \n",
       "2                     Kevin Volland  Left Attacking Midfield  [117.9, 29.1]   \n",
       "3     Jean-Eric Maxim Choupo-Moting            Left Midfield  [101.8, 27.6]   \n",
       "4               Klaas-Jan Huntelaar           Center Forward  [109.3, 26.5]   \n",
       "...                             ...                      ...            ...   \n",
       "7826                  Thomas Müller    Right Center Midfield  [113.6, 30.4]   \n",
       "7827         David Olatukunbo Alaba                Left Back   [99.2, 25.5]   \n",
       "7828         Douglas Costa de Souza           Right Midfield  [106.5, 64.6]   \n",
       "7829         Douglas Costa de Souza           Right Midfield  [100.7, 57.0]   \n",
       "7830                 Jérôme Boateng        Right Center Back   [91.5, 46.0]   \n",
       "\n",
       "     shot_body_part   shot_end_location shot_first_time shot_technique  \\\n",
       "0         Left Foot  [120.0, 35.2, 1.0]            True    Half Volley   \n",
       "1        Right Foot  [120.0, 39.3, 0.5]            True         Volley   \n",
       "2         Left Foot       [118.1, 30.2]            True    Half Volley   \n",
       "3         Left Foot  [120.0, 39.0, 0.2]             NaN         Normal   \n",
       "4        Right Foot  [118.8, 36.0, 0.2]             NaN         Normal   \n",
       "...             ...                 ...             ...            ...   \n",
       "7826      Left Foot  [120.0, 38.9, 0.2]             NaN         Normal   \n",
       "7827      Left Foot  [117.7, 36.8, 2.2]             NaN         Normal   \n",
       "7828      Left Foot  [120.0, 37.3, 3.6]             NaN         Normal   \n",
       "7829      Left Foot  [120.0, 37.0, 0.7]             NaN         Normal   \n",
       "7830     Right Foot  [120.0, 46.7, 5.1]             NaN         Normal   \n",
       "\n",
       "      shot_type  type  shot_outcome   distance  shot_angle  \n",
       "0     Open Play  Shot             0  14.800338    0.636744  \n",
       "1     Open Play  Shot             1   9.464143    0.278300  \n",
       "2     Open Play  Shot             0  11.100450    1.380468  \n",
       "3     Open Play  Shot             1  22.022716    0.598078  \n",
       "4     Open Play  Shot             0  17.226143    0.900588  \n",
       "...         ...   ...           ...        ...         ...  \n",
       "7826  Open Play  Shot             1  11.537764    0.982794  \n",
       "7827  Open Play  Shot             0  25.355276    0.608787  \n",
       "7828  Open Play  Shot             0  28.060827    1.068890  \n",
       "7829  Open Play  Shot             1  25.719448    0.722122  \n",
       "7830  Open Play  Shot             0  29.124732    0.207496  \n",
       "\n",
       "[7831 rows x 16 columns]"
      ]
     },
     "execution_count": 18,
     "metadata": {},
     "output_type": "execute_result"
    }
   ],
   "source": [
    "start = time.time()\n",
    "for match in Bundesliga['match_id']:#[:10]:\n",
    "    match_df = sb.events(match_id=match)\n",
    "    relevant_match_df = match_df[relevant_attributes][match_df['type']=='Shot']\n",
    "    Bundesliga_shots_df = pd.concat([Bundesliga_shots_df, relevant_match_df], ignore_index=True)\n",
    "\n",
    "Bundesliga_shots_df['shot_outcome'] = Bundesliga_shots_df['shot_outcome'].replace(\n",
    "    to_replace={'Off T': 0, 'Blocked': 0, 'Saved': 0, 'Goal': 1, 'Wayward': 0, 'Post': 0,\n",
    "               'Saved to Post': 0, 'Saved Off Target': 0})\n",
    "\n",
    "Bundesliga_shots_df['distance'] = Bundesliga_shots_df.apply(lambda row: np.sqrt(np.abs(\n",
    "    row.location[0]-120)**2 + np.abs(row.location[1]-40)**2), axis=1)\n",
    "Bundesliga_shots_df['shot_angle'] = Bundesliga_shots_df.apply(\n",
    "    lambda row: np.arctan2(np.abs(40-row.location[1]), np.abs(120-row.location[0])), axis=1)\n",
    "end = time.time()\n",
    "print(f'script run time: {(end - start)/60} minutes')\n",
    "Bundesliga_shots_df"
   ]
  },
  {
   "cell_type": "markdown",
   "id": "e34af5a1",
   "metadata": {},
   "source": [
    "## Describing the Data"
   ]
  },
  {
   "cell_type": "code",
   "execution_count": 19,
   "id": "6d1a70c5",
   "metadata": {
    "scrolled": true
   },
   "outputs": [
    {
     "data": {
      "text/html": [
       "<div>\n",
       "<style scoped>\n",
       "    .dataframe tbody tr th:only-of-type {\n",
       "        vertical-align: middle;\n",
       "    }\n",
       "\n",
       "    .dataframe tbody tr th {\n",
       "        vertical-align: top;\n",
       "    }\n",
       "\n",
       "    .dataframe thead th {\n",
       "        text-align: right;\n",
       "    }\n",
       "</style>\n",
       "<table border=\"1\" class=\"dataframe\">\n",
       "  <thead>\n",
       "    <tr style=\"text-align: right;\">\n",
       "      <th></th>\n",
       "      <th>shot_statsbomb_xg</th>\n",
       "      <th>shot_outcome</th>\n",
       "      <th>distance</th>\n",
       "      <th>shot_angle</th>\n",
       "    </tr>\n",
       "  </thead>\n",
       "  <tbody>\n",
       "    <tr>\n",
       "      <th>count</th>\n",
       "      <td>7831.000000</td>\n",
       "      <td>7831.000000</td>\n",
       "      <td>7831.000000</td>\n",
       "      <td>7831.000000</td>\n",
       "    </tr>\n",
       "    <tr>\n",
       "      <th>mean</th>\n",
       "      <td>0.106079</td>\n",
       "      <td>0.106883</td>\n",
       "      <td>18.857774</td>\n",
       "      <td>0.484138</td>\n",
       "    </tr>\n",
       "    <tr>\n",
       "      <th>std</th>\n",
       "      <td>0.149561</td>\n",
       "      <td>0.308984</td>\n",
       "      <td>8.526150</td>\n",
       "      <td>0.327077</td>\n",
       "    </tr>\n",
       "    <tr>\n",
       "      <th>min</th>\n",
       "      <td>0.000180</td>\n",
       "      <td>0.000000</td>\n",
       "      <td>0.943398</td>\n",
       "      <td>0.000000</td>\n",
       "    </tr>\n",
       "    <tr>\n",
       "      <th>25%</th>\n",
       "      <td>0.027162</td>\n",
       "      <td>0.000000</td>\n",
       "      <td>11.900420</td>\n",
       "      <td>0.213905</td>\n",
       "    </tr>\n",
       "    <tr>\n",
       "      <th>50%</th>\n",
       "      <td>0.054641</td>\n",
       "      <td>0.000000</td>\n",
       "      <td>17.924564</td>\n",
       "      <td>0.440802</td>\n",
       "    </tr>\n",
       "    <tr>\n",
       "      <th>75%</th>\n",
       "      <td>0.110142</td>\n",
       "      <td>0.000000</td>\n",
       "      <td>25.187298</td>\n",
       "      <td>0.709912</td>\n",
       "    </tr>\n",
       "    <tr>\n",
       "      <th>max</th>\n",
       "      <td>0.977242</td>\n",
       "      <td>1.000000</td>\n",
       "      <td>84.986881</td>\n",
       "      <td>1.570796</td>\n",
       "    </tr>\n",
       "  </tbody>\n",
       "</table>\n",
       "</div>"
      ],
      "text/plain": [
       "       shot_statsbomb_xg  shot_outcome     distance   shot_angle\n",
       "count        7831.000000   7831.000000  7831.000000  7831.000000\n",
       "mean            0.106079      0.106883    18.857774     0.484138\n",
       "std             0.149561      0.308984     8.526150     0.327077\n",
       "min             0.000180      0.000000     0.943398     0.000000\n",
       "25%             0.027162      0.000000    11.900420     0.213905\n",
       "50%             0.054641      0.000000    17.924564     0.440802\n",
       "75%             0.110142      0.000000    25.187298     0.709912\n",
       "max             0.977242      1.000000    84.986881     1.570796"
      ]
     },
     "execution_count": 19,
     "metadata": {},
     "output_type": "execute_result"
    }
   ],
   "source": [
    "Bundesliga_shots_df.describe()"
   ]
  },
  {
   "cell_type": "code",
   "execution_count": 20,
   "id": "caeeb950",
   "metadata": {},
   "outputs": [],
   "source": [
    "Bundesliga_shots_df = Bundesliga_shots_df[Bundesliga_shots_df.shot_type != 'Corner']"
   ]
  },
  {
   "cell_type": "code",
   "execution_count": 21,
   "id": "a2bf287d",
   "metadata": {},
   "outputs": [
    {
     "data": {
      "text/plain": [
       "shot_outcome\n",
       "0    6988\n",
       "1     837\n",
       "Name: count, dtype: int64"
      ]
     },
     "execution_count": 21,
     "metadata": {},
     "output_type": "execute_result"
    }
   ],
   "source": [
    "Bundesliga_shots_df['shot_outcome'].value_counts()"
   ]
  },
  {
   "cell_type": "code",
   "execution_count": 22,
   "id": "58753b95",
   "metadata": {},
   "outputs": [
    {
     "data": {
      "text/html": [
       "<div>\n",
       "<style scoped>\n",
       "    .dataframe tbody tr th:only-of-type {\n",
       "        vertical-align: middle;\n",
       "    }\n",
       "\n",
       "    .dataframe tbody tr th {\n",
       "        vertical-align: top;\n",
       "    }\n",
       "\n",
       "    .dataframe thead th {\n",
       "        text-align: right;\n",
       "    }\n",
       "</style>\n",
       "<table border=\"1\" class=\"dataframe\">\n",
       "  <thead>\n",
       "    <tr style=\"text-align: right;\">\n",
       "      <th></th>\n",
       "      <th>team</th>\n",
       "      <th>shots</th>\n",
       "      <th>goals</th>\n",
       "      <th>statsbomb_xg</th>\n",
       "    </tr>\n",
       "  </thead>\n",
       "  <tbody>\n",
       "    <tr>\n",
       "      <th>2</th>\n",
       "      <td>Bayern Munich</td>\n",
       "      <td>622</td>\n",
       "      <td>78</td>\n",
       "      <td>73.353521</td>\n",
       "    </tr>\n",
       "    <tr>\n",
       "      <th>9</th>\n",
       "      <td>Borussia Dortmund</td>\n",
       "      <td>524</td>\n",
       "      <td>80</td>\n",
       "      <td>77.142092</td>\n",
       "    </tr>\n",
       "    <tr>\n",
       "      <th>10</th>\n",
       "      <td>Wolfsburg</td>\n",
       "      <td>494</td>\n",
       "      <td>46</td>\n",
       "      <td>47.286714</td>\n",
       "    </tr>\n",
       "    <tr>\n",
       "      <th>11</th>\n",
       "      <td>VfB Stuttgart</td>\n",
       "      <td>490</td>\n",
       "      <td>48</td>\n",
       "      <td>53.967067</td>\n",
       "    </tr>\n",
       "    <tr>\n",
       "      <th>1</th>\n",
       "      <td>Schalke 04</td>\n",
       "      <td>486</td>\n",
       "      <td>47</td>\n",
       "      <td>45.795114</td>\n",
       "    </tr>\n",
       "    <tr>\n",
       "      <th>15</th>\n",
       "      <td>Bayer Leverkusen</td>\n",
       "      <td>479</td>\n",
       "      <td>51</td>\n",
       "      <td>49.798501</td>\n",
       "    </tr>\n",
       "    <tr>\n",
       "      <th>17</th>\n",
       "      <td>Borussia Mönchengladbach</td>\n",
       "      <td>457</td>\n",
       "      <td>64</td>\n",
       "      <td>49.197822</td>\n",
       "    </tr>\n",
       "    <tr>\n",
       "      <th>13</th>\n",
       "      <td>Werder Bremen</td>\n",
       "      <td>451</td>\n",
       "      <td>49</td>\n",
       "      <td>49.968887</td>\n",
       "    </tr>\n",
       "    <tr>\n",
       "      <th>12</th>\n",
       "      <td>Augsburg</td>\n",
       "      <td>439</td>\n",
       "      <td>40</td>\n",
       "      <td>41.013908</td>\n",
       "    </tr>\n",
       "    <tr>\n",
       "      <th>14</th>\n",
       "      <td>Ingolstadt</td>\n",
       "      <td>424</td>\n",
       "      <td>33</td>\n",
       "      <td>39.960963</td>\n",
       "    </tr>\n",
       "    <tr>\n",
       "      <th>16</th>\n",
       "      <td>FC Köln</td>\n",
       "      <td>404</td>\n",
       "      <td>38</td>\n",
       "      <td>41.443312</td>\n",
       "    </tr>\n",
       "    <tr>\n",
       "      <th>0</th>\n",
       "      <td>Hoffenheim</td>\n",
       "      <td>382</td>\n",
       "      <td>39</td>\n",
       "      <td>41.204742</td>\n",
       "    </tr>\n",
       "    <tr>\n",
       "      <th>8</th>\n",
       "      <td>FSV Mainz 05</td>\n",
       "      <td>381</td>\n",
       "      <td>46</td>\n",
       "      <td>44.651071</td>\n",
       "    </tr>\n",
       "    <tr>\n",
       "      <th>5</th>\n",
       "      <td>Hannover 96</td>\n",
       "      <td>378</td>\n",
       "      <td>30</td>\n",
       "      <td>31.642374</td>\n",
       "    </tr>\n",
       "    <tr>\n",
       "      <th>7</th>\n",
       "      <td>Hamburger SV</td>\n",
       "      <td>375</td>\n",
       "      <td>37</td>\n",
       "      <td>37.730126</td>\n",
       "    </tr>\n",
       "    <tr>\n",
       "      <th>3</th>\n",
       "      <td>Eintracht Frankfurt</td>\n",
       "      <td>364</td>\n",
       "      <td>32</td>\n",
       "      <td>33.64464</td>\n",
       "    </tr>\n",
       "    <tr>\n",
       "      <th>6</th>\n",
       "      <td>Darmstadt 98</td>\n",
       "      <td>345</td>\n",
       "      <td>38</td>\n",
       "      <td>36.580799</td>\n",
       "    </tr>\n",
       "    <tr>\n",
       "      <th>4</th>\n",
       "      <td>Hertha Berlin</td>\n",
       "      <td>330</td>\n",
       "      <td>41</td>\n",
       "      <td>36.324097</td>\n",
       "    </tr>\n",
       "  </tbody>\n",
       "</table>\n",
       "</div>"
      ],
      "text/plain": [
       "                        team shots goals statsbomb_xg\n",
       "2              Bayern Munich   622    78    73.353521\n",
       "9          Borussia Dortmund   524    80    77.142092\n",
       "10                 Wolfsburg   494    46    47.286714\n",
       "11             VfB Stuttgart   490    48    53.967067\n",
       "1                 Schalke 04   486    47    45.795114\n",
       "15          Bayer Leverkusen   479    51    49.798501\n",
       "17  Borussia Mönchengladbach   457    64    49.197822\n",
       "13             Werder Bremen   451    49    49.968887\n",
       "12                  Augsburg   439    40    41.013908\n",
       "14                Ingolstadt   424    33    39.960963\n",
       "16                   FC Köln   404    38    41.443312\n",
       "0                 Hoffenheim   382    39    41.204742\n",
       "8               FSV Mainz 05   381    46    44.651071\n",
       "5                Hannover 96   378    30    31.642374\n",
       "7               Hamburger SV   375    37    37.730126\n",
       "3        Eintracht Frankfurt   364    32     33.64464\n",
       "6               Darmstadt 98   345    38    36.580799\n",
       "4              Hertha Berlin   330    41    36.324097"
      ]
     },
     "execution_count": 22,
     "metadata": {},
     "output_type": "execute_result"
    }
   ],
   "source": [
    "Bundesliga_team_summary_df = pd.DataFrame(columns = ['team', 'shots', 'goals', 'statsbomb_xg'])\n",
    "for team in pd.unique(Bundesliga_shots_df['team']):\n",
    "    shot_sum = Bundesliga_shots_df['team'].value_counts()[team]\n",
    "    goal_sum = sum(Bundesliga_shots_df[Bundesliga_shots_df['team']==team]['shot_outcome'])\n",
    "    statsbomb_xg_sum = sum(Bundesliga_shots_df[Bundesliga_shots_df['team']==team]['shot_statsbomb_xg'])\n",
    "    new_row = pd.Series({'team': team, 'shots': shot_sum, 'goals': goal_sum, 'statsbomb_xg': statsbomb_xg_sum})\n",
    "    Bundesliga_team_summary_df.loc[len(Bundesliga_team_summary_df)]=new_row\n",
    "Bundesliga_team_summary_df = Bundesliga_team_summary_df.sort_values(by=['shots'], ascending=False)\n",
    "Bundesliga_team_summary_df"
   ]
  },
  {
   "cell_type": "code",
   "execution_count": 23,
   "id": "e6af03c6",
   "metadata": {},
   "outputs": [
    {
     "data": {
      "text/plain": [
       "Index(['minute', 'second', 'team', 'shot_statsbomb_xg', 'player', 'position',\n",
       "       'location', 'shot_body_part', 'shot_end_location', 'shot_first_time',\n",
       "       'shot_technique', 'shot_type', 'type', 'shot_outcome', 'distance',\n",
       "       'shot_angle'],\n",
       "      dtype='object')"
      ]
     },
     "execution_count": 23,
     "metadata": {},
     "output_type": "execute_result"
    }
   ],
   "source": [
    "Bundesliga_shots_df.columns"
   ]
  },
  {
   "cell_type": "markdown",
   "id": "31a974fd",
   "metadata": {},
   "source": [
    "## Training Model"
   ]
  },
  {
   "cell_type": "code",
   "execution_count": 24,
   "id": "ad5d008b",
   "metadata": {},
   "outputs": [],
   "source": [
    "cap_x_df, y_df = pd.concat([Bundesliga_shots_df.iloc[:,:-3], Bundesliga_shots_df.iloc[:,-2:]], axis=1),Bundesliga_shots_df.iloc[:,-3].to_frame()"
   ]
  },
  {
   "cell_type": "code",
   "execution_count": 25,
   "id": "e78fe3a4",
   "metadata": {},
   "outputs": [],
   "source": [
    "train_cap_x_df, test_cap_x_df, train_y_df, test_y_df = \\\n",
    "train_test_split(cap_x_df, y_df,\n",
    "                 test_size=0.20,\n",
    "                random_state=42,\n",
    "                 shuffle=True,\n",
    "                stratify=y_df)"
   ]
  },
  {
   "cell_type": "code",
   "execution_count": 26,
   "id": "1ecb013b",
   "metadata": {},
   "outputs": [],
   "source": [
    "target_attr = 'shot_outcome'"
   ]
  },
  {
   "cell_type": "code",
   "execution_count": 27,
   "id": "19ca5dd3",
   "metadata": {},
   "outputs": [],
   "source": [
    "numerical_attrs = ['distance', 'minute', 'shot_angle']"
   ]
  },
  {
   "cell_type": "code",
   "execution_count": 28,
   "id": "428553b4",
   "metadata": {},
   "outputs": [],
   "source": [
    "nominal_attrs = ['shot_technique', 'shot_type', 'shot_body_part', 'position', 'shot_first_time', 'position']"
   ]
  },
  {
   "cell_type": "code",
   "execution_count": 29,
   "id": "719fb4b5",
   "metadata": {},
   "outputs": [],
   "source": [
    "numerical_transformer = Pipeline(\n",
    "        steps=[(\"imputer\", SimpleImputer()),\n",
    "               (\"scaler\", StandardScaler())]\n",
    "    )"
   ]
  },
  {
   "cell_type": "code",
   "execution_count": 30,
   "id": "924fde4f",
   "metadata": {},
   "outputs": [],
   "source": [
    "nominal_transformer = Pipeline(\n",
    "        steps=[(\"imputer\", SimpleImputer(strategy=\"most_frequent\")),\n",
    "               #('target_encoder', TargetEncoder(target_type=target_type, random_state=42)),\n",
    "               (\"target_encoder\", OrdinalEncoder()),\n",
    "               (\"scaler\", StandardScaler())\n",
    "               ]\n",
    "    )"
   ]
  },
  {
   "cell_type": "code",
   "execution_count": 31,
   "id": "01ecf6a1",
   "metadata": {},
   "outputs": [],
   "source": [
    "preprocessor = ColumnTransformer(\n",
    "        transformers=[\n",
    "            ('numerical', numerical_transformer, numerical_attrs),\n",
    "            ('nominal', nominal_transformer, nominal_attrs)\n",
    "        ]\n",
    "    )"
   ]
  },
  {
   "cell_type": "markdown",
   "id": "107b94b5",
   "metadata": {},
   "source": [
    "## Try with Logistic Regression"
   ]
  },
  {
   "cell_type": "code",
   "execution_count": 32,
   "id": "869d0305",
   "metadata": {},
   "outputs": [],
   "source": [
    "estimator = LogisticRegression()"
   ]
  },
  {
   "cell_type": "code",
   "execution_count": 33,
   "id": "b36798eb",
   "metadata": {},
   "outputs": [],
   "source": [
    "composite_estimator = Pipeline(steps=[('preprocessor', preprocessor), ('estimator', estimator)])"
   ]
  },
  {
   "cell_type": "code",
   "execution_count": 34,
   "id": "b7d07e3f",
   "metadata": {},
   "outputs": [
    {
     "data": {
      "text/html": [
       "<style>#sk-container-id-1 {color: black;}#sk-container-id-1 pre{padding: 0;}#sk-container-id-1 div.sk-toggleable {background-color: white;}#sk-container-id-1 label.sk-toggleable__label {cursor: pointer;display: block;width: 100%;margin-bottom: 0;padding: 0.3em;box-sizing: border-box;text-align: center;}#sk-container-id-1 label.sk-toggleable__label-arrow:before {content: \"▸\";float: left;margin-right: 0.25em;color: #696969;}#sk-container-id-1 label.sk-toggleable__label-arrow:hover:before {color: black;}#sk-container-id-1 div.sk-estimator:hover label.sk-toggleable__label-arrow:before {color: black;}#sk-container-id-1 div.sk-toggleable__content {max-height: 0;max-width: 0;overflow: hidden;text-align: left;background-color: #f0f8ff;}#sk-container-id-1 div.sk-toggleable__content pre {margin: 0.2em;color: black;border-radius: 0.25em;background-color: #f0f8ff;}#sk-container-id-1 input.sk-toggleable__control:checked~div.sk-toggleable__content {max-height: 200px;max-width: 100%;overflow: auto;}#sk-container-id-1 input.sk-toggleable__control:checked~label.sk-toggleable__label-arrow:before {content: \"▾\";}#sk-container-id-1 div.sk-estimator input.sk-toggleable__control:checked~label.sk-toggleable__label {background-color: #d4ebff;}#sk-container-id-1 div.sk-label input.sk-toggleable__control:checked~label.sk-toggleable__label {background-color: #d4ebff;}#sk-container-id-1 input.sk-hidden--visually {border: 0;clip: rect(1px 1px 1px 1px);clip: rect(1px, 1px, 1px, 1px);height: 1px;margin: -1px;overflow: hidden;padding: 0;position: absolute;width: 1px;}#sk-container-id-1 div.sk-estimator {font-family: monospace;background-color: #f0f8ff;border: 1px dotted black;border-radius: 0.25em;box-sizing: border-box;margin-bottom: 0.5em;}#sk-container-id-1 div.sk-estimator:hover {background-color: #d4ebff;}#sk-container-id-1 div.sk-parallel-item::after {content: \"\";width: 100%;border-bottom: 1px solid gray;flex-grow: 1;}#sk-container-id-1 div.sk-label:hover label.sk-toggleable__label {background-color: #d4ebff;}#sk-container-id-1 div.sk-serial::before {content: \"\";position: absolute;border-left: 1px solid gray;box-sizing: border-box;top: 0;bottom: 0;left: 50%;z-index: 0;}#sk-container-id-1 div.sk-serial {display: flex;flex-direction: column;align-items: center;background-color: white;padding-right: 0.2em;padding-left: 0.2em;position: relative;}#sk-container-id-1 div.sk-item {position: relative;z-index: 1;}#sk-container-id-1 div.sk-parallel {display: flex;align-items: stretch;justify-content: center;background-color: white;position: relative;}#sk-container-id-1 div.sk-item::before, #sk-container-id-1 div.sk-parallel-item::before {content: \"\";position: absolute;border-left: 1px solid gray;box-sizing: border-box;top: 0;bottom: 0;left: 50%;z-index: -1;}#sk-container-id-1 div.sk-parallel-item {display: flex;flex-direction: column;z-index: 1;position: relative;background-color: white;}#sk-container-id-1 div.sk-parallel-item:first-child::after {align-self: flex-end;width: 50%;}#sk-container-id-1 div.sk-parallel-item:last-child::after {align-self: flex-start;width: 50%;}#sk-container-id-1 div.sk-parallel-item:only-child::after {width: 0;}#sk-container-id-1 div.sk-dashed-wrapped {border: 1px dashed gray;margin: 0 0.4em 0.5em 0.4em;box-sizing: border-box;padding-bottom: 0.4em;background-color: white;}#sk-container-id-1 div.sk-label label {font-family: monospace;font-weight: bold;display: inline-block;line-height: 1.2em;}#sk-container-id-1 div.sk-label-container {text-align: center;}#sk-container-id-1 div.sk-container {/* jupyter's `normalize.less` sets `[hidden] { display: none; }` but bootstrap.min.css set `[hidden] { display: none !important; }` so we also need the `!important` here to be able to override the default hidden behavior on the sphinx rendered scikit-learn.org. See: https://github.com/scikit-learn/scikit-learn/issues/21755 */display: inline-block !important;position: relative;}#sk-container-id-1 div.sk-text-repr-fallback {display: none;}</style><div id=\"sk-container-id-1\" class=\"sk-top-container\"><div class=\"sk-text-repr-fallback\"><pre>Pipeline(steps=[(&#x27;preprocessor&#x27;,\n",
       "                 ColumnTransformer(transformers=[(&#x27;numerical&#x27;,\n",
       "                                                  Pipeline(steps=[(&#x27;imputer&#x27;,\n",
       "                                                                   SimpleImputer()),\n",
       "                                                                  (&#x27;scaler&#x27;,\n",
       "                                                                   StandardScaler())]),\n",
       "                                                  [&#x27;distance&#x27;, &#x27;minute&#x27;,\n",
       "                                                   &#x27;shot_angle&#x27;]),\n",
       "                                                 (&#x27;nominal&#x27;,\n",
       "                                                  Pipeline(steps=[(&#x27;imputer&#x27;,\n",
       "                                                                   SimpleImputer(strategy=&#x27;most_frequent&#x27;)),\n",
       "                                                                  (&#x27;target_encoder&#x27;,\n",
       "                                                                   OrdinalEncoder()),\n",
       "                                                                  (&#x27;scaler&#x27;,\n",
       "                                                                   StandardScaler())]),\n",
       "                                                  [&#x27;shot_technique&#x27;,\n",
       "                                                   &#x27;shot_type&#x27;,\n",
       "                                                   &#x27;shot_body_part&#x27;, &#x27;position&#x27;,\n",
       "                                                   &#x27;shot_first_time&#x27;,\n",
       "                                                   &#x27;position&#x27;])])),\n",
       "                (&#x27;estimator&#x27;, LogisticRegression())])</pre><b>In a Jupyter environment, please rerun this cell to show the HTML representation or trust the notebook. <br />On GitHub, the HTML representation is unable to render, please try loading this page with nbviewer.org.</b></div><div class=\"sk-container\" hidden><div class=\"sk-item sk-dashed-wrapped\"><div class=\"sk-label-container\"><div class=\"sk-label sk-toggleable\"><input class=\"sk-toggleable__control sk-hidden--visually\" id=\"sk-estimator-id-1\" type=\"checkbox\" ><label for=\"sk-estimator-id-1\" class=\"sk-toggleable__label sk-toggleable__label-arrow\">Pipeline</label><div class=\"sk-toggleable__content\"><pre>Pipeline(steps=[(&#x27;preprocessor&#x27;,\n",
       "                 ColumnTransformer(transformers=[(&#x27;numerical&#x27;,\n",
       "                                                  Pipeline(steps=[(&#x27;imputer&#x27;,\n",
       "                                                                   SimpleImputer()),\n",
       "                                                                  (&#x27;scaler&#x27;,\n",
       "                                                                   StandardScaler())]),\n",
       "                                                  [&#x27;distance&#x27;, &#x27;minute&#x27;,\n",
       "                                                   &#x27;shot_angle&#x27;]),\n",
       "                                                 (&#x27;nominal&#x27;,\n",
       "                                                  Pipeline(steps=[(&#x27;imputer&#x27;,\n",
       "                                                                   SimpleImputer(strategy=&#x27;most_frequent&#x27;)),\n",
       "                                                                  (&#x27;target_encoder&#x27;,\n",
       "                                                                   OrdinalEncoder()),\n",
       "                                                                  (&#x27;scaler&#x27;,\n",
       "                                                                   StandardScaler())]),\n",
       "                                                  [&#x27;shot_technique&#x27;,\n",
       "                                                   &#x27;shot_type&#x27;,\n",
       "                                                   &#x27;shot_body_part&#x27;, &#x27;position&#x27;,\n",
       "                                                   &#x27;shot_first_time&#x27;,\n",
       "                                                   &#x27;position&#x27;])])),\n",
       "                (&#x27;estimator&#x27;, LogisticRegression())])</pre></div></div></div><div class=\"sk-serial\"><div class=\"sk-item sk-dashed-wrapped\"><div class=\"sk-label-container\"><div class=\"sk-label sk-toggleable\"><input class=\"sk-toggleable__control sk-hidden--visually\" id=\"sk-estimator-id-2\" type=\"checkbox\" ><label for=\"sk-estimator-id-2\" class=\"sk-toggleable__label sk-toggleable__label-arrow\">preprocessor: ColumnTransformer</label><div class=\"sk-toggleable__content\"><pre>ColumnTransformer(transformers=[(&#x27;numerical&#x27;,\n",
       "                                 Pipeline(steps=[(&#x27;imputer&#x27;, SimpleImputer()),\n",
       "                                                 (&#x27;scaler&#x27;, StandardScaler())]),\n",
       "                                 [&#x27;distance&#x27;, &#x27;minute&#x27;, &#x27;shot_angle&#x27;]),\n",
       "                                (&#x27;nominal&#x27;,\n",
       "                                 Pipeline(steps=[(&#x27;imputer&#x27;,\n",
       "                                                  SimpleImputer(strategy=&#x27;most_frequent&#x27;)),\n",
       "                                                 (&#x27;target_encoder&#x27;,\n",
       "                                                  OrdinalEncoder()),\n",
       "                                                 (&#x27;scaler&#x27;, StandardScaler())]),\n",
       "                                 [&#x27;shot_technique&#x27;, &#x27;shot_type&#x27;,\n",
       "                                  &#x27;shot_body_part&#x27;, &#x27;position&#x27;,\n",
       "                                  &#x27;shot_first_time&#x27;, &#x27;position&#x27;])])</pre></div></div></div><div class=\"sk-parallel\"><div class=\"sk-parallel-item\"><div class=\"sk-item\"><div class=\"sk-label-container\"><div class=\"sk-label sk-toggleable\"><input class=\"sk-toggleable__control sk-hidden--visually\" id=\"sk-estimator-id-3\" type=\"checkbox\" ><label for=\"sk-estimator-id-3\" class=\"sk-toggleable__label sk-toggleable__label-arrow\">numerical</label><div class=\"sk-toggleable__content\"><pre>[&#x27;distance&#x27;, &#x27;minute&#x27;, &#x27;shot_angle&#x27;]</pre></div></div></div><div class=\"sk-serial\"><div class=\"sk-item\"><div class=\"sk-serial\"><div class=\"sk-item\"><div class=\"sk-estimator sk-toggleable\"><input class=\"sk-toggleable__control sk-hidden--visually\" id=\"sk-estimator-id-4\" type=\"checkbox\" ><label for=\"sk-estimator-id-4\" class=\"sk-toggleable__label sk-toggleable__label-arrow\">SimpleImputer</label><div class=\"sk-toggleable__content\"><pre>SimpleImputer()</pre></div></div></div><div class=\"sk-item\"><div class=\"sk-estimator sk-toggleable\"><input class=\"sk-toggleable__control sk-hidden--visually\" id=\"sk-estimator-id-5\" type=\"checkbox\" ><label for=\"sk-estimator-id-5\" class=\"sk-toggleable__label sk-toggleable__label-arrow\">StandardScaler</label><div class=\"sk-toggleable__content\"><pre>StandardScaler()</pre></div></div></div></div></div></div></div></div><div class=\"sk-parallel-item\"><div class=\"sk-item\"><div class=\"sk-label-container\"><div class=\"sk-label sk-toggleable\"><input class=\"sk-toggleable__control sk-hidden--visually\" id=\"sk-estimator-id-6\" type=\"checkbox\" ><label for=\"sk-estimator-id-6\" class=\"sk-toggleable__label sk-toggleable__label-arrow\">nominal</label><div class=\"sk-toggleable__content\"><pre>[&#x27;shot_technique&#x27;, &#x27;shot_type&#x27;, &#x27;shot_body_part&#x27;, &#x27;position&#x27;, &#x27;shot_first_time&#x27;, &#x27;position&#x27;]</pre></div></div></div><div class=\"sk-serial\"><div class=\"sk-item\"><div class=\"sk-serial\"><div class=\"sk-item\"><div class=\"sk-estimator sk-toggleable\"><input class=\"sk-toggleable__control sk-hidden--visually\" id=\"sk-estimator-id-7\" type=\"checkbox\" ><label for=\"sk-estimator-id-7\" class=\"sk-toggleable__label sk-toggleable__label-arrow\">SimpleImputer</label><div class=\"sk-toggleable__content\"><pre>SimpleImputer(strategy=&#x27;most_frequent&#x27;)</pre></div></div></div><div class=\"sk-item\"><div class=\"sk-estimator sk-toggleable\"><input class=\"sk-toggleable__control sk-hidden--visually\" id=\"sk-estimator-id-8\" type=\"checkbox\" ><label for=\"sk-estimator-id-8\" class=\"sk-toggleable__label sk-toggleable__label-arrow\">OrdinalEncoder</label><div class=\"sk-toggleable__content\"><pre>OrdinalEncoder()</pre></div></div></div><div class=\"sk-item\"><div class=\"sk-estimator sk-toggleable\"><input class=\"sk-toggleable__control sk-hidden--visually\" id=\"sk-estimator-id-9\" type=\"checkbox\" ><label for=\"sk-estimator-id-9\" class=\"sk-toggleable__label sk-toggleable__label-arrow\">StandardScaler</label><div class=\"sk-toggleable__content\"><pre>StandardScaler()</pre></div></div></div></div></div></div></div></div></div></div><div class=\"sk-item\"><div class=\"sk-estimator sk-toggleable\"><input class=\"sk-toggleable__control sk-hidden--visually\" id=\"sk-estimator-id-10\" type=\"checkbox\" ><label for=\"sk-estimator-id-10\" class=\"sk-toggleable__label sk-toggleable__label-arrow\">LogisticRegression</label><div class=\"sk-toggleable__content\"><pre>LogisticRegression()</pre></div></div></div></div></div></div></div>"
      ],
      "text/plain": [
       "Pipeline(steps=[('preprocessor',\n",
       "                 ColumnTransformer(transformers=[('numerical',\n",
       "                                                  Pipeline(steps=[('imputer',\n",
       "                                                                   SimpleImputer()),\n",
       "                                                                  ('scaler',\n",
       "                                                                   StandardScaler())]),\n",
       "                                                  ['distance', 'minute',\n",
       "                                                   'shot_angle']),\n",
       "                                                 ('nominal',\n",
       "                                                  Pipeline(steps=[('imputer',\n",
       "                                                                   SimpleImputer(strategy='most_frequent')),\n",
       "                                                                  ('target_encoder',\n",
       "                                                                   OrdinalEncoder()),\n",
       "                                                                  ('scaler',\n",
       "                                                                   StandardScaler())]),\n",
       "                                                  ['shot_technique',\n",
       "                                                   'shot_type',\n",
       "                                                   'shot_body_part', 'position',\n",
       "                                                   'shot_first_time',\n",
       "                                                   'position'])])),\n",
       "                ('estimator', LogisticRegression())])"
      ]
     },
     "execution_count": 34,
     "metadata": {},
     "output_type": "execute_result"
    }
   ],
   "source": [
    "composite_estimator.fit(train_cap_x_df, train_y_df.values.ravel())"
   ]
  },
  {
   "cell_type": "code",
   "execution_count": 35,
   "id": "201d83cc",
   "metadata": {},
   "outputs": [
    {
     "data": {
      "text/plain": [
       "array([[0.99737908, 0.00262092],\n",
       "       [0.9584491 , 0.0415509 ],\n",
       "       [0.95352963, 0.04647037],\n",
       "       ...,\n",
       "       [0.86612826, 0.13387174],\n",
       "       [0.54711095, 0.45288905],\n",
       "       [0.97775511, 0.02224489]])"
      ]
     },
     "execution_count": 35,
     "metadata": {},
     "output_type": "execute_result"
    }
   ],
   "source": [
    "composite_estimator.predict_proba(train_cap_x_df)"
   ]
  },
  {
   "cell_type": "code",
   "execution_count": 36,
   "id": "5b6a26d1",
   "metadata": {},
   "outputs": [
    {
     "name": "stdout",
     "output_type": "stream",
     "text": [
      "Training set actual goal information\n",
      "shot_outcome\n",
      "0    5590\n",
      "1     670\n",
      "Name: count, dtype: int64\n",
      "Training set naive model total xG 670.00001497316\n",
      "Training set Statsbomb total xG: 663.6382313521016\n"
     ]
    }
   ],
   "source": [
    "print(\"Training set actual goal information\")\n",
    "print(train_y_df[target_attr].value_counts())\n",
    "print(\"Training set naive model total xG\",sum(composite_estimator.predict_proba(train_cap_x_df)[:,1]))\n",
    "print(\"Training set Statsbomb total xG:\", sum(train_cap_x_df['shot_statsbomb_xg']))"
   ]
  },
  {
   "cell_type": "code",
   "execution_count": 37,
   "id": "db3fe3be",
   "metadata": {},
   "outputs": [],
   "source": [
    "def plot_comparison(model1, model1_name, model2, model2_name, outcome):\n",
    "    plt.scatter(model1, model2,c=outcome)\n",
    "    plt.xlabel(model1_name)\n",
    "    plt.ylabel(model2_name)\n",
    "    plt.xlim(0,1.1)\n",
    "    plt.ylim(0,1.1)\n",
    "    #.legend(label=outcome\n",
    "    z = np.polyfit(model1, model2,1)\n",
    "    p = np.poly1d(z)\n",
    "    plt.plot(model1, p(model1),\"r--\")\n",
    "    print(\"y=%.2fx+%.2f\"%(z[0],z[1]))\n",
    "    print(\"$R^2$=\", r2_score(model1,model2))"
   ]
  },
  {
   "cell_type": "code",
   "execution_count": 38,
   "id": "c43d47e9",
   "metadata": {},
   "outputs": [
    {
     "data": {
      "text/plain": [
       "array(['Open Play', 'Free Kick', 'Penalty'], dtype=object)"
      ]
     },
     "execution_count": 38,
     "metadata": {},
     "output_type": "execute_result"
    }
   ],
   "source": [
    "pd.unique(Bundesliga_shots_df['shot_type'])"
   ]
  },
  {
   "cell_type": "code",
   "execution_count": 39,
   "id": "ee4efb1f",
   "metadata": {},
   "outputs": [],
   "source": [
    "test_predictions = composite_estimator.predict_proba(test_cap_x_df)"
   ]
  },
  {
   "cell_type": "code",
   "execution_count": 40,
   "id": "00d660cd",
   "metadata": {},
   "outputs": [
    {
     "name": "stdout",
     "output_type": "stream",
     "text": [
      "Test set actual goal information\n",
      "shot_outcome\n",
      "0    1398\n",
      "1     167\n",
      "Name: count, dtype: int64\n",
      "Test set naive model total xG 162.34139520056812\n",
      "Statsbomb total xG: 167.06751874890048\n"
     ]
    }
   ],
   "source": [
    "print(\"Test set actual goal information\")\n",
    "print(test_y_df[target_attr].value_counts())\n",
    "print(\"Test set naive model total xG\", sum(test_predictions[:,1]))\n",
    "print(\"Statsbomb total xG:\", sum(test_cap_x_df['shot_statsbomb_xg']))"
   ]
  },
  {
   "cell_type": "code",
   "execution_count": 41,
   "id": "a6b60596",
   "metadata": {},
   "outputs": [
    {
     "name": "stdout",
     "output_type": "stream",
     "text": [
      "shot_outcome\n",
      "0    1398\n",
      "1     167\n",
      "Name: count, dtype: int64\n"
     ]
    }
   ],
   "source": [
    "print(test_y_df[target_attr].value_counts())"
   ]
  },
  {
   "cell_type": "code",
   "execution_count": 42,
   "id": "4adebab6",
   "metadata": {},
   "outputs": [
    {
     "name": "stdout",
     "output_type": "stream",
     "text": [
      "Statsbomb total xG: 167.06751874890048\n"
     ]
    }
   ],
   "source": [
    "print(\"Statsbomb total xG:\", sum(test_cap_x_df['shot_statsbomb_xg']))"
   ]
  },
  {
   "cell_type": "code",
   "execution_count": 43,
   "id": "e4d3f2dc",
   "metadata": {},
   "outputs": [],
   "source": [
    "SBModel = test_cap_x_df['shot_statsbomb_xg']\n",
    "proposed_model = test_predictions[:,1]\n",
    "shot_outcome = test_y_df[target_attr]"
   ]
  },
  {
   "cell_type": "code",
   "execution_count": 44,
   "id": "b8be2856",
   "metadata": {
    "scrolled": true
   },
   "outputs": [
    {
     "name": "stdout",
     "output_type": "stream",
     "text": [
      "y=1.02x+0.00\n",
      "$R^2$= 0.21546024293887145\n"
     ]
    },
    {
     "data": {
      "image/png": "[encoded data removed]",
      "text/plain": [
       "<Figure size 640x480 with 1 Axes>"
      ]
     },
     "metadata": {},
     "output_type": "display_data"
    }
   ],
   "source": [
    "plot_comparison(proposed_model, \"Proposed Model\", SBModel, 'Statsbomb xG', shot_outcome)"
   ]
  },
  {
   "cell_type": "code",
   "execution_count": null,
   "id": "cf726209",
   "metadata": {},
   "outputs": [],
   "source": []
  },
  {
   "cell_type": "markdown",
   "id": "48de4e52",
   "metadata": {},
   "source": [
    "## Try with SGDClassifier"
   ]
  },
  {
   "cell_type": "code",
   "execution_count": 45,
   "id": "c9d12b47",
   "metadata": {},
   "outputs": [],
   "source": [
    "estimator = SGDClassifier(\n",
    "        loss='log_loss', \n",
    "        penalty='l2', \n",
    "        alpha=0.0001, \n",
    "        l1_ratio=0.15, \n",
    "        fit_intercept=True, \n",
    "        max_iter=1000, \n",
    "        tol=0.001, \n",
    "        shuffle=True, \n",
    "        verbose=0, \n",
    "        epsilon=0.1, \n",
    "        n_jobs=None, \n",
    "        random_state=42, \n",
    "        learning_rate='optimal', \n",
    "        eta0=0.0, \n",
    "        power_t=0.5, \n",
    "        early_stopping=False, \n",
    "        validation_fraction=0.1, \n",
    "        n_iter_no_change=5, \n",
    "        class_weight=None, \n",
    "        warm_start=False, \n",
    "        average=False\n",
    "    )"
   ]
  },
  {
   "cell_type": "code",
   "execution_count": 46,
   "id": "5fce2340",
   "metadata": {},
   "outputs": [],
   "source": [
    "composite_estimator = Pipeline(steps=[('preprocessor', preprocessor), ('estimator', estimator)])"
   ]
  },
  {
   "cell_type": "code",
   "execution_count": 47,
   "id": "31f5cf97",
   "metadata": {},
   "outputs": [
    {
     "data": {
      "text/html": [
       "<style>#sk-container-id-2 {color: black;}#sk-container-id-2 pre{padding: 0;}#sk-container-id-2 div.sk-toggleable {background-color: white;}#sk-container-id-2 label.sk-toggleable__label {cursor: pointer;display: block;width: 100%;margin-bottom: 0;padding: 0.3em;box-sizing: border-box;text-align: center;}#sk-container-id-2 label.sk-toggleable__label-arrow:before {content: \"▸\";float: left;margin-right: 0.25em;color: #696969;}#sk-container-id-2 label.sk-toggleable__label-arrow:hover:before {color: black;}#sk-container-id-2 div.sk-estimator:hover label.sk-toggleable__label-arrow:before {color: black;}#sk-container-id-2 div.sk-toggleable__content {max-height: 0;max-width: 0;overflow: hidden;text-align: left;background-color: #f0f8ff;}#sk-container-id-2 div.sk-toggleable__content pre {margin: 0.2em;color: black;border-radius: 0.25em;background-color: #f0f8ff;}#sk-container-id-2 input.sk-toggleable__control:checked~div.sk-toggleable__content {max-height: 200px;max-width: 100%;overflow: auto;}#sk-container-id-2 input.sk-toggleable__control:checked~label.sk-toggleable__label-arrow:before {content: \"▾\";}#sk-container-id-2 div.sk-estimator input.sk-toggleable__control:checked~label.sk-toggleable__label {background-color: #d4ebff;}#sk-container-id-2 div.sk-label input.sk-toggleable__control:checked~label.sk-toggleable__label {background-color: #d4ebff;}#sk-container-id-2 input.sk-hidden--visually {border: 0;clip: rect(1px 1px 1px 1px);clip: rect(1px, 1px, 1px, 1px);height: 1px;margin: -1px;overflow: hidden;padding: 0;position: absolute;width: 1px;}#sk-container-id-2 div.sk-estimator {font-family: monospace;background-color: #f0f8ff;border: 1px dotted black;border-radius: 0.25em;box-sizing: border-box;margin-bottom: 0.5em;}#sk-container-id-2 div.sk-estimator:hover {background-color: #d4ebff;}#sk-container-id-2 div.sk-parallel-item::after {content: \"\";width: 100%;border-bottom: 1px solid gray;flex-grow: 1;}#sk-container-id-2 div.sk-label:hover label.sk-toggleable__label {background-color: #d4ebff;}#sk-container-id-2 div.sk-serial::before {content: \"\";position: absolute;border-left: 1px solid gray;box-sizing: border-box;top: 0;bottom: 0;left: 50%;z-index: 0;}#sk-container-id-2 div.sk-serial {display: flex;flex-direction: column;align-items: center;background-color: white;padding-right: 0.2em;padding-left: 0.2em;position: relative;}#sk-container-id-2 div.sk-item {position: relative;z-index: 1;}#sk-container-id-2 div.sk-parallel {display: flex;align-items: stretch;justify-content: center;background-color: white;position: relative;}#sk-container-id-2 div.sk-item::before, #sk-container-id-2 div.sk-parallel-item::before {content: \"\";position: absolute;border-left: 1px solid gray;box-sizing: border-box;top: 0;bottom: 0;left: 50%;z-index: -1;}#sk-container-id-2 div.sk-parallel-item {display: flex;flex-direction: column;z-index: 1;position: relative;background-color: white;}#sk-container-id-2 div.sk-parallel-item:first-child::after {align-self: flex-end;width: 50%;}#sk-container-id-2 div.sk-parallel-item:last-child::after {align-self: flex-start;width: 50%;}#sk-container-id-2 div.sk-parallel-item:only-child::after {width: 0;}#sk-container-id-2 div.sk-dashed-wrapped {border: 1px dashed gray;margin: 0 0.4em 0.5em 0.4em;box-sizing: border-box;padding-bottom: 0.4em;background-color: white;}#sk-container-id-2 div.sk-label label {font-family: monospace;font-weight: bold;display: inline-block;line-height: 1.2em;}#sk-container-id-2 div.sk-label-container {text-align: center;}#sk-container-id-2 div.sk-container {/* jupyter's `normalize.less` sets `[hidden] { display: none; }` but bootstrap.min.css set `[hidden] { display: none !important; }` so we also need the `!important` here to be able to override the default hidden behavior on the sphinx rendered scikit-learn.org. See: https://github.com/scikit-learn/scikit-learn/issues/21755 */display: inline-block !important;position: relative;}#sk-container-id-2 div.sk-text-repr-fallback {display: none;}</style><div id=\"sk-container-id-2\" class=\"sk-top-container\"><div class=\"sk-text-repr-fallback\"><pre>Pipeline(steps=[(&#x27;preprocessor&#x27;,\n",
       "                 ColumnTransformer(transformers=[(&#x27;numerical&#x27;,\n",
       "                                                  Pipeline(steps=[(&#x27;imputer&#x27;,\n",
       "                                                                   SimpleImputer()),\n",
       "                                                                  (&#x27;scaler&#x27;,\n",
       "                                                                   StandardScaler())]),\n",
       "                                                  [&#x27;distance&#x27;, &#x27;minute&#x27;,\n",
       "                                                   &#x27;shot_angle&#x27;]),\n",
       "                                                 (&#x27;nominal&#x27;,\n",
       "                                                  Pipeline(steps=[(&#x27;imputer&#x27;,\n",
       "                                                                   SimpleImputer(strategy=&#x27;most_frequent&#x27;)),\n",
       "                                                                  (&#x27;target_encoder&#x27;,\n",
       "                                                                   OrdinalEncoder()),\n",
       "                                                                  (&#x27;scaler&#x27;,\n",
       "                                                                   StandardScaler())]),\n",
       "                                                  [&#x27;shot_technique&#x27;,\n",
       "                                                   &#x27;shot_type&#x27;,\n",
       "                                                   &#x27;shot_body_part&#x27;, &#x27;position&#x27;,\n",
       "                                                   &#x27;shot_first_time&#x27;,\n",
       "                                                   &#x27;position&#x27;])])),\n",
       "                (&#x27;estimator&#x27;, SGDClassifier(loss=&#x27;log_loss&#x27;, random_state=42))])</pre><b>In a Jupyter environment, please rerun this cell to show the HTML representation or trust the notebook. <br />On GitHub, the HTML representation is unable to render, please try loading this page with nbviewer.org.</b></div><div class=\"sk-container\" hidden><div class=\"sk-item sk-dashed-wrapped\"><div class=\"sk-label-container\"><div class=\"sk-label sk-toggleable\"><input class=\"sk-toggleable__control sk-hidden--visually\" id=\"sk-estimator-id-11\" type=\"checkbox\" ><label for=\"sk-estimator-id-11\" class=\"sk-toggleable__label sk-toggleable__label-arrow\">Pipeline</label><div class=\"sk-toggleable__content\"><pre>Pipeline(steps=[(&#x27;preprocessor&#x27;,\n",
       "                 ColumnTransformer(transformers=[(&#x27;numerical&#x27;,\n",
       "                                                  Pipeline(steps=[(&#x27;imputer&#x27;,\n",
       "                                                                   SimpleImputer()),\n",
       "                                                                  (&#x27;scaler&#x27;,\n",
       "                                                                   StandardScaler())]),\n",
       "                                                  [&#x27;distance&#x27;, &#x27;minute&#x27;,\n",
       "                                                   &#x27;shot_angle&#x27;]),\n",
       "                                                 (&#x27;nominal&#x27;,\n",
       "                                                  Pipeline(steps=[(&#x27;imputer&#x27;,\n",
       "                                                                   SimpleImputer(strategy=&#x27;most_frequent&#x27;)),\n",
       "                                                                  (&#x27;target_encoder&#x27;,\n",
       "                                                                   OrdinalEncoder()),\n",
       "                                                                  (&#x27;scaler&#x27;,\n",
       "                                                                   StandardScaler())]),\n",
       "                                                  [&#x27;shot_technique&#x27;,\n",
       "                                                   &#x27;shot_type&#x27;,\n",
       "                                                   &#x27;shot_body_part&#x27;, &#x27;position&#x27;,\n",
       "                                                   &#x27;shot_first_time&#x27;,\n",
       "                                                   &#x27;position&#x27;])])),\n",
       "                (&#x27;estimator&#x27;, SGDClassifier(loss=&#x27;log_loss&#x27;, random_state=42))])</pre></div></div></div><div class=\"sk-serial\"><div class=\"sk-item sk-dashed-wrapped\"><div class=\"sk-label-container\"><div class=\"sk-label sk-toggleable\"><input class=\"sk-toggleable__control sk-hidden--visually\" id=\"sk-estimator-id-12\" type=\"checkbox\" ><label for=\"sk-estimator-id-12\" class=\"sk-toggleable__label sk-toggleable__label-arrow\">preprocessor: ColumnTransformer</label><div class=\"sk-toggleable__content\"><pre>ColumnTransformer(transformers=[(&#x27;numerical&#x27;,\n",
       "                                 Pipeline(steps=[(&#x27;imputer&#x27;, SimpleImputer()),\n",
       "                                                 (&#x27;scaler&#x27;, StandardScaler())]),\n",
       "                                 [&#x27;distance&#x27;, &#x27;minute&#x27;, &#x27;shot_angle&#x27;]),\n",
       "                                (&#x27;nominal&#x27;,\n",
       "                                 Pipeline(steps=[(&#x27;imputer&#x27;,\n",
       "                                                  SimpleImputer(strategy=&#x27;most_frequent&#x27;)),\n",
       "                                                 (&#x27;target_encoder&#x27;,\n",
       "                                                  OrdinalEncoder()),\n",
       "                                                 (&#x27;scaler&#x27;, StandardScaler())]),\n",
       "                                 [&#x27;shot_technique&#x27;, &#x27;shot_type&#x27;,\n",
       "                                  &#x27;shot_body_part&#x27;, &#x27;position&#x27;,\n",
       "                                  &#x27;shot_first_time&#x27;, &#x27;position&#x27;])])</pre></div></div></div><div class=\"sk-parallel\"><div class=\"sk-parallel-item\"><div class=\"sk-item\"><div class=\"sk-label-container\"><div class=\"sk-label sk-toggleable\"><input class=\"sk-toggleable__control sk-hidden--visually\" id=\"sk-estimator-id-13\" type=\"checkbox\" ><label for=\"sk-estimator-id-13\" class=\"sk-toggleable__label sk-toggleable__label-arrow\">numerical</label><div class=\"sk-toggleable__content\"><pre>[&#x27;distance&#x27;, &#x27;minute&#x27;, &#x27;shot_angle&#x27;]</pre></div></div></div><div class=\"sk-serial\"><div class=\"sk-item\"><div class=\"sk-serial\"><div class=\"sk-item\"><div class=\"sk-estimator sk-toggleable\"><input class=\"sk-toggleable__control sk-hidden--visually\" id=\"sk-estimator-id-14\" type=\"checkbox\" ><label for=\"sk-estimator-id-14\" class=\"sk-toggleable__label sk-toggleable__label-arrow\">SimpleImputer</label><div class=\"sk-toggleable__content\"><pre>SimpleImputer()</pre></div></div></div><div class=\"sk-item\"><div class=\"sk-estimator sk-toggleable\"><input class=\"sk-toggleable__control sk-hidden--visually\" id=\"sk-estimator-id-15\" type=\"checkbox\" ><label for=\"sk-estimator-id-15\" class=\"sk-toggleable__label sk-toggleable__label-arrow\">StandardScaler</label><div class=\"sk-toggleable__content\"><pre>StandardScaler()</pre></div></div></div></div></div></div></div></div><div class=\"sk-parallel-item\"><div class=\"sk-item\"><div class=\"sk-label-container\"><div class=\"sk-label sk-toggleable\"><input class=\"sk-toggleable__control sk-hidden--visually\" id=\"sk-estimator-id-16\" type=\"checkbox\" ><label for=\"sk-estimator-id-16\" class=\"sk-toggleable__label sk-toggleable__label-arrow\">nominal</label><div class=\"sk-toggleable__content\"><pre>[&#x27;shot_technique&#x27;, &#x27;shot_type&#x27;, &#x27;shot_body_part&#x27;, &#x27;position&#x27;, &#x27;shot_first_time&#x27;, &#x27;position&#x27;]</pre></div></div></div><div class=\"sk-serial\"><div class=\"sk-item\"><div class=\"sk-serial\"><div class=\"sk-item\"><div class=\"sk-estimator sk-toggleable\"><input class=\"sk-toggleable__control sk-hidden--visually\" id=\"sk-estimator-id-17\" type=\"checkbox\" ><label for=\"sk-estimator-id-17\" class=\"sk-toggleable__label sk-toggleable__label-arrow\">SimpleImputer</label><div class=\"sk-toggleable__content\"><pre>SimpleImputer(strategy=&#x27;most_frequent&#x27;)</pre></div></div></div><div class=\"sk-item\"><div class=\"sk-estimator sk-toggleable\"><input class=\"sk-toggleable__control sk-hidden--visually\" id=\"sk-estimator-id-18\" type=\"checkbox\" ><label for=\"sk-estimator-id-18\" class=\"sk-toggleable__label sk-toggleable__label-arrow\">OrdinalEncoder</label><div class=\"sk-toggleable__content\"><pre>OrdinalEncoder()</pre></div></div></div><div class=\"sk-item\"><div class=\"sk-estimator sk-toggleable\"><input class=\"sk-toggleable__control sk-hidden--visually\" id=\"sk-estimator-id-19\" type=\"checkbox\" ><label for=\"sk-estimator-id-19\" class=\"sk-toggleable__label sk-toggleable__label-arrow\">StandardScaler</label><div class=\"sk-toggleable__content\"><pre>StandardScaler()</pre></div></div></div></div></div></div></div></div></div></div><div class=\"sk-item\"><div class=\"sk-estimator sk-toggleable\"><input class=\"sk-toggleable__control sk-hidden--visually\" id=\"sk-estimator-id-20\" type=\"checkbox\" ><label for=\"sk-estimator-id-20\" class=\"sk-toggleable__label sk-toggleable__label-arrow\">SGDClassifier</label><div class=\"sk-toggleable__content\"><pre>SGDClassifier(loss=&#x27;log_loss&#x27;, random_state=42)</pre></div></div></div></div></div></div></div>"
      ],
      "text/plain": [
       "Pipeline(steps=[('preprocessor',\n",
       "                 ColumnTransformer(transformers=[('numerical',\n",
       "                                                  Pipeline(steps=[('imputer',\n",
       "                                                                   SimpleImputer()),\n",
       "                                                                  ('scaler',\n",
       "                                                                   StandardScaler())]),\n",
       "                                                  ['distance', 'minute',\n",
       "                                                   'shot_angle']),\n",
       "                                                 ('nominal',\n",
       "                                                  Pipeline(steps=[('imputer',\n",
       "                                                                   SimpleImputer(strategy='most_frequent')),\n",
       "                                                                  ('target_encoder',\n",
       "                                                                   OrdinalEncoder()),\n",
       "                                                                  ('scaler',\n",
       "                                                                   StandardScaler())]),\n",
       "                                                  ['shot_technique',\n",
       "                                                   'shot_type',\n",
       "                                                   'shot_body_part', 'position',\n",
       "                                                   'shot_first_time',\n",
       "                                                   'position'])])),\n",
       "                ('estimator', SGDClassifier(loss='log_loss', random_state=42))])"
      ]
     },
     "execution_count": 47,
     "metadata": {},
     "output_type": "execute_result"
    }
   ],
   "source": [
    "composite_estimator.fit(train_cap_x_df, train_y_df.values.ravel())"
   ]
  },
  {
   "cell_type": "code",
   "execution_count": 48,
   "id": "919d821c",
   "metadata": {},
   "outputs": [
    {
     "data": {
      "text/plain": [
       "array([[0.99885098, 0.00114902],\n",
       "       [0.9790135 , 0.0209865 ],\n",
       "       [0.96569714, 0.03430286],\n",
       "       ...,\n",
       "       [0.77702577, 0.22297423],\n",
       "       [0.48605211, 0.51394789],\n",
       "       [0.98440476, 0.01559524]])"
      ]
     },
     "execution_count": 48,
     "metadata": {},
     "output_type": "execute_result"
    }
   ],
   "source": [
    "composite_estimator.predict_proba(train_cap_x_df)"
   ]
  },
  {
   "cell_type": "code",
   "execution_count": 49,
   "id": "8407c308",
   "metadata": {},
   "outputs": [
    {
     "name": "stdout",
     "output_type": "stream",
     "text": [
      "Training set actual goal information\n",
      "shot_outcome\n",
      "0    5590\n",
      "1     670\n",
      "Name: count, dtype: int64\n",
      "Training set naive model total xG 662.072826117647\n",
      "Training set Statsbomb total xG: 663.6382313521016\n"
     ]
    }
   ],
   "source": [
    "print(\"Training set actual goal information\")\n",
    "print(train_y_df[target_attr].value_counts())\n",
    "print(\"Training set naive model total xG\",sum(composite_estimator.predict_proba(train_cap_x_df)[:,1]))\n",
    "print(\"Training set Statsbomb total xG:\", sum(train_cap_x_df['shot_statsbomb_xg']))"
   ]
  },
  {
   "cell_type": "code",
   "execution_count": 50,
   "id": "71d35a45",
   "metadata": {},
   "outputs": [],
   "source": [
    "def plot_comparison(model1, model1_name, model2, model2_name, outcome):\n",
    "    plt.scatter(model1, model2,c=outcome)\n",
    "    plt.xlabel(model1_name)\n",
    "    plt.ylabel(model2_name)\n",
    "    plt.xlim(0,1.1)\n",
    "    plt.ylim(0,1.1)\n",
    "    #.legend(label=outcome\n",
    "    z = np.polyfit(model1, model2,1)\n",
    "    p = np.poly1d(z)\n",
    "    plt.plot(model1, p(model1),\"r--\")\n",
    "    print(\"y=%.2fx+%.2f\"%(z[0],z[1]))\n",
    "    print(\"$R^2$=\", r2_score(model1,model2))"
   ]
  },
  {
   "cell_type": "code",
   "execution_count": 51,
   "id": "b73b92ca",
   "metadata": {},
   "outputs": [
    {
     "data": {
      "text/plain": [
       "array(['Open Play', 'Free Kick', 'Penalty'], dtype=object)"
      ]
     },
     "execution_count": 51,
     "metadata": {},
     "output_type": "execute_result"
    }
   ],
   "source": [
    "pd.unique(Bundesliga_shots_df['shot_type'])"
   ]
  },
  {
   "cell_type": "code",
   "execution_count": 52,
   "id": "5e012b29",
   "metadata": {},
   "outputs": [],
   "source": [
    "test_predictions = composite_estimator.predict_proba(test_cap_x_df)"
   ]
  },
  {
   "cell_type": "code",
   "execution_count": 53,
   "id": "d5c7da6e",
   "metadata": {},
   "outputs": [
    {
     "name": "stdout",
     "output_type": "stream",
     "text": [
      "Test set actual goal information\n",
      "shot_outcome\n",
      "0    1398\n",
      "1     167\n",
      "Name: count, dtype: int64\n",
      "Test set naive model total xG 159.14772835394768\n",
      "Statsbomb total xG: 167.06751874890048\n"
     ]
    }
   ],
   "source": [
    "print(\"Test set actual goal information\")\n",
    "print(test_y_df[target_attr].value_counts())\n",
    "print(\"Test set naive model total xG\", sum(test_predictions[:,1]))\n",
    "print(\"Statsbomb total xG:\", sum(test_cap_x_df['shot_statsbomb_xg']))"
   ]
  },
  {
   "cell_type": "code",
   "execution_count": 54,
   "id": "6a2f68ec",
   "metadata": {},
   "outputs": [
    {
     "name": "stdout",
     "output_type": "stream",
     "text": [
      "shot_outcome\n",
      "0    1398\n",
      "1     167\n",
      "Name: count, dtype: int64\n"
     ]
    }
   ],
   "source": [
    "print(test_y_df[target_attr].value_counts())"
   ]
  },
  {
   "cell_type": "code",
   "execution_count": 55,
   "id": "50e7b671",
   "metadata": {},
   "outputs": [
    {
     "name": "stdout",
     "output_type": "stream",
     "text": [
      "Statsbomb total xG: 167.06751874890048\n"
     ]
    }
   ],
   "source": [
    "print(\"Statsbomb total xG:\", sum(test_cap_x_df['shot_statsbomb_xg']))"
   ]
  },
  {
   "cell_type": "code",
   "execution_count": 56,
   "id": "1c033062",
   "metadata": {},
   "outputs": [],
   "source": [
    "SBModel = test_cap_x_df['shot_statsbomb_xg']\n",
    "proposed_model = test_predictions[:,1]\n",
    "shot_outcome = test_y_df[target_attr]"
   ]
  },
  {
   "cell_type": "code",
   "execution_count": 57,
   "id": "1ea340cc",
   "metadata": {
    "scrolled": true
   },
   "outputs": [
    {
     "name": "stdout",
     "output_type": "stream",
     "text": [
      "y=0.87x+0.02\n",
      "$R^2$= 0.34082342242315244\n"
     ]
    },
    {
     "data": {
      "image/png": "[encoded data removed]",
      "text/plain": [
       "<Figure size 640x480 with 1 Axes>"
      ]
     },
     "metadata": {},
     "output_type": "display_data"
    }
   ],
   "source": [
    "plot_comparison(proposed_model, \"Proposed Model\", SBModel, 'Statsbomb xG', shot_outcome)"
   ]
  },
  {
   "cell_type": "markdown",
   "id": "ed049f88",
   "metadata": {},
   "source": [
    "## Try with RandomForest Classifier"
   ]
  },
  {
   "cell_type": "code",
   "execution_count": 58,
   "id": "a26962e0",
   "metadata": {},
   "outputs": [],
   "source": [
    "estimator = RandomForestClassifier(\n",
    "    n_estimators=500, \n",
    "    criterion='gini', \n",
    "    max_depth=None, \n",
    "    min_samples_split=2, \n",
    "    min_samples_leaf=1, \n",
    "    min_weight_fraction_leaf=0.0, \n",
    "    max_features='sqrt', \n",
    "    max_leaf_nodes=16, \n",
    "    min_impurity_decrease=0.0, \n",
    "    bootstrap=True, \n",
    "    oob_score=False, \n",
    "    n_jobs=-1, \n",
    "    random_state=42,\n",
    "    verbose=0, \n",
    "    warm_start=False, \n",
    "    class_weight=None, \n",
    "    ccp_alpha=0.0, \n",
    "    max_samples=None\n",
    ")"
   ]
  },
  {
   "cell_type": "code",
   "execution_count": 59,
   "id": "3a812303",
   "metadata": {},
   "outputs": [],
   "source": [
    "composite_estimator = Pipeline(steps=[('preprocessor', preprocessor), ('estimator', estimator)])"
   ]
  },
  {
   "cell_type": "code",
   "execution_count": 60,
   "id": "0d843f06",
   "metadata": {},
   "outputs": [
    {
     "data": {
      "text/html": [
       "<style>#sk-container-id-3 {color: black;}#sk-container-id-3 pre{padding: 0;}#sk-container-id-3 div.sk-toggleable {background-color: white;}#sk-container-id-3 label.sk-toggleable__label {cursor: pointer;display: block;width: 100%;margin-bottom: 0;padding: 0.3em;box-sizing: border-box;text-align: center;}#sk-container-id-3 label.sk-toggleable__label-arrow:before {content: \"▸\";float: left;margin-right: 0.25em;color: #696969;}#sk-container-id-3 label.sk-toggleable__label-arrow:hover:before {color: black;}#sk-container-id-3 div.sk-estimator:hover label.sk-toggleable__label-arrow:before {color: black;}#sk-container-id-3 div.sk-toggleable__content {max-height: 0;max-width: 0;overflow: hidden;text-align: left;background-color: #f0f8ff;}#sk-container-id-3 div.sk-toggleable__content pre {margin: 0.2em;color: black;border-radius: 0.25em;background-color: #f0f8ff;}#sk-container-id-3 input.sk-toggleable__control:checked~div.sk-toggleable__content {max-height: 200px;max-width: 100%;overflow: auto;}#sk-container-id-3 input.sk-toggleable__control:checked~label.sk-toggleable__label-arrow:before {content: \"▾\";}#sk-container-id-3 div.sk-estimator input.sk-toggleable__control:checked~label.sk-toggleable__label {background-color: #d4ebff;}#sk-container-id-3 div.sk-label input.sk-toggleable__control:checked~label.sk-toggleable__label {background-color: #d4ebff;}#sk-container-id-3 input.sk-hidden--visually {border: 0;clip: rect(1px 1px 1px 1px);clip: rect(1px, 1px, 1px, 1px);height: 1px;margin: -1px;overflow: hidden;padding: 0;position: absolute;width: 1px;}#sk-container-id-3 div.sk-estimator {font-family: monospace;background-color: #f0f8ff;border: 1px dotted black;border-radius: 0.25em;box-sizing: border-box;margin-bottom: 0.5em;}#sk-container-id-3 div.sk-estimator:hover {background-color: #d4ebff;}#sk-container-id-3 div.sk-parallel-item::after {content: \"\";width: 100%;border-bottom: 1px solid gray;flex-grow: 1;}#sk-container-id-3 div.sk-label:hover label.sk-toggleable__label {background-color: #d4ebff;}#sk-container-id-3 div.sk-serial::before {content: \"\";position: absolute;border-left: 1px solid gray;box-sizing: border-box;top: 0;bottom: 0;left: 50%;z-index: 0;}#sk-container-id-3 div.sk-serial {display: flex;flex-direction: column;align-items: center;background-color: white;padding-right: 0.2em;padding-left: 0.2em;position: relative;}#sk-container-id-3 div.sk-item {position: relative;z-index: 1;}#sk-container-id-3 div.sk-parallel {display: flex;align-items: stretch;justify-content: center;background-color: white;position: relative;}#sk-container-id-3 div.sk-item::before, #sk-container-id-3 div.sk-parallel-item::before {content: \"\";position: absolute;border-left: 1px solid gray;box-sizing: border-box;top: 0;bottom: 0;left: 50%;z-index: -1;}#sk-container-id-3 div.sk-parallel-item {display: flex;flex-direction: column;z-index: 1;position: relative;background-color: white;}#sk-container-id-3 div.sk-parallel-item:first-child::after {align-self: flex-end;width: 50%;}#sk-container-id-3 div.sk-parallel-item:last-child::after {align-self: flex-start;width: 50%;}#sk-container-id-3 div.sk-parallel-item:only-child::after {width: 0;}#sk-container-id-3 div.sk-dashed-wrapped {border: 1px dashed gray;margin: 0 0.4em 0.5em 0.4em;box-sizing: border-box;padding-bottom: 0.4em;background-color: white;}#sk-container-id-3 div.sk-label label {font-family: monospace;font-weight: bold;display: inline-block;line-height: 1.2em;}#sk-container-id-3 div.sk-label-container {text-align: center;}#sk-container-id-3 div.sk-container {/* jupyter's `normalize.less` sets `[hidden] { display: none; }` but bootstrap.min.css set `[hidden] { display: none !important; }` so we also need the `!important` here to be able to override the default hidden behavior on the sphinx rendered scikit-learn.org. See: https://github.com/scikit-learn/scikit-learn/issues/21755 */display: inline-block !important;position: relative;}#sk-container-id-3 div.sk-text-repr-fallback {display: none;}</style><div id=\"sk-container-id-3\" class=\"sk-top-container\"><div class=\"sk-text-repr-fallback\"><pre>Pipeline(steps=[(&#x27;preprocessor&#x27;,\n",
       "                 ColumnTransformer(transformers=[(&#x27;numerical&#x27;,\n",
       "                                                  Pipeline(steps=[(&#x27;imputer&#x27;,\n",
       "                                                                   SimpleImputer()),\n",
       "                                                                  (&#x27;scaler&#x27;,\n",
       "                                                                   StandardScaler())]),\n",
       "                                                  [&#x27;distance&#x27;, &#x27;minute&#x27;,\n",
       "                                                   &#x27;shot_angle&#x27;]),\n",
       "                                                 (&#x27;nominal&#x27;,\n",
       "                                                  Pipeline(steps=[(&#x27;imputer&#x27;,\n",
       "                                                                   SimpleImputer(strategy=&#x27;most_frequent&#x27;)),\n",
       "                                                                  (&#x27;target_encoder&#x27;,\n",
       "                                                                   OrdinalEncoder()),\n",
       "                                                                  (&#x27;scaler&#x27;,\n",
       "                                                                   StandardScaler())]),\n",
       "                                                  [&#x27;shot_technique&#x27;,\n",
       "                                                   &#x27;shot_type&#x27;,\n",
       "                                                   &#x27;shot_body_part&#x27;, &#x27;position&#x27;,\n",
       "                                                   &#x27;shot_first_time&#x27;,\n",
       "                                                   &#x27;position&#x27;])])),\n",
       "                (&#x27;estimator&#x27;,\n",
       "                 RandomForestClassifier(max_leaf_nodes=16, n_estimators=500,\n",
       "                                        n_jobs=-1, random_state=42))])</pre><b>In a Jupyter environment, please rerun this cell to show the HTML representation or trust the notebook. <br />On GitHub, the HTML representation is unable to render, please try loading this page with nbviewer.org.</b></div><div class=\"sk-container\" hidden><div class=\"sk-item sk-dashed-wrapped\"><div class=\"sk-label-container\"><div class=\"sk-label sk-toggleable\"><input class=\"sk-toggleable__control sk-hidden--visually\" id=\"sk-estimator-id-21\" type=\"checkbox\" ><label for=\"sk-estimator-id-21\" class=\"sk-toggleable__label sk-toggleable__label-arrow\">Pipeline</label><div class=\"sk-toggleable__content\"><pre>Pipeline(steps=[(&#x27;preprocessor&#x27;,\n",
       "                 ColumnTransformer(transformers=[(&#x27;numerical&#x27;,\n",
       "                                                  Pipeline(steps=[(&#x27;imputer&#x27;,\n",
       "                                                                   SimpleImputer()),\n",
       "                                                                  (&#x27;scaler&#x27;,\n",
       "                                                                   StandardScaler())]),\n",
       "                                                  [&#x27;distance&#x27;, &#x27;minute&#x27;,\n",
       "                                                   &#x27;shot_angle&#x27;]),\n",
       "                                                 (&#x27;nominal&#x27;,\n",
       "                                                  Pipeline(steps=[(&#x27;imputer&#x27;,\n",
       "                                                                   SimpleImputer(strategy=&#x27;most_frequent&#x27;)),\n",
       "                                                                  (&#x27;target_encoder&#x27;,\n",
       "                                                                   OrdinalEncoder()),\n",
       "                                                                  (&#x27;scaler&#x27;,\n",
       "                                                                   StandardScaler())]),\n",
       "                                                  [&#x27;shot_technique&#x27;,\n",
       "                                                   &#x27;shot_type&#x27;,\n",
       "                                                   &#x27;shot_body_part&#x27;, &#x27;position&#x27;,\n",
       "                                                   &#x27;shot_first_time&#x27;,\n",
       "                                                   &#x27;position&#x27;])])),\n",
       "                (&#x27;estimator&#x27;,\n",
       "                 RandomForestClassifier(max_leaf_nodes=16, n_estimators=500,\n",
       "                                        n_jobs=-1, random_state=42))])</pre></div></div></div><div class=\"sk-serial\"><div class=\"sk-item sk-dashed-wrapped\"><div class=\"sk-label-container\"><div class=\"sk-label sk-toggleable\"><input class=\"sk-toggleable__control sk-hidden--visually\" id=\"sk-estimator-id-22\" type=\"checkbox\" ><label for=\"sk-estimator-id-22\" class=\"sk-toggleable__label sk-toggleable__label-arrow\">preprocessor: ColumnTransformer</label><div class=\"sk-toggleable__content\"><pre>ColumnTransformer(transformers=[(&#x27;numerical&#x27;,\n",
       "                                 Pipeline(steps=[(&#x27;imputer&#x27;, SimpleImputer()),\n",
       "                                                 (&#x27;scaler&#x27;, StandardScaler())]),\n",
       "                                 [&#x27;distance&#x27;, &#x27;minute&#x27;, &#x27;shot_angle&#x27;]),\n",
       "                                (&#x27;nominal&#x27;,\n",
       "                                 Pipeline(steps=[(&#x27;imputer&#x27;,\n",
       "                                                  SimpleImputer(strategy=&#x27;most_frequent&#x27;)),\n",
       "                                                 (&#x27;target_encoder&#x27;,\n",
       "                                                  OrdinalEncoder()),\n",
       "                                                 (&#x27;scaler&#x27;, StandardScaler())]),\n",
       "                                 [&#x27;shot_technique&#x27;, &#x27;shot_type&#x27;,\n",
       "                                  &#x27;shot_body_part&#x27;, &#x27;position&#x27;,\n",
       "                                  &#x27;shot_first_time&#x27;, &#x27;position&#x27;])])</pre></div></div></div><div class=\"sk-parallel\"><div class=\"sk-parallel-item\"><div class=\"sk-item\"><div class=\"sk-label-container\"><div class=\"sk-label sk-toggleable\"><input class=\"sk-toggleable__control sk-hidden--visually\" id=\"sk-estimator-id-23\" type=\"checkbox\" ><label for=\"sk-estimator-id-23\" class=\"sk-toggleable__label sk-toggleable__label-arrow\">numerical</label><div class=\"sk-toggleable__content\"><pre>[&#x27;distance&#x27;, &#x27;minute&#x27;, &#x27;shot_angle&#x27;]</pre></div></div></div><div class=\"sk-serial\"><div class=\"sk-item\"><div class=\"sk-serial\"><div class=\"sk-item\"><div class=\"sk-estimator sk-toggleable\"><input class=\"sk-toggleable__control sk-hidden--visually\" id=\"sk-estimator-id-24\" type=\"checkbox\" ><label for=\"sk-estimator-id-24\" class=\"sk-toggleable__label sk-toggleable__label-arrow\">SimpleImputer</label><div class=\"sk-toggleable__content\"><pre>SimpleImputer()</pre></div></div></div><div class=\"sk-item\"><div class=\"sk-estimator sk-toggleable\"><input class=\"sk-toggleable__control sk-hidden--visually\" id=\"sk-estimator-id-25\" type=\"checkbox\" ><label for=\"sk-estimator-id-25\" class=\"sk-toggleable__label sk-toggleable__label-arrow\">StandardScaler</label><div class=\"sk-toggleable__content\"><pre>StandardScaler()</pre></div></div></div></div></div></div></div></div><div class=\"sk-parallel-item\"><div class=\"sk-item\"><div class=\"sk-label-container\"><div class=\"sk-label sk-toggleable\"><input class=\"sk-toggleable__control sk-hidden--visually\" id=\"sk-estimator-id-26\" type=\"checkbox\" ><label for=\"sk-estimator-id-26\" class=\"sk-toggleable__label sk-toggleable__label-arrow\">nominal</label><div class=\"sk-toggleable__content\"><pre>[&#x27;shot_technique&#x27;, &#x27;shot_type&#x27;, &#x27;shot_body_part&#x27;, &#x27;position&#x27;, &#x27;shot_first_time&#x27;, &#x27;position&#x27;]</pre></div></div></div><div class=\"sk-serial\"><div class=\"sk-item\"><div class=\"sk-serial\"><div class=\"sk-item\"><div class=\"sk-estimator sk-toggleable\"><input class=\"sk-toggleable__control sk-hidden--visually\" id=\"sk-estimator-id-27\" type=\"checkbox\" ><label for=\"sk-estimator-id-27\" class=\"sk-toggleable__label sk-toggleable__label-arrow\">SimpleImputer</label><div class=\"sk-toggleable__content\"><pre>SimpleImputer(strategy=&#x27;most_frequent&#x27;)</pre></div></div></div><div class=\"sk-item\"><div class=\"sk-estimator sk-toggleable\"><input class=\"sk-toggleable__control sk-hidden--visually\" id=\"sk-estimator-id-28\" type=\"checkbox\" ><label for=\"sk-estimator-id-28\" class=\"sk-toggleable__label sk-toggleable__label-arrow\">OrdinalEncoder</label><div class=\"sk-toggleable__content\"><pre>OrdinalEncoder()</pre></div></div></div><div class=\"sk-item\"><div class=\"sk-estimator sk-toggleable\"><input class=\"sk-toggleable__control sk-hidden--visually\" id=\"sk-estimator-id-29\" type=\"checkbox\" ><label for=\"sk-estimator-id-29\" class=\"sk-toggleable__label sk-toggleable__label-arrow\">StandardScaler</label><div class=\"sk-toggleable__content\"><pre>StandardScaler()</pre></div></div></div></div></div></div></div></div></div></div><div class=\"sk-item\"><div class=\"sk-estimator sk-toggleable\"><input class=\"sk-toggleable__control sk-hidden--visually\" id=\"sk-estimator-id-30\" type=\"checkbox\" ><label for=\"sk-estimator-id-30\" class=\"sk-toggleable__label sk-toggleable__label-arrow\">RandomForestClassifier</label><div class=\"sk-toggleable__content\"><pre>RandomForestClassifier(max_leaf_nodes=16, n_estimators=500, n_jobs=-1,\n",
       "                       random_state=42)</pre></div></div></div></div></div></div></div>"
      ],
      "text/plain": [
       "Pipeline(steps=[('preprocessor',\n",
       "                 ColumnTransformer(transformers=[('numerical',\n",
       "                                                  Pipeline(steps=[('imputer',\n",
       "                                                                   SimpleImputer()),\n",
       "                                                                  ('scaler',\n",
       "                                                                   StandardScaler())]),\n",
       "                                                  ['distance', 'minute',\n",
       "                                                   'shot_angle']),\n",
       "                                                 ('nominal',\n",
       "                                                  Pipeline(steps=[('imputer',\n",
       "                                                                   SimpleImputer(strategy='most_frequent')),\n",
       "                                                                  ('target_encoder',\n",
       "                                                                   OrdinalEncoder()),\n",
       "                                                                  ('scaler',\n",
       "                                                                   StandardScaler())]),\n",
       "                                                  ['shot_technique',\n",
       "                                                   'shot_type',\n",
       "                                                   'shot_body_part', 'position',\n",
       "                                                   'shot_first_time',\n",
       "                                                   'position'])])),\n",
       "                ('estimator',\n",
       "                 RandomForestClassifier(max_leaf_nodes=16, n_estimators=500,\n",
       "                                        n_jobs=-1, random_state=42))])"
      ]
     },
     "execution_count": 60,
     "metadata": {},
     "output_type": "execute_result"
    }
   ],
   "source": [
    "composite_estimator.fit(train_cap_x_df, train_y_df.values.ravel())"
   ]
  },
  {
   "cell_type": "code",
   "execution_count": 61,
   "id": "7e37c384",
   "metadata": {},
   "outputs": [
    {
     "data": {
      "text/plain": [
       "array([[0.94783279, 0.05216721],\n",
       "       [0.94352143, 0.05647857],\n",
       "       [0.91380794, 0.08619206],\n",
       "       ...,\n",
       "       [0.89202894, 0.10797106],\n",
       "       [0.4485449 , 0.5514551 ],\n",
       "       [0.94390986, 0.05609014]])"
      ]
     },
     "execution_count": 61,
     "metadata": {},
     "output_type": "execute_result"
    }
   ],
   "source": [
    "composite_estimator.predict_proba(train_cap_x_df)"
   ]
  },
  {
   "cell_type": "code",
   "execution_count": 62,
   "id": "f7d194b4",
   "metadata": {},
   "outputs": [
    {
     "name": "stdout",
     "output_type": "stream",
     "text": [
      "Training set actual goal information\n",
      "shot_outcome\n",
      "0    5590\n",
      "1     670\n",
      "Name: count, dtype: int64\n",
      "Training set naive model total xG 667.2661086929527\n",
      "Training set Statsbomb total xG: 663.6382313521016\n"
     ]
    }
   ],
   "source": [
    "print(\"Training set actual goal information\")\n",
    "print(train_y_df[target_attr].value_counts())\n",
    "print(\"Training set naive model total xG\",sum(composite_estimator.predict_proba(train_cap_x_df)[:,1]))\n",
    "print(\"Training set Statsbomb total xG:\", sum(train_cap_x_df['shot_statsbomb_xg']))"
   ]
  },
  {
   "cell_type": "code",
   "execution_count": 63,
   "id": "fcf2e52b",
   "metadata": {},
   "outputs": [],
   "source": [
    "def plot_comparison(model1, model1_name, model2, model2_name, outcome):\n",
    "    plt.scatter(model1, model2,c=outcome)\n",
    "    plt.xlabel(model1_name)\n",
    "    plt.ylabel(model2_name)\n",
    "    plt.xlim(0,1.1)\n",
    "    plt.ylim(0,1.1)\n",
    "    #.legend(label=outcome\n",
    "    z = np.polyfit(model1, model2,1)\n",
    "    p = np.poly1d(z)\n",
    "    plt.plot(model1, p(model1),\"r--\")\n",
    "    print(\"y=%.2fx+%.2f\"%(z[0],z[1]))\n",
    "    print(\"$R^2$=\", r2_score(model1,model2))"
   ]
  },
  {
   "cell_type": "code",
   "execution_count": 64,
   "id": "26ee4567",
   "metadata": {},
   "outputs": [
    {
     "data": {
      "text/plain": [
       "array(['Open Play', 'Free Kick', 'Penalty'], dtype=object)"
      ]
     },
     "execution_count": 64,
     "metadata": {},
     "output_type": "execute_result"
    }
   ],
   "source": [
    "pd.unique(Bundesliga_shots_df['shot_type'])"
   ]
  },
  {
   "cell_type": "code",
   "execution_count": 65,
   "id": "cb8ee2da",
   "metadata": {},
   "outputs": [],
   "source": [
    "test_predictions = composite_estimator.predict_proba(test_cap_x_df)"
   ]
  },
  {
   "cell_type": "code",
   "execution_count": 66,
   "id": "77b770c9",
   "metadata": {},
   "outputs": [
    {
     "name": "stdout",
     "output_type": "stream",
     "text": [
      "Test set actual goal information\n",
      "shot_outcome\n",
      "0    1398\n",
      "1     167\n",
      "Name: count, dtype: int64\n",
      "Test set naive model total xG 163.39292946657082\n",
      "Statsbomb total xG: 167.06751874890048\n"
     ]
    }
   ],
   "source": [
    "print(\"Test set actual goal information\")\n",
    "print(test_y_df[target_attr].value_counts())\n",
    "print(\"Test set naive model total xG\", sum(test_predictions[:,1]))\n",
    "print(\"Statsbomb total xG:\", sum(test_cap_x_df['shot_statsbomb_xg']))"
   ]
  },
  {
   "cell_type": "code",
   "execution_count": 67,
   "id": "98ca208a",
   "metadata": {},
   "outputs": [
    {
     "name": "stdout",
     "output_type": "stream",
     "text": [
      "shot_outcome\n",
      "0    1398\n",
      "1     167\n",
      "Name: count, dtype: int64\n"
     ]
    }
   ],
   "source": [
    "print(test_y_df[target_attr].value_counts())"
   ]
  },
  {
   "cell_type": "code",
   "execution_count": 68,
   "id": "82b78d64",
   "metadata": {},
   "outputs": [
    {
     "name": "stdout",
     "output_type": "stream",
     "text": [
      "Statsbomb total xG: 167.06751874890048\n"
     ]
    }
   ],
   "source": [
    "print(\"Statsbomb total xG:\", sum(test_cap_x_df['shot_statsbomb_xg']))"
   ]
  },
  {
   "cell_type": "code",
   "execution_count": 69,
   "id": "fb84e0d6",
   "metadata": {},
   "outputs": [],
   "source": [
    "SBModel = test_cap_x_df['shot_statsbomb_xg']\n",
    "proposed_model = test_predictions[:,1]\n",
    "shot_outcome = test_y_df[target_attr]"
   ]
  },
  {
   "cell_type": "code",
   "execution_count": 70,
   "id": "c78fc58b",
   "metadata": {
    "scrolled": false
   },
   "outputs": [
    {
     "name": "stdout",
     "output_type": "stream",
     "text": [
      "y=1.30x+-0.03\n",
      "$R^2$= -0.14682261942018182\n"
     ]
    },
    {
     "data": {
      "image/png": "[encoded data removed]",
      "text/plain": [
       "<Figure size 640x480 with 1 Axes>"
      ]
     },
     "metadata": {},
     "output_type": "display_data"
    }
   ],
   "source": [
    "plot_comparison(proposed_model, \"Proposed Model\", SBModel, 'Statsbomb xG', shot_outcome)"
   ]
  }
 ],
 "metadata": {
  "kernelspec": {
   "display_name": "Python(dsc)",
   "language": "python",
   "name": "dsc"
  },
  "language_info": {
   "codemirror_mode": {
    "name": "ipython",
    "version": 3
   },
   "file_extension": ".py",
   "mimetype": "text/x-python",
   "name": "python",
   "nbconvert_exporter": "python",
   "pygments_lexer": "ipython3",
   "version": "3.10.13"
  }
 },
 "nbformat": 4,
 "nbformat_minor": 5
}
