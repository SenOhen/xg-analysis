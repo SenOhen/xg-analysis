{
 "cells": [
  {
   "cell_type": "code",
   "execution_count": 39,
   "id": "67dcb23a",
   "metadata": {},
   "outputs": [],
   "source": [
    "from statsbombpy import sb\n",
    "\n",
    "import pandas as pd\n",
    "\n",
    "import json\n",
    "\n",
    "from sklearn.compose import ColumnTransformer\n",
    "from sklearn.impute import SimpleImputer\n",
    "from sklearn.linear_model import LogisticRegression\n",
    "from sklearn.model_selection import train_test_split\n",
    "from sklearn.metrics import classification_report, confusion_matrix\n",
    "from sklearn.pipeline import Pipeline\n",
    "from sklearn.preprocessing import LabelEncoder, StandardScaler, OneHotEncoder, OrdinalEncoder\n",
    "#from sklearn.preprocessing import TargetEncoder\n",
    "\n",
    "import numpy as np\n",
    "import time\n",
    "import warnings\n",
    "warnings.filterwarnings('ignore')"
   ]
  },
  {
   "cell_type": "code",
   "execution_count": 2,
   "id": "47d34770",
   "metadata": {},
   "outputs": [],
   "source": [
    "from bs4 import BeautifulSoup\n",
    "import requests"
   ]
  },
  {
   "cell_type": "code",
   "execution_count": 3,
   "id": "30b973b4",
   "metadata": {},
   "outputs": [],
   "source": [
    "competitions = sb.competitions()"
   ]
  },
  {
   "cell_type": "code",
   "execution_count": 4,
   "id": "7d0fb9ad",
   "metadata": {},
   "outputs": [],
   "source": [
    "#competitions"
   ]
  },
  {
   "cell_type": "code",
   "execution_count": 5,
   "id": "15d76294",
   "metadata": {},
   "outputs": [],
   "source": [
    "#competitions['competition_name'].unique()"
   ]
  },
  {
   "cell_type": "code",
   "execution_count": 6,
   "id": "e829959a",
   "metadata": {},
   "outputs": [
    {
     "data": {
      "text/html": [
       "<div>\n",
       "<style scoped>\n",
       "    .dataframe tbody tr th:only-of-type {\n",
       "        vertical-align: middle;\n",
       "    }\n",
       "\n",
       "    .dataframe tbody tr th {\n",
       "        vertical-align: top;\n",
       "    }\n",
       "\n",
       "    .dataframe thead th {\n",
       "        text-align: right;\n",
       "    }\n",
       "</style>\n",
       "<table border=\"1\" class=\"dataframe\">\n",
       "  <thead>\n",
       "    <tr style=\"text-align: right;\">\n",
       "      <th></th>\n",
       "      <th>competition_id</th>\n",
       "      <th>season_id</th>\n",
       "      <th>country_name</th>\n",
       "      <th>competition_name</th>\n",
       "      <th>competition_gender</th>\n",
       "      <th>competition_youth</th>\n",
       "      <th>competition_international</th>\n",
       "      <th>season_name</th>\n",
       "      <th>match_updated</th>\n",
       "      <th>match_updated_360</th>\n",
       "      <th>match_available_360</th>\n",
       "      <th>match_available</th>\n",
       "    </tr>\n",
       "  </thead>\n",
       "  <tbody>\n",
       "    <tr>\n",
       "      <th>0</th>\n",
       "      <td>9</td>\n",
       "      <td>27</td>\n",
       "      <td>Germany</td>\n",
       "      <td>1. Bundesliga</td>\n",
       "      <td>male</td>\n",
       "      <td>False</td>\n",
       "      <td>False</td>\n",
       "      <td>2015/2016</td>\n",
       "      <td>2023-12-12T07:43:33.436182</td>\n",
       "      <td>None</td>\n",
       "      <td>None</td>\n",
       "      <td>2023-12-12T07:43:33.436182</td>\n",
       "    </tr>\n",
       "    <tr>\n",
       "      <th>41</th>\n",
       "      <td>11</td>\n",
       "      <td>27</td>\n",
       "      <td>Spain</td>\n",
       "      <td>La Liga</td>\n",
       "      <td>male</td>\n",
       "      <td>False</td>\n",
       "      <td>False</td>\n",
       "      <td>2015/2016</td>\n",
       "      <td>2023-09-20T17:21:32.111535</td>\n",
       "      <td>2021-06-13T16:17:31.694</td>\n",
       "      <td>None</td>\n",
       "      <td>2023-09-20T17:21:32.111535</td>\n",
       "    </tr>\n",
       "    <tr>\n",
       "      <th>58</th>\n",
       "      <td>7</td>\n",
       "      <td>27</td>\n",
       "      <td>France</td>\n",
       "      <td>Ligue 1</td>\n",
       "      <td>male</td>\n",
       "      <td>False</td>\n",
       "      <td>False</td>\n",
       "      <td>2015/2016</td>\n",
       "      <td>2023-12-13T00:27:57.162379</td>\n",
       "      <td>None</td>\n",
       "      <td>None</td>\n",
       "      <td>2023-12-13T00:27:57.162379</td>\n",
       "    </tr>\n",
       "    <tr>\n",
       "      <th>62</th>\n",
       "      <td>2</td>\n",
       "      <td>27</td>\n",
       "      <td>England</td>\n",
       "      <td>Premier League</td>\n",
       "      <td>male</td>\n",
       "      <td>False</td>\n",
       "      <td>False</td>\n",
       "      <td>2015/2016</td>\n",
       "      <td>2023-11-14T11:25:33.476498</td>\n",
       "      <td>2021-06-13T16:17:31.694</td>\n",
       "      <td>None</td>\n",
       "      <td>2023-11-14T11:25:33.476498</td>\n",
       "    </tr>\n",
       "    <tr>\n",
       "      <th>64</th>\n",
       "      <td>12</td>\n",
       "      <td>27</td>\n",
       "      <td>Italy</td>\n",
       "      <td>Serie A</td>\n",
       "      <td>male</td>\n",
       "      <td>False</td>\n",
       "      <td>False</td>\n",
       "      <td>2015/2016</td>\n",
       "      <td>2023-12-13T17:32:46.423081</td>\n",
       "      <td>None</td>\n",
       "      <td>None</td>\n",
       "      <td>2023-12-13T17:32:46.423081</td>\n",
       "    </tr>\n",
       "  </tbody>\n",
       "</table>\n",
       "</div>"
      ],
      "text/plain": [
       "    competition_id  season_id country_name competition_name  \\\n",
       "0                9         27      Germany    1. Bundesliga   \n",
       "41              11         27        Spain          La Liga   \n",
       "58               7         27       France          Ligue 1   \n",
       "62               2         27      England   Premier League   \n",
       "64              12         27        Italy          Serie A   \n",
       "\n",
       "   competition_gender  competition_youth  competition_international  \\\n",
       "0                male              False                      False   \n",
       "41               male              False                      False   \n",
       "58               male              False                      False   \n",
       "62               male              False                      False   \n",
       "64               male              False                      False   \n",
       "\n",
       "   season_name               match_updated        match_updated_360  \\\n",
       "0    2015/2016  2023-12-12T07:43:33.436182                     None   \n",
       "41   2015/2016  2023-09-20T17:21:32.111535  2021-06-13T16:17:31.694   \n",
       "58   2015/2016  2023-12-13T00:27:57.162379                     None   \n",
       "62   2015/2016  2023-11-14T11:25:33.476498  2021-06-13T16:17:31.694   \n",
       "64   2015/2016  2023-12-13T17:32:46.423081                     None   \n",
       "\n",
       "   match_available_360             match_available  \n",
       "0                 None  2023-12-12T07:43:33.436182  \n",
       "41                None  2023-09-20T17:21:32.111535  \n",
       "58                None  2023-12-13T00:27:57.162379  \n",
       "62                None  2023-11-14T11:25:33.476498  \n",
       "64                None  2023-12-13T17:32:46.423081  "
      ]
     },
     "execution_count": 6,
     "metadata": {},
     "output_type": "execute_result"
    }
   ],
   "source": [
    "competitions[\n",
    "    (competitions['competition_name'].isin([\n",
    "    'Premier League', '1. Bundesliga', 'La Liga', 'Ligue 1', 'Serie A']))\n",
    "             & \n",
    "    (competitions['season_name']=='2015/2016')\n",
    "            ]"
   ]
  },
  {
   "cell_type": "code",
   "execution_count": 7,
   "id": "cabb5787",
   "metadata": {},
   "outputs": [],
   "source": [
    "#competitions[competitions['competition_name']=='Champions League']"
   ]
  },
  {
   "cell_type": "code",
   "execution_count": 8,
   "id": "0244fc01",
   "metadata": {},
   "outputs": [],
   "source": [
    "PremierLeague = sb.matches(competition_id=2, season_id=27)\n",
    "#PremierLeague"
   ]
  },
  {
   "cell_type": "code",
   "execution_count": 9,
   "id": "a844f0f1",
   "metadata": {},
   "outputs": [
    {
     "name": "stdout",
     "output_type": "stream",
     "text": [
      "script run time: 0.18485538164774576 minutes\n"
     ]
    },
    {
     "data": {
      "text/html": [
       "<div>\n",
       "<style scoped>\n",
       "    .dataframe tbody tr th:only-of-type {\n",
       "        vertical-align: middle;\n",
       "    }\n",
       "\n",
       "    .dataframe tbody tr th {\n",
       "        vertical-align: top;\n",
       "    }\n",
       "\n",
       "    .dataframe thead th {\n",
       "        text-align: right;\n",
       "    }\n",
       "</style>\n",
       "<table border=\"1\" class=\"dataframe\">\n",
       "  <thead>\n",
       "    <tr style=\"text-align: right;\">\n",
       "      <th></th>\n",
       "      <th>minute</th>\n",
       "      <th>team</th>\n",
       "      <th>shot_statsbomb_xg</th>\n",
       "      <th>location</th>\n",
       "      <th>shot_body_part</th>\n",
       "      <th>shot_end_location</th>\n",
       "      <th>shot_first_time</th>\n",
       "      <th>shot_technique</th>\n",
       "      <th>shot_type</th>\n",
       "      <th>type</th>\n",
       "      <th>shot_outcome</th>\n",
       "      <th>distance</th>\n",
       "    </tr>\n",
       "  </thead>\n",
       "  <tbody>\n",
       "    <tr>\n",
       "      <th>0</th>\n",
       "      <td>1</td>\n",
       "      <td>AFC Bournemouth</td>\n",
       "      <td>0.020838</td>\n",
       "      <td>[107.1, 26.6]</td>\n",
       "      <td>Right Foot</td>\n",
       "      <td>[109.7, 30.1]</td>\n",
       "      <td>NaN</td>\n",
       "      <td>Normal</td>\n",
       "      <td>Open Play</td>\n",
       "      <td>Shot</td>\n",
       "      <td>0</td>\n",
       "      <td>18.600269</td>\n",
       "    </tr>\n",
       "    <tr>\n",
       "      <th>1</th>\n",
       "      <td>4</td>\n",
       "      <td>AFC Bournemouth</td>\n",
       "      <td>0.034462</td>\n",
       "      <td>[113.7, 54.0]</td>\n",
       "      <td>Right Foot</td>\n",
       "      <td>[114.5, 52.6]</td>\n",
       "      <td>NaN</td>\n",
       "      <td>Normal</td>\n",
       "      <td>Open Play</td>\n",
       "      <td>Shot</td>\n",
       "      <td>0</td>\n",
       "      <td>15.352199</td>\n",
       "    </tr>\n",
       "    <tr>\n",
       "      <th>2</th>\n",
       "      <td>9</td>\n",
       "      <td>Leicester City</td>\n",
       "      <td>0.035481</td>\n",
       "      <td>[115.7, 50.5]</td>\n",
       "      <td>Left Foot</td>\n",
       "      <td>[120.0, 43.3, 3.6]</td>\n",
       "      <td>True</td>\n",
       "      <td>Overhead Kick</td>\n",
       "      <td>Open Play</td>\n",
       "      <td>Shot</td>\n",
       "      <td>0</td>\n",
       "      <td>11.346365</td>\n",
       "    </tr>\n",
       "    <tr>\n",
       "      <th>3</th>\n",
       "      <td>13</td>\n",
       "      <td>AFC Bournemouth</td>\n",
       "      <td>0.383711</td>\n",
       "      <td>[113.9, 38.6]</td>\n",
       "      <td>Head</td>\n",
       "      <td>[120.0, 46.0, 1.2]</td>\n",
       "      <td>NaN</td>\n",
       "      <td>Normal</td>\n",
       "      <td>Open Play</td>\n",
       "      <td>Shot</td>\n",
       "      <td>0</td>\n",
       "      <td>6.258594</td>\n",
       "    </tr>\n",
       "    <tr>\n",
       "      <th>4</th>\n",
       "      <td>25</td>\n",
       "      <td>Leicester City</td>\n",
       "      <td>0.036740</td>\n",
       "      <td>[96.7, 47.2]</td>\n",
       "      <td>Right Foot</td>\n",
       "      <td>[103.9, 40.1]</td>\n",
       "      <td>NaN</td>\n",
       "      <td>Half Volley</td>\n",
       "      <td>Open Play</td>\n",
       "      <td>Shot</td>\n",
       "      <td>0</td>\n",
       "      <td>24.387087</td>\n",
       "    </tr>\n",
       "    <tr>\n",
       "      <th>...</th>\n",
       "      <td>...</td>\n",
       "      <td>...</td>\n",
       "      <td>...</td>\n",
       "      <td>...</td>\n",
       "      <td>...</td>\n",
       "      <td>...</td>\n",
       "      <td>...</td>\n",
       "      <td>...</td>\n",
       "      <td>...</td>\n",
       "      <td>...</td>\n",
       "      <td>...</td>\n",
       "      <td>...</td>\n",
       "    </tr>\n",
       "    <tr>\n",
       "      <th>236</th>\n",
       "      <td>81</td>\n",
       "      <td>Crystal Palace</td>\n",
       "      <td>0.400244</td>\n",
       "      <td>[113.5, 40.8]</td>\n",
       "      <td>Right Foot</td>\n",
       "      <td>[113.6, 42.3]</td>\n",
       "      <td>True</td>\n",
       "      <td>Volley</td>\n",
       "      <td>Open Play</td>\n",
       "      <td>Shot</td>\n",
       "      <td>0</td>\n",
       "      <td>6.549046</td>\n",
       "    </tr>\n",
       "    <tr>\n",
       "      <th>237</th>\n",
       "      <td>81</td>\n",
       "      <td>Crystal Palace</td>\n",
       "      <td>0.098340</td>\n",
       "      <td>[111.7, 40.0]</td>\n",
       "      <td>Head</td>\n",
       "      <td>[120.0, 44.1, 4.5]</td>\n",
       "      <td>NaN</td>\n",
       "      <td>Normal</td>\n",
       "      <td>Open Play</td>\n",
       "      <td>Shot</td>\n",
       "      <td>0</td>\n",
       "      <td>8.300000</td>\n",
       "    </tr>\n",
       "    <tr>\n",
       "      <th>238</th>\n",
       "      <td>83</td>\n",
       "      <td>Everton</td>\n",
       "      <td>0.022453</td>\n",
       "      <td>[89.8, 42.8]</td>\n",
       "      <td>Left Foot</td>\n",
       "      <td>[117.4, 39.6, 2.0]</td>\n",
       "      <td>NaN</td>\n",
       "      <td>Normal</td>\n",
       "      <td>Open Play</td>\n",
       "      <td>Shot</td>\n",
       "      <td>0</td>\n",
       "      <td>30.329524</td>\n",
       "    </tr>\n",
       "    <tr>\n",
       "      <th>239</th>\n",
       "      <td>86</td>\n",
       "      <td>Crystal Palace</td>\n",
       "      <td>0.448667</td>\n",
       "      <td>[115.9, 37.0]</td>\n",
       "      <td>Head</td>\n",
       "      <td>[120.0, 34.7, 3.5]</td>\n",
       "      <td>NaN</td>\n",
       "      <td>Normal</td>\n",
       "      <td>Open Play</td>\n",
       "      <td>Shot</td>\n",
       "      <td>0</td>\n",
       "      <td>5.080354</td>\n",
       "    </tr>\n",
       "    <tr>\n",
       "      <th>240</th>\n",
       "      <td>89</td>\n",
       "      <td>Crystal Palace</td>\n",
       "      <td>0.044249</td>\n",
       "      <td>[98.5, 46.6]</td>\n",
       "      <td>Right Foot</td>\n",
       "      <td>[103.5, 45.9]</td>\n",
       "      <td>NaN</td>\n",
       "      <td>Normal</td>\n",
       "      <td>Open Play</td>\n",
       "      <td>Shot</td>\n",
       "      <td>0</td>\n",
       "      <td>22.490220</td>\n",
       "    </tr>\n",
       "  </tbody>\n",
       "</table>\n",
       "<p>241 rows × 12 columns</p>\n",
       "</div>"
      ],
      "text/plain": [
       "    minute             team  shot_statsbomb_xg       location shot_body_part  \\\n",
       "0        1  AFC Bournemouth           0.020838  [107.1, 26.6]     Right Foot   \n",
       "1        4  AFC Bournemouth           0.034462  [113.7, 54.0]     Right Foot   \n",
       "2        9   Leicester City           0.035481  [115.7, 50.5]      Left Foot   \n",
       "3       13  AFC Bournemouth           0.383711  [113.9, 38.6]           Head   \n",
       "4       25   Leicester City           0.036740   [96.7, 47.2]     Right Foot   \n",
       "..     ...              ...                ...            ...            ...   \n",
       "236     81   Crystal Palace           0.400244  [113.5, 40.8]     Right Foot   \n",
       "237     81   Crystal Palace           0.098340  [111.7, 40.0]           Head   \n",
       "238     83          Everton           0.022453   [89.8, 42.8]      Left Foot   \n",
       "239     86   Crystal Palace           0.448667  [115.9, 37.0]           Head   \n",
       "240     89   Crystal Palace           0.044249   [98.5, 46.6]     Right Foot   \n",
       "\n",
       "      shot_end_location shot_first_time shot_technique  shot_type  type  \\\n",
       "0         [109.7, 30.1]             NaN         Normal  Open Play  Shot   \n",
       "1         [114.5, 52.6]             NaN         Normal  Open Play  Shot   \n",
       "2    [120.0, 43.3, 3.6]            True  Overhead Kick  Open Play  Shot   \n",
       "3    [120.0, 46.0, 1.2]             NaN         Normal  Open Play  Shot   \n",
       "4         [103.9, 40.1]             NaN    Half Volley  Open Play  Shot   \n",
       "..                  ...             ...            ...        ...   ...   \n",
       "236       [113.6, 42.3]            True         Volley  Open Play  Shot   \n",
       "237  [120.0, 44.1, 4.5]             NaN         Normal  Open Play  Shot   \n",
       "238  [117.4, 39.6, 2.0]             NaN         Normal  Open Play  Shot   \n",
       "239  [120.0, 34.7, 3.5]             NaN         Normal  Open Play  Shot   \n",
       "240       [103.5, 45.9]             NaN         Normal  Open Play  Shot   \n",
       "\n",
       "     shot_outcome   distance  \n",
       "0               0  18.600269  \n",
       "1               0  15.352199  \n",
       "2               0  11.346365  \n",
       "3               0   6.258594  \n",
       "4               0  24.387087  \n",
       "..            ...        ...  \n",
       "236             0   6.549046  \n",
       "237             0   8.300000  \n",
       "238             0  30.329524  \n",
       "239             0   5.080354  \n",
       "240             0  22.490220  \n",
       "\n",
       "[241 rows x 12 columns]"
      ]
     },
     "execution_count": 9,
     "metadata": {},
     "output_type": "execute_result"
    }
   ],
   "source": [
    "relevant_attributes = ['minute', 'team', 'shot_statsbomb_xg', 'location', 'shot_body_part',\n",
    "       'shot_end_location', 'shot_first_time', \n",
    "         'shot_technique',\n",
    "       'shot_type', 'type','shot_outcome']\n",
    "\n",
    "league_df = pd.DataFrame(columns=relevant_attributes)\n",
    "start = time.time()\n",
    "for match in PremierLeague['match_id'][:10]:\n",
    "    match_df = sb.events(match_id=match)\n",
    "    #relevant_match_df = match_df[relevant_attributes].dropna(subset=['shot_statsbomb_xg'])\n",
    "    relevant_match_df = match_df[relevant_attributes][match_df['type']=='Shot']\n",
    "    #relevant_match_df = match_df[match_df['type']=='Shot']\n",
    "    league_df = pd.concat([league_df, relevant_match_df], ignore_index=True)\n",
    "# league_df\n",
    "#\n",
    "#print(PremierLeague['match_id'][0:10])\n",
    "end = time.time()\n",
    "print(f'script run time: {(end - start)/60} minutes')\n",
    "league_df['shot_outcome'] = league_df['shot_outcome'].replace(to_replace={'Off T': 0, 'Blocked': 0, 'Saved': 0, 'Goal': 1, 'Wayward': 0, 'Post': 0,\n",
    "               'Saved to Post': 0, 'Saved Off Target': 0})\n",
    "\n",
    "league_df['distance'] = league_df.apply(lambda row: np.sqrt(np.abs(row.location[0]-120)**2 + \n",
    "                                                     np.abs(row.location[1]-40)**2), axis=1)\n",
    "league_df"
   ]
  },
  {
   "cell_type": "code",
   "execution_count": 10,
   "id": "a2bf287d",
   "metadata": {},
   "outputs": [
    {
     "data": {
      "text/plain": [
       "shot_outcome\n",
       "0    224\n",
       "1     17\n",
       "Name: count, dtype: int64"
      ]
     },
     "execution_count": 10,
     "metadata": {},
     "output_type": "execute_result"
    }
   ],
   "source": [
    "league_df['shot_outcome'].value_counts()"
   ]
  },
  {
   "cell_type": "code",
   "execution_count": 11,
   "id": "b7348c3e",
   "metadata": {},
   "outputs": [
    {
     "data": {
      "text/plain": [
       "25.524680622199995"
      ]
     },
     "execution_count": 11,
     "metadata": {},
     "output_type": "execute_result"
    }
   ],
   "source": [
    "sum(league_df['shot_statsbomb_xg'])"
   ]
  },
  {
   "cell_type": "code",
   "execution_count": 13,
   "id": "ad5d008b",
   "metadata": {},
   "outputs": [],
   "source": [
    "cap_x_df, y_df = pd.concat([league_df.iloc[:,:-2], league_df.iloc[:,-1]], axis=1), league_df.iloc[:,-2].to_frame()"
   ]
  },
  {
   "cell_type": "code",
   "execution_count": 14,
   "id": "e78fe3a4",
   "metadata": {},
   "outputs": [],
   "source": [
    "train_cap_x_df, test_cap_x_df, train_y_df, test_y_df = \\\n",
    "train_test_split(cap_x_df, y_df,\n",
    "                 test_size=0.20,\n",
    "                random_state=42,\n",
    "                 shuffle=True,\n",
    "                stratify=y_df)"
   ]
  },
  {
   "cell_type": "code",
   "execution_count": 15,
   "id": "1ecb013b",
   "metadata": {},
   "outputs": [],
   "source": [
    "target_attr = 'shot_outcome'"
   ]
  },
  {
   "cell_type": "code",
   "execution_count": 16,
   "id": "19ca5dd3",
   "metadata": {},
   "outputs": [],
   "source": [
    "numerical_attrs = ['distance']"
   ]
  },
  {
   "cell_type": "code",
   "execution_count": 17,
   "id": "428553b4",
   "metadata": {},
   "outputs": [],
   "source": [
    "nominal_attrs = ['shot_technique', 'shot_type', 'shot_body_part']"
   ]
  },
  {
   "cell_type": "code",
   "execution_count": 18,
   "id": "719fb4b5",
   "metadata": {},
   "outputs": [],
   "source": [
    "numerical_transformer = Pipeline(\n",
    "        steps=[(\"imputer\", SimpleImputer()),\n",
    "               (\"scaler\", StandardScaler())]\n",
    "    )"
   ]
  },
  {
   "cell_type": "code",
   "execution_count": 27,
   "id": "924fde4f",
   "metadata": {},
   "outputs": [],
   "source": [
    "nominal_transformer = Pipeline(\n",
    "        steps=[(\"imputer\", SimpleImputer(strategy=\"most_frequent\")),\n",
    "               #('target_encoder', TargetEncoder(target_type=target_type, random_state=42)),\n",
    "               (\"target_encoder\", OrdinalEncoder()),\n",
    "               (\"scaler\", StandardScaler())\n",
    "               ]\n",
    "    )"
   ]
  },
  {
   "cell_type": "code",
   "execution_count": 28,
   "id": "01ecf6a1",
   "metadata": {},
   "outputs": [],
   "source": [
    "preprocessor = ColumnTransformer(\n",
    "        transformers=[\n",
    "            ('numerical', numerical_transformer, numerical_attrs),\n",
    "            ('nominal', nominal_transformer, nominal_attrs)\n",
    "        ]\n",
    "    )"
   ]
  },
  {
   "cell_type": "code",
   "execution_count": 29,
   "id": "869d0305",
   "metadata": {},
   "outputs": [],
   "source": [
    "estimator = LogisticRegression()"
   ]
  },
  {
   "cell_type": "code",
   "execution_count": 30,
   "id": "b36798eb",
   "metadata": {},
   "outputs": [],
   "source": [
    "composite_estimator = Pipeline(steps=[('preprocessor', preprocessor), ('estimator', estimator)])"
   ]
  },
  {
   "cell_type": "code",
   "execution_count": 31,
   "id": "b7d07e3f",
   "metadata": {},
   "outputs": [
    {
     "data": {
      "text/html": [
       "<style>#sk-container-id-1 {color: black;}#sk-container-id-1 pre{padding: 0;}#sk-container-id-1 div.sk-toggleable {background-color: white;}#sk-container-id-1 label.sk-toggleable__label {cursor: pointer;display: block;width: 100%;margin-bottom: 0;padding: 0.3em;box-sizing: border-box;text-align: center;}#sk-container-id-1 label.sk-toggleable__label-arrow:before {content: \"▸\";float: left;margin-right: 0.25em;color: #696969;}#sk-container-id-1 label.sk-toggleable__label-arrow:hover:before {color: black;}#sk-container-id-1 div.sk-estimator:hover label.sk-toggleable__label-arrow:before {color: black;}#sk-container-id-1 div.sk-toggleable__content {max-height: 0;max-width: 0;overflow: hidden;text-align: left;background-color: #f0f8ff;}#sk-container-id-1 div.sk-toggleable__content pre {margin: 0.2em;color: black;border-radius: 0.25em;background-color: #f0f8ff;}#sk-container-id-1 input.sk-toggleable__control:checked~div.sk-toggleable__content {max-height: 200px;max-width: 100%;overflow: auto;}#sk-container-id-1 input.sk-toggleable__control:checked~label.sk-toggleable__label-arrow:before {content: \"▾\";}#sk-container-id-1 div.sk-estimator input.sk-toggleable__control:checked~label.sk-toggleable__label {background-color: #d4ebff;}#sk-container-id-1 div.sk-label input.sk-toggleable__control:checked~label.sk-toggleable__label {background-color: #d4ebff;}#sk-container-id-1 input.sk-hidden--visually {border: 0;clip: rect(1px 1px 1px 1px);clip: rect(1px, 1px, 1px, 1px);height: 1px;margin: -1px;overflow: hidden;padding: 0;position: absolute;width: 1px;}#sk-container-id-1 div.sk-estimator {font-family: monospace;background-color: #f0f8ff;border: 1px dotted black;border-radius: 0.25em;box-sizing: border-box;margin-bottom: 0.5em;}#sk-container-id-1 div.sk-estimator:hover {background-color: #d4ebff;}#sk-container-id-1 div.sk-parallel-item::after {content: \"\";width: 100%;border-bottom: 1px solid gray;flex-grow: 1;}#sk-container-id-1 div.sk-label:hover label.sk-toggleable__label {background-color: #d4ebff;}#sk-container-id-1 div.sk-serial::before {content: \"\";position: absolute;border-left: 1px solid gray;box-sizing: border-box;top: 0;bottom: 0;left: 50%;z-index: 0;}#sk-container-id-1 div.sk-serial {display: flex;flex-direction: column;align-items: center;background-color: white;padding-right: 0.2em;padding-left: 0.2em;position: relative;}#sk-container-id-1 div.sk-item {position: relative;z-index: 1;}#sk-container-id-1 div.sk-parallel {display: flex;align-items: stretch;justify-content: center;background-color: white;position: relative;}#sk-container-id-1 div.sk-item::before, #sk-container-id-1 div.sk-parallel-item::before {content: \"\";position: absolute;border-left: 1px solid gray;box-sizing: border-box;top: 0;bottom: 0;left: 50%;z-index: -1;}#sk-container-id-1 div.sk-parallel-item {display: flex;flex-direction: column;z-index: 1;position: relative;background-color: white;}#sk-container-id-1 div.sk-parallel-item:first-child::after {align-self: flex-end;width: 50%;}#sk-container-id-1 div.sk-parallel-item:last-child::after {align-self: flex-start;width: 50%;}#sk-container-id-1 div.sk-parallel-item:only-child::after {width: 0;}#sk-container-id-1 div.sk-dashed-wrapped {border: 1px dashed gray;margin: 0 0.4em 0.5em 0.4em;box-sizing: border-box;padding-bottom: 0.4em;background-color: white;}#sk-container-id-1 div.sk-label label {font-family: monospace;font-weight: bold;display: inline-block;line-height: 1.2em;}#sk-container-id-1 div.sk-label-container {text-align: center;}#sk-container-id-1 div.sk-container {/* jupyter's `normalize.less` sets `[hidden] { display: none; }` but bootstrap.min.css set `[hidden] { display: none !important; }` so we also need the `!important` here to be able to override the default hidden behavior on the sphinx rendered scikit-learn.org. See: https://github.com/scikit-learn/scikit-learn/issues/21755 */display: inline-block !important;position: relative;}#sk-container-id-1 div.sk-text-repr-fallback {display: none;}</style><div id=\"sk-container-id-1\" class=\"sk-top-container\"><div class=\"sk-text-repr-fallback\"><pre>Pipeline(steps=[(&#x27;preprocessor&#x27;,\n",
       "                 ColumnTransformer(transformers=[(&#x27;numerical&#x27;,\n",
       "                                                  Pipeline(steps=[(&#x27;imputer&#x27;,\n",
       "                                                                   SimpleImputer()),\n",
       "                                                                  (&#x27;scaler&#x27;,\n",
       "                                                                   StandardScaler())]),\n",
       "                                                  [&#x27;distance&#x27;]),\n",
       "                                                 (&#x27;nominal&#x27;,\n",
       "                                                  Pipeline(steps=[(&#x27;imputer&#x27;,\n",
       "                                                                   SimpleImputer(strategy=&#x27;most_frequent&#x27;)),\n",
       "                                                                  (&#x27;target_encoder&#x27;,\n",
       "                                                                   OrdinalEncoder()),\n",
       "                                                                  (&#x27;scaler&#x27;,\n",
       "                                                                   StandardScaler())]),\n",
       "                                                  [&#x27;shot_technique&#x27;,\n",
       "                                                   &#x27;shot_type&#x27;,\n",
       "                                                   &#x27;shot_body_part&#x27;])])),\n",
       "                (&#x27;estimator&#x27;, LogisticRegression())])</pre><b>In a Jupyter environment, please rerun this cell to show the HTML representation or trust the notebook. <br />On GitHub, the HTML representation is unable to render, please try loading this page with nbviewer.org.</b></div><div class=\"sk-container\" hidden><div class=\"sk-item sk-dashed-wrapped\"><div class=\"sk-label-container\"><div class=\"sk-label sk-toggleable\"><input class=\"sk-toggleable__control sk-hidden--visually\" id=\"sk-estimator-id-1\" type=\"checkbox\" ><label for=\"sk-estimator-id-1\" class=\"sk-toggleable__label sk-toggleable__label-arrow\">Pipeline</label><div class=\"sk-toggleable__content\"><pre>Pipeline(steps=[(&#x27;preprocessor&#x27;,\n",
       "                 ColumnTransformer(transformers=[(&#x27;numerical&#x27;,\n",
       "                                                  Pipeline(steps=[(&#x27;imputer&#x27;,\n",
       "                                                                   SimpleImputer()),\n",
       "                                                                  (&#x27;scaler&#x27;,\n",
       "                                                                   StandardScaler())]),\n",
       "                                                  [&#x27;distance&#x27;]),\n",
       "                                                 (&#x27;nominal&#x27;,\n",
       "                                                  Pipeline(steps=[(&#x27;imputer&#x27;,\n",
       "                                                                   SimpleImputer(strategy=&#x27;most_frequent&#x27;)),\n",
       "                                                                  (&#x27;target_encoder&#x27;,\n",
       "                                                                   OrdinalEncoder()),\n",
       "                                                                  (&#x27;scaler&#x27;,\n",
       "                                                                   StandardScaler())]),\n",
       "                                                  [&#x27;shot_technique&#x27;,\n",
       "                                                   &#x27;shot_type&#x27;,\n",
       "                                                   &#x27;shot_body_part&#x27;])])),\n",
       "                (&#x27;estimator&#x27;, LogisticRegression())])</pre></div></div></div><div class=\"sk-serial\"><div class=\"sk-item sk-dashed-wrapped\"><div class=\"sk-label-container\"><div class=\"sk-label sk-toggleable\"><input class=\"sk-toggleable__control sk-hidden--visually\" id=\"sk-estimator-id-2\" type=\"checkbox\" ><label for=\"sk-estimator-id-2\" class=\"sk-toggleable__label sk-toggleable__label-arrow\">preprocessor: ColumnTransformer</label><div class=\"sk-toggleable__content\"><pre>ColumnTransformer(transformers=[(&#x27;numerical&#x27;,\n",
       "                                 Pipeline(steps=[(&#x27;imputer&#x27;, SimpleImputer()),\n",
       "                                                 (&#x27;scaler&#x27;, StandardScaler())]),\n",
       "                                 [&#x27;distance&#x27;]),\n",
       "                                (&#x27;nominal&#x27;,\n",
       "                                 Pipeline(steps=[(&#x27;imputer&#x27;,\n",
       "                                                  SimpleImputer(strategy=&#x27;most_frequent&#x27;)),\n",
       "                                                 (&#x27;target_encoder&#x27;,\n",
       "                                                  OrdinalEncoder()),\n",
       "                                                 (&#x27;scaler&#x27;, StandardScaler())]),\n",
       "                                 [&#x27;shot_technique&#x27;, &#x27;shot_type&#x27;,\n",
       "                                  &#x27;shot_body_part&#x27;])])</pre></div></div></div><div class=\"sk-parallel\"><div class=\"sk-parallel-item\"><div class=\"sk-item\"><div class=\"sk-label-container\"><div class=\"sk-label sk-toggleable\"><input class=\"sk-toggleable__control sk-hidden--visually\" id=\"sk-estimator-id-3\" type=\"checkbox\" ><label for=\"sk-estimator-id-3\" class=\"sk-toggleable__label sk-toggleable__label-arrow\">numerical</label><div class=\"sk-toggleable__content\"><pre>[&#x27;distance&#x27;]</pre></div></div></div><div class=\"sk-serial\"><div class=\"sk-item\"><div class=\"sk-serial\"><div class=\"sk-item\"><div class=\"sk-estimator sk-toggleable\"><input class=\"sk-toggleable__control sk-hidden--visually\" id=\"sk-estimator-id-4\" type=\"checkbox\" ><label for=\"sk-estimator-id-4\" class=\"sk-toggleable__label sk-toggleable__label-arrow\">SimpleImputer</label><div class=\"sk-toggleable__content\"><pre>SimpleImputer()</pre></div></div></div><div class=\"sk-item\"><div class=\"sk-estimator sk-toggleable\"><input class=\"sk-toggleable__control sk-hidden--visually\" id=\"sk-estimator-id-5\" type=\"checkbox\" ><label for=\"sk-estimator-id-5\" class=\"sk-toggleable__label sk-toggleable__label-arrow\">StandardScaler</label><div class=\"sk-toggleable__content\"><pre>StandardScaler()</pre></div></div></div></div></div></div></div></div><div class=\"sk-parallel-item\"><div class=\"sk-item\"><div class=\"sk-label-container\"><div class=\"sk-label sk-toggleable\"><input class=\"sk-toggleable__control sk-hidden--visually\" id=\"sk-estimator-id-6\" type=\"checkbox\" ><label for=\"sk-estimator-id-6\" class=\"sk-toggleable__label sk-toggleable__label-arrow\">nominal</label><div class=\"sk-toggleable__content\"><pre>[&#x27;shot_technique&#x27;, &#x27;shot_type&#x27;, &#x27;shot_body_part&#x27;]</pre></div></div></div><div class=\"sk-serial\"><div class=\"sk-item\"><div class=\"sk-serial\"><div class=\"sk-item\"><div class=\"sk-estimator sk-toggleable\"><input class=\"sk-toggleable__control sk-hidden--visually\" id=\"sk-estimator-id-7\" type=\"checkbox\" ><label for=\"sk-estimator-id-7\" class=\"sk-toggleable__label sk-toggleable__label-arrow\">SimpleImputer</label><div class=\"sk-toggleable__content\"><pre>SimpleImputer(strategy=&#x27;most_frequent&#x27;)</pre></div></div></div><div class=\"sk-item\"><div class=\"sk-estimator sk-toggleable\"><input class=\"sk-toggleable__control sk-hidden--visually\" id=\"sk-estimator-id-8\" type=\"checkbox\" ><label for=\"sk-estimator-id-8\" class=\"sk-toggleable__label sk-toggleable__label-arrow\">OrdinalEncoder</label><div class=\"sk-toggleable__content\"><pre>OrdinalEncoder()</pre></div></div></div><div class=\"sk-item\"><div class=\"sk-estimator sk-toggleable\"><input class=\"sk-toggleable__control sk-hidden--visually\" id=\"sk-estimator-id-9\" type=\"checkbox\" ><label for=\"sk-estimator-id-9\" class=\"sk-toggleable__label sk-toggleable__label-arrow\">StandardScaler</label><div class=\"sk-toggleable__content\"><pre>StandardScaler()</pre></div></div></div></div></div></div></div></div></div></div><div class=\"sk-item\"><div class=\"sk-estimator sk-toggleable\"><input class=\"sk-toggleable__control sk-hidden--visually\" id=\"sk-estimator-id-10\" type=\"checkbox\" ><label for=\"sk-estimator-id-10\" class=\"sk-toggleable__label sk-toggleable__label-arrow\">LogisticRegression</label><div class=\"sk-toggleable__content\"><pre>LogisticRegression()</pre></div></div></div></div></div></div></div>"
      ],
      "text/plain": [
       "Pipeline(steps=[('preprocessor',\n",
       "                 ColumnTransformer(transformers=[('numerical',\n",
       "                                                  Pipeline(steps=[('imputer',\n",
       "                                                                   SimpleImputer()),\n",
       "                                                                  ('scaler',\n",
       "                                                                   StandardScaler())]),\n",
       "                                                  ['distance']),\n",
       "                                                 ('nominal',\n",
       "                                                  Pipeline(steps=[('imputer',\n",
       "                                                                   SimpleImputer(strategy='most_frequent')),\n",
       "                                                                  ('target_encoder',\n",
       "                                                                   OrdinalEncoder()),\n",
       "                                                                  ('scaler',\n",
       "                                                                   StandardScaler())]),\n",
       "                                                  ['shot_technique',\n",
       "                                                   'shot_type',\n",
       "                                                   'shot_body_part'])])),\n",
       "                ('estimator', LogisticRegression())])"
      ]
     },
     "execution_count": 31,
     "metadata": {},
     "output_type": "execute_result"
    }
   ],
   "source": [
    "composite_estimator.fit(train_cap_x_df, train_y_df.values.ravel())"
   ]
  },
  {
   "cell_type": "code",
   "execution_count": 32,
   "id": "201d83cc",
   "metadata": {},
   "outputs": [
    {
     "data": {
      "text/plain": [
       "array([[7.96131316e-01, 2.03868684e-01],\n",
       "       [9.89316049e-01, 1.06839506e-02],\n",
       "       [8.73689887e-01, 1.26310113e-01],\n",
       "       [9.88419243e-01, 1.15807568e-02],\n",
       "       [9.95141779e-01, 4.85822130e-03],\n",
       "       [9.95557709e-01, 4.44229106e-03],\n",
       "       [9.27908608e-01, 7.20913919e-02],\n",
       "       [9.03023729e-01, 9.69762711e-02],\n",
       "       [9.91300676e-01, 8.69932413e-03],\n",
       "       [9.16150568e-01, 8.38494320e-02],\n",
       "       [9.69562389e-01, 3.04376111e-02],\n",
       "       [9.95705244e-01, 4.29475591e-03],\n",
       "       [9.76064832e-01, 2.39351677e-02],\n",
       "       [9.52779496e-01, 4.72205042e-02],\n",
       "       [9.21198802e-01, 7.88011985e-02],\n",
       "       [9.52120285e-01, 4.78797154e-02],\n",
       "       [9.99658473e-01, 3.41526792e-04],\n",
       "       [9.33285833e-01, 6.67141668e-02],\n",
       "       [9.78377733e-01, 2.16222672e-02],\n",
       "       [8.89937053e-01, 1.10062947e-01],\n",
       "       [9.37873384e-01, 6.21266157e-02],\n",
       "       [9.85162368e-01, 1.48376320e-02],\n",
       "       [9.28993124e-01, 7.10068758e-02],\n",
       "       [9.00988908e-01, 9.90110922e-02],\n",
       "       [9.62240540e-01, 3.77594599e-02],\n",
       "       [9.96384387e-01, 3.61561256e-03],\n",
       "       [9.89901765e-01, 1.00982347e-02],\n",
       "       [9.49065724e-01, 5.09342755e-02],\n",
       "       [9.25871670e-01, 7.41283295e-02],\n",
       "       [9.26860880e-01, 7.31391204e-02],\n",
       "       [9.42537591e-01, 5.74624091e-02],\n",
       "       [9.86129761e-01, 1.38702387e-02],\n",
       "       [9.52444139e-01, 4.75558609e-02],\n",
       "       [9.94996721e-01, 5.00327857e-03],\n",
       "       [9.62006869e-01, 3.79931313e-02],\n",
       "       [9.78222967e-01, 2.17770325e-02],\n",
       "       [8.83217374e-01, 1.16782626e-01],\n",
       "       [9.85898830e-01, 1.41011697e-02],\n",
       "       [8.90079350e-01, 1.09920650e-01],\n",
       "       [9.96130701e-01, 3.86929936e-03],\n",
       "       [9.79228083e-01, 2.07719167e-02],\n",
       "       [9.89320936e-01, 1.06790639e-02],\n",
       "       [9.62160905e-01, 3.78390954e-02],\n",
       "       [7.96292596e-01, 2.03707404e-01],\n",
       "       [9.71915191e-01, 2.80848090e-02],\n",
       "       [5.71197572e-01, 4.28802428e-01],\n",
       "       [9.84305365e-01, 1.56946346e-02],\n",
       "       [9.89159406e-01, 1.08405942e-02],\n",
       "       [7.64304719e-01, 2.35695281e-01],\n",
       "       [9.73368473e-01, 2.66315273e-02],\n",
       "       [9.88818534e-01, 1.11814659e-02],\n",
       "       [9.94462547e-01, 5.53745338e-03],\n",
       "       [9.93788768e-01, 6.21123215e-03],\n",
       "       [9.93299102e-01, 6.70089783e-03],\n",
       "       [9.84892615e-01, 1.51073852e-02],\n",
       "       [9.03429659e-01, 9.65703405e-02],\n",
       "       [9.39190206e-01, 6.08097938e-02],\n",
       "       [9.63696853e-01, 3.63031475e-02],\n",
       "       [9.42669894e-01, 5.73301060e-02],\n",
       "       [9.04050664e-01, 9.59493364e-02],\n",
       "       [9.99219387e-01, 7.80612769e-04],\n",
       "       [8.19769507e-01, 1.80230493e-01],\n",
       "       [8.51827519e-01, 1.48172481e-01],\n",
       "       [9.53948050e-01, 4.60519497e-02],\n",
       "       [9.94315447e-01, 5.68455303e-03],\n",
       "       [8.72965968e-01, 1.27034032e-01],\n",
       "       [9.54616480e-01, 4.53835201e-02],\n",
       "       [9.97799847e-01, 2.20015275e-03],\n",
       "       [9.40836134e-01, 5.91638657e-02],\n",
       "       [6.34845877e-01, 3.65154123e-01],\n",
       "       [9.13156861e-01, 8.68431387e-02],\n",
       "       [9.44019831e-01, 5.59801688e-02],\n",
       "       [9.49041567e-01, 5.09584329e-02],\n",
       "       [9.78853009e-01, 2.11469909e-02],\n",
       "       [9.87047403e-01, 1.29525970e-02],\n",
       "       [9.32736468e-01, 6.72635325e-02],\n",
       "       [9.93840453e-01, 6.15954741e-03],\n",
       "       [9.92869859e-01, 7.13014057e-03],\n",
       "       [8.40538689e-01, 1.59461311e-01],\n",
       "       [9.76760957e-01, 2.32390430e-02],\n",
       "       [9.27344753e-01, 7.26552470e-02],\n",
       "       [8.47057255e-01, 1.52942745e-01],\n",
       "       [7.79258666e-01, 2.20741334e-01],\n",
       "       [9.93118357e-01, 6.88164333e-03],\n",
       "       [5.05789549e-01, 4.94210451e-01],\n",
       "       [9.89035796e-01, 1.09642041e-02],\n",
       "       [9.94332096e-01, 5.66790405e-03],\n",
       "       [9.93978003e-01, 6.02199745e-03],\n",
       "       [8.85782045e-01, 1.14217955e-01],\n",
       "       [8.16334161e-01, 1.83665839e-01],\n",
       "       [9.29060735e-01, 7.09392650e-02],\n",
       "       [9.53136004e-01, 4.68639958e-02],\n",
       "       [6.66474256e-01, 3.33525744e-01],\n",
       "       [7.22060686e-01, 2.77939314e-01],\n",
       "       [9.33383841e-01, 6.66161593e-02],\n",
       "       [9.50916268e-01, 4.90837317e-02],\n",
       "       [9.34274961e-01, 6.57250391e-02],\n",
       "       [9.72136485e-01, 2.78635152e-02],\n",
       "       [8.53101094e-01, 1.46898906e-01],\n",
       "       [9.42066631e-01, 5.79333691e-02],\n",
       "       [8.68415465e-01, 1.31584535e-01],\n",
       "       [8.79927755e-01, 1.20072245e-01],\n",
       "       [9.26555224e-01, 7.34447757e-02],\n",
       "       [6.51730974e-01, 3.48269026e-01],\n",
       "       [8.83084340e-01, 1.16915660e-01],\n",
       "       [7.79940264e-01, 2.20059736e-01],\n",
       "       [9.68325226e-01, 3.16747738e-02],\n",
       "       [9.88001081e-01, 1.19989188e-02],\n",
       "       [9.24967740e-01, 7.50322601e-02],\n",
       "       [9.94348563e-01, 5.65143675e-03],\n",
       "       [9.44339130e-01, 5.56608695e-02],\n",
       "       [9.99604713e-01, 3.95287482e-04],\n",
       "       [8.99643302e-01, 1.00356698e-01],\n",
       "       [6.07436557e-01, 3.92563443e-01],\n",
       "       [9.86937134e-01, 1.30628656e-02],\n",
       "       [9.86199250e-01, 1.38007505e-02],\n",
       "       [7.67612070e-01, 2.32387930e-01],\n",
       "       [8.81909644e-01, 1.18090356e-01],\n",
       "       [9.66640698e-01, 3.33593022e-02],\n",
       "       [9.26099489e-01, 7.39005109e-02],\n",
       "       [9.61195457e-01, 3.88045425e-02],\n",
       "       [9.35668326e-01, 6.43316742e-02],\n",
       "       [9.30784460e-01, 6.92155400e-02],\n",
       "       [9.32459123e-01, 6.75408770e-02],\n",
       "       [9.29036934e-01, 7.09630665e-02],\n",
       "       [9.30749994e-01, 6.92500064e-02],\n",
       "       [9.45693651e-01, 5.43063491e-02],\n",
       "       [9.65153367e-01, 3.48466327e-02],\n",
       "       [9.53992518e-01, 4.60074818e-02],\n",
       "       [9.83101190e-01, 1.68988104e-02],\n",
       "       [9.95156063e-01, 4.84393737e-03],\n",
       "       [9.14297115e-01, 8.57028848e-02],\n",
       "       [9.91736100e-01, 8.26390007e-03],\n",
       "       [9.53123129e-01, 4.68768712e-02],\n",
       "       [8.22736063e-01, 1.77263937e-01],\n",
       "       [8.98227992e-01, 1.01772008e-01],\n",
       "       [9.94896711e-01, 5.10328915e-03],\n",
       "       [9.79575174e-01, 2.04248258e-02],\n",
       "       [9.89222012e-01, 1.07779879e-02],\n",
       "       [9.79588664e-01, 2.04113355e-02],\n",
       "       [9.29036934e-01, 7.09630665e-02],\n",
       "       [7.18936946e-01, 2.81063054e-01],\n",
       "       [9.18527230e-01, 8.14727697e-02],\n",
       "       [9.88598717e-01, 1.14012834e-02],\n",
       "       [8.36509724e-01, 1.63490276e-01],\n",
       "       [9.67637368e-01, 3.23626325e-02],\n",
       "       [8.65593980e-01, 1.34406020e-01],\n",
       "       [9.46568286e-01, 5.34317143e-02],\n",
       "       [9.74111362e-01, 2.58886380e-02],\n",
       "       [9.62726715e-01, 3.72732845e-02],\n",
       "       [9.05541764e-01, 9.44582364e-02],\n",
       "       [9.34055308e-01, 6.59446920e-02],\n",
       "       [9.83473738e-01, 1.65262619e-02],\n",
       "       [8.93180773e-01, 1.06819227e-01],\n",
       "       [9.40737712e-01, 5.92622878e-02],\n",
       "       [9.40391605e-01, 5.96083952e-02],\n",
       "       [9.91970673e-01, 8.02932713e-03],\n",
       "       [8.63235169e-01, 1.36764831e-01],\n",
       "       [9.97649080e-01, 2.35092042e-03],\n",
       "       [9.82458825e-01, 1.75411750e-02],\n",
       "       [9.70590376e-01, 2.94096239e-02],\n",
       "       [9.65140913e-01, 3.48590869e-02],\n",
       "       [9.94682042e-01, 5.31795827e-03],\n",
       "       [9.89755118e-01, 1.02448823e-02],\n",
       "       [8.99580631e-01, 1.00419369e-01],\n",
       "       [9.64733200e-01, 3.52667997e-02],\n",
       "       [7.06770147e-01, 2.93229853e-01],\n",
       "       [9.79014572e-01, 2.09854285e-02],\n",
       "       [9.99145048e-01, 8.54952246e-04],\n",
       "       [9.74443758e-01, 2.55562424e-02],\n",
       "       [9.74465541e-01, 2.55344588e-02],\n",
       "       [8.93460937e-01, 1.06539063e-01],\n",
       "       [7.46853434e-01, 2.53146566e-01],\n",
       "       [9.88959157e-01, 1.10408434e-02],\n",
       "       [9.28683336e-01, 7.13166643e-02],\n",
       "       [9.66515360e-01, 3.34846401e-02],\n",
       "       [9.22647646e-01, 7.73523544e-02],\n",
       "       [9.56583176e-01, 4.34168237e-02],\n",
       "       [9.79532213e-01, 2.04677874e-02],\n",
       "       [9.31481481e-01, 6.85185188e-02],\n",
       "       [9.20906151e-01, 7.90938486e-02],\n",
       "       [9.39712951e-01, 6.02870489e-02],\n",
       "       [8.99845684e-01, 1.00154316e-01],\n",
       "       [9.84977092e-01, 1.50229080e-02],\n",
       "       [9.60746688e-01, 3.92533118e-02],\n",
       "       [7.73594590e-01, 2.26405410e-01],\n",
       "       [9.76173574e-01, 2.38264263e-02],\n",
       "       [9.56553531e-01, 4.34464688e-02],\n",
       "       [9.94123890e-01, 5.87611020e-03],\n",
       "       [8.04972440e-01, 1.95027560e-01],\n",
       "       [9.81310833e-01, 1.86891674e-02],\n",
       "       [9.87448542e-01, 1.25514579e-02]])"
      ]
     },
     "execution_count": 32,
     "metadata": {},
     "output_type": "execute_result"
    }
   ],
   "source": [
    "composite_estimator.predict_proba(train_cap_x_df)"
   ]
  },
  {
   "cell_type": "code",
   "execution_count": 51,
   "id": "5b6a26d1",
   "metadata": {},
   "outputs": [
    {
     "name": "stdout",
     "output_type": "stream",
     "text": [
      "Training set actual goal information\n",
      "shot_outcome\n",
      "0    178\n",
      "1     14\n",
      "Name: count, dtype: int64\n",
      "Training set naive model total xG 14.00000157795762\n",
      "Training set Statsbomb total xG: 21.929878123800002\n"
     ]
    }
   ],
   "source": [
    "print(\"Training set actual goal information\")\n",
    "print(train_y_df[target_attr].value_counts())\n",
    "print(\"Training set naive model total xG\",sum(composite_estimator.predict_proba(train_cap_x_df)[:,1]))\n",
    "print(\"Training set Statsbomb total xG:\", sum(train_cap_x_df['shot_statsbomb_xg']))"
   ]
  },
  {
   "cell_type": "code",
   "execution_count": 47,
   "id": "db3fe3be",
   "metadata": {},
   "outputs": [
    {
     "name": "stdout",
     "output_type": "stream",
     "text": [
      "Actual goal information\n",
      "shot_outcome\n",
      "0    178\n",
      "1     14\n",
      "Name: count, dtype: int64\n"
     ]
    }
   ],
   "source": []
  },
  {
   "cell_type": "code",
   "execution_count": 44,
   "id": "c43d47e9",
   "metadata": {},
   "outputs": [
    {
     "data": {
      "text/plain": [
       "21.929878123800002"
      ]
     },
     "execution_count": 44,
     "metadata": {},
     "output_type": "execute_result"
    }
   ],
   "source": []
  },
  {
   "cell_type": "code",
   "execution_count": null,
   "id": "e5e3c281",
   "metadata": {},
   "outputs": [],
   "source": [
    "classification_threshold = 0.5"
   ]
  },
  {
   "cell_type": "code",
   "execution_count": 41,
   "id": "ee4efb1f",
   "metadata": {},
   "outputs": [],
   "source": [
    "test_predictions = composite_estimator.predict_proba(test_cap_x_df)"
   ]
  },
  {
   "cell_type": "code",
   "execution_count": 50,
   "id": "00d660cd",
   "metadata": {},
   "outputs": [
    {
     "name": "stdout",
     "output_type": "stream",
     "text": [
      "Test set actual goal information\n",
      "shot_outcome\n",
      "0    46\n",
      "1     3\n",
      "Name: count, dtype: int64\n",
      "Test set naive model total xG 2.3589363589129144\n",
      "Statsbomb total xG: 3.5948024983999995\n"
     ]
    }
   ],
   "source": [
    "print(\"Test set actual goal information\")\n",
    "print(test_y_df[target_attr].value_counts())\n",
    "print(\"Test set naive model total xG\", sum(test_predictions[:,1]))\n",
    "print(\"Statsbomb total xG:\", sum(test_cap_x_df['shot_statsbomb_xg']))"
   ]
  },
  {
   "cell_type": "code",
   "execution_count": 43,
   "id": "a6b60596",
   "metadata": {},
   "outputs": [
    {
     "data": {
      "text/plain": [
       "shot_outcome\n",
       "0    46\n",
       "1     3\n",
       "Name: count, dtype: int64"
      ]
     },
     "execution_count": 43,
     "metadata": {},
     "output_type": "execute_result"
    }
   ],
   "source": [
    "print(test_y_df[target_attr].value_counts())"
   ]
  },
  {
   "cell_type": "code",
   "execution_count": 45,
   "id": "4adebab6",
   "metadata": {},
   "outputs": [
    {
     "data": {
      "text/plain": [
       "3.5948024983999995"
      ]
     },
     "execution_count": 45,
     "metadata": {},
     "output_type": "execute_result"
    }
   ],
   "source": [
    "print(\"Statsbomb total xG:\", sum(test_cap_x_df['shot_statsbomb_xg']))"
   ]
  },
  {
   "cell_type": "code",
   "execution_count": null,
   "id": "e4d3f2dc",
   "metadata": {},
   "outputs": [],
   "source": [
    "# events = sb.events(match_id=3754078)"
   ]
  },
  {
   "cell_type": "code",
   "execution_count": null,
   "id": "b8be2856",
   "metadata": {},
   "outputs": [],
   "source": [
    "# type(events)"
   ]
  },
  {
   "cell_type": "code",
   "execution_count": null,
   "id": "3ebf6646",
   "metadata": {},
   "outputs": [],
   "source": [
    "# events.columns"
   ]
  },
  {
   "cell_type": "code",
   "execution_count": null,
   "id": "523d0254",
   "metadata": {},
   "outputs": [],
   "source": [
    "relevant_attributes = ['minute', 'team', 'shot_statsbomb_xg','shot_outcome', 'location', 'shot_aerial_won', 'shot_body_part', 'shot_deflected',\n",
    "       'shot_end_location', 'shot_first_time', 'shot_one_on_one', \n",
    "       'shot_saved_off_target',  'shot_technique',\n",
    "       'shot_type', 'type']"
   ]
  },
  {
   "cell_type": "code",
   "execution_count": null,
   "id": "54967af2",
   "metadata": {},
   "outputs": [],
   "source": [
    "# relevant = events[relevant_attributes]\n",
    "# events[events['type']=='Own Goal Against'].dropna(axis=1)"
   ]
  },
  {
   "cell_type": "code",
   "execution_count": null,
   "id": "d45516f3",
   "metadata": {},
   "outputs": [],
   "source": [
    "# chelsea_swansea = events[relevant_attributes].dropna(subset=['shot_statsbomb_xg'])\n",
    "# type(chelsea_swansea)"
   ]
  },
  {
   "cell_type": "code",
   "execution_count": null,
   "id": "7b8b3926",
   "metadata": {},
   "outputs": [],
   "source": [
    "# base_url = 'https://understat.com/match/'\n",
    "# match = str(input('Please enter match id: '))\n",
    "# url = base_url + match"
   ]
  },
  {
   "cell_type": "code",
   "execution_count": null,
   "id": "b61a2f89",
   "metadata": {},
   "outputs": [],
   "source": [
    "# res = requests.get(url)\n",
    "# soup = BeautifulSoup(res.content, 'lxml')\n",
    "# scripts = soup.find_all('script')\n",
    "#help(BeautifulSoup)"
   ]
  },
  {
   "cell_type": "code",
   "execution_count": null,
   "id": "0f367c62",
   "metadata": {},
   "outputs": [],
   "source": [
    "#scripts"
   ]
  },
  {
   "cell_type": "code",
   "execution_count": null,
   "id": "b253ab18",
   "metadata": {},
   "outputs": [],
   "source": [
    "# strings = scripts[1].string"
   ]
  },
  {
   "cell_type": "code",
   "execution_count": null,
   "id": "c142ad4a",
   "metadata": {},
   "outputs": [],
   "source": [
    "#strings"
   ]
  },
  {
   "cell_type": "code",
   "execution_count": null,
   "id": "c00ff7cc",
   "metadata": {},
   "outputs": [],
   "source": [
    "# ind_start = strings.index(\"('\")+2\n",
    "# ind_end = strings.index(\"')\")\n",
    "\n",
    "# json_data = strings[ind_start:ind_end]\n",
    "# json_data = json_data.encode('utf8').decode('unicode_escape')\n",
    "\n",
    "# data = json.loads(json_data)\n"
   ]
  },
  {
   "cell_type": "code",
   "execution_count": null,
   "id": "0f60f32d",
   "metadata": {},
   "outputs": [],
   "source": [
    "# data"
   ]
  },
  {
   "cell_type": "code",
   "execution_count": null,
   "id": "8c99db7e",
   "metadata": {},
   "outputs": [],
   "source": [
    "# x = []\n",
    "# y = []\n",
    "# minute = []\n",
    "# xG = []\n",
    "# h_a = []\n",
    "# team = []\n",
    "# result = []\n",
    "\n",
    "# data_home = data['h']\n",
    "# data_away = data['a']\n",
    "\n",
    "# for index in range(len(data_home)):\n",
    "#     for key in data_home[index]:\n",
    "#         if key == 'X':\n",
    "#             x.append(data_home[index][key])\n",
    "#         if key == 'Y':\n",
    "#             y.append(data_home[index][key])\n",
    "#         if key == 'xG':\n",
    "#             xG.append(data_home[index][key])\n",
    "#         if key == 'h_team':\n",
    "#             team.append(data_home[index][key])\n",
    "#         if key == 'h_a':\n",
    "#             h_a.append(data_home[index][key])\n",
    "#         if key == 'minute':\n",
    "#             minute.append(data_home[index][key])\n",
    "#         if key == 'result':\n",
    "#             result.append(data_home[index][key])\n",
    "\n",
    "# for index in range(len(data_away)):\n",
    "#     for key in data_away[index]:\n",
    "#         if key == 'X':\n",
    "#             x.append(data_away[index][key])\n",
    "#         if key == 'Y':\n",
    "#             y.append(data_away[index][key])\n",
    "#         if key == 'xG':\n",
    "#             xG.append(data_away[index][key])\n",
    "#         if key == 'a_team':\n",
    "#             team.append(data_away[index][key])\n",
    "#         if key == 'h_a':\n",
    "#             h_a.append(data_away[index][key])\n",
    "#         if key == 'minute':\n",
    "#             minute.append(data_away[index][key])\n",
    "#         if key == 'result':\n",
    "#             result.append(data_away[index][key])"
   ]
  },
  {
   "cell_type": "code",
   "execution_count": null,
   "id": "194135a3",
   "metadata": {},
   "outputs": [],
   "source": [
    "# col_names = ['minute','team', 'x', 'y', 'xG','h_a', 'result']\n",
    "# df = pd.DataFrame([minute, team, x,y,xG, h_a, result], index=col_names)\n",
    "# df = df.T"
   ]
  },
  {
   "cell_type": "code",
   "execution_count": null,
   "id": "9d9c6edc",
   "metadata": {},
   "outputs": [],
   "source": [
    "# for col in ['x', 'y', 'xG', 'minute']:\n",
    "#     df[col]=pd.to_numeric(df[col])\n",
    "# df.round(decimals=5)\n",
    "# df.sort_values('minute')"
   ]
  },
  {
   "cell_type": "code",
   "execution_count": null,
   "id": "8f0e682e",
   "metadata": {},
   "outputs": [],
   "source": [
    "#chelsea_swansea"
   ]
  },
  {
   "cell_type": "code",
   "execution_count": null,
   "id": "9ba8ed10",
   "metadata": {},
   "outputs": [],
   "source": []
  }
 ],
 "metadata": {
  "kernelspec": {
   "display_name": "Python(dsc)",
   "language": "python",
   "name": "dsc"
  },
  "language_info": {
   "codemirror_mode": {
    "name": "ipython",
    "version": 3
   },
   "file_extension": ".py",
   "mimetype": "text/x-python",
   "name": "python",
   "nbconvert_exporter": "python",
   "pygments_lexer": "ipython3",
   "version": "3.10.13"
  }
 },
 "nbformat": 4,
 "nbformat_minor": 5
}
