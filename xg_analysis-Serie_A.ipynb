{
 "cells": [
  {
   "cell_type": "markdown",
   "id": "1c29d893",
   "metadata": {},
   "source": []
  },
  {
   "cell_type": "code",
   "execution_count": 1,
   "id": "67dcb23a",
   "metadata": {},
   "outputs": [],
   "source": [
    "#import modules\n",
    "from statsbombpy import sb\n",
    "\n",
    "import pandas as pd\n",
    "import matplotlib.pyplot as plt\n",
    "import json\n",
    "\n",
    "from sklearn.compose import ColumnTransformer\n",
    "from sklearn.impute import SimpleImputer\n",
    "from sklearn.linear_model import LogisticRegression, SGDClassifier\n",
    "from sklearn.model_selection import train_test_split\n",
    "from sklearn.metrics import classification_report, confusion_matrix, r2_score\n",
    "from sklearn.pipeline import Pipeline\n",
    "from sklearn.preprocessing import LabelEncoder, StandardScaler, OneHotEncoder, OrdinalEncoder\n",
    "from sklearn.preprocessing import TargetEncoder\n",
    "from sklearn.ensemble import GradientBoostingRegressor, RandomForestClassifier\n",
    "\n",
    "import numpy as np\n",
    "import time\n",
    "import warnings\n",
    "warnings.filterwarnings('ignore')"
   ]
  },
  {
   "cell_type": "code",
   "execution_count": 2,
   "id": "47d34770",
   "metadata": {},
   "outputs": [],
   "source": [
    "from bs4 import BeautifulSoup\n",
    "import requests"
   ]
  },
  {
   "cell_type": "code",
   "execution_count": 3,
   "id": "30b973b4",
   "metadata": {},
   "outputs": [],
   "source": [
    "competitions = sb.competitions()"
   ]
  },
  {
   "cell_type": "code",
   "execution_count": 4,
   "id": "875a578c",
   "metadata": {},
   "outputs": [
    {
     "name": "stdout",
     "output_type": "stream",
     "text": [
      "Help on function matches in module statsbombpy.sb:\n",
      "\n",
      "matches(competition_id: int, season_id: int, fmt='dataframe', creds: dict = {'user': None, 'passwd': None})\n",
      "\n"
     ]
    }
   ],
   "source": [
    "help(sb.matches)"
   ]
  },
  {
   "cell_type": "code",
   "execution_count": 5,
   "id": "e3aef86c",
   "metadata": {},
   "outputs": [],
   "source": [
    "# events = sb.competition_events(\n",
    "#     country=\"England\",\n",
    "#     division= \"Premier League\",\n",
    "#     season=\"2015/2016\",\n",
    "#     gender=\"male\"\n",
    "# )"
   ]
  },
  {
   "cell_type": "code",
   "execution_count": 6,
   "id": "15d76294",
   "metadata": {},
   "outputs": [],
   "source": [
    "#events.columns"
   ]
  },
  {
   "cell_type": "code",
   "execution_count": 7,
   "id": "e829959a",
   "metadata": {},
   "outputs": [
    {
     "data": {
      "text/html": [
       "<div>\n",
       "<style scoped>\n",
       "    .dataframe tbody tr th:only-of-type {\n",
       "        vertical-align: middle;\n",
       "    }\n",
       "\n",
       "    .dataframe tbody tr th {\n",
       "        vertical-align: top;\n",
       "    }\n",
       "\n",
       "    .dataframe thead th {\n",
       "        text-align: right;\n",
       "    }\n",
       "</style>\n",
       "<table border=\"1\" class=\"dataframe\">\n",
       "  <thead>\n",
       "    <tr style=\"text-align: right;\">\n",
       "      <th></th>\n",
       "      <th>competition_id</th>\n",
       "      <th>season_id</th>\n",
       "      <th>country_name</th>\n",
       "      <th>competition_name</th>\n",
       "      <th>competition_gender</th>\n",
       "      <th>competition_youth</th>\n",
       "      <th>competition_international</th>\n",
       "      <th>season_name</th>\n",
       "      <th>match_updated</th>\n",
       "      <th>match_updated_360</th>\n",
       "      <th>match_available_360</th>\n",
       "      <th>match_available</th>\n",
       "    </tr>\n",
       "  </thead>\n",
       "  <tbody>\n",
       "    <tr>\n",
       "      <th>0</th>\n",
       "      <td>9</td>\n",
       "      <td>27</td>\n",
       "      <td>Germany</td>\n",
       "      <td>1. Bundesliga</td>\n",
       "      <td>male</td>\n",
       "      <td>False</td>\n",
       "      <td>False</td>\n",
       "      <td>2015/2016</td>\n",
       "      <td>2023-12-12T07:43:33.436182</td>\n",
       "      <td>None</td>\n",
       "      <td>None</td>\n",
       "      <td>2023-12-12T07:43:33.436182</td>\n",
       "    </tr>\n",
       "    <tr>\n",
       "      <th>41</th>\n",
       "      <td>11</td>\n",
       "      <td>27</td>\n",
       "      <td>Spain</td>\n",
       "      <td>La Liga</td>\n",
       "      <td>male</td>\n",
       "      <td>False</td>\n",
       "      <td>False</td>\n",
       "      <td>2015/2016</td>\n",
       "      <td>2023-09-20T17:21:32.111535</td>\n",
       "      <td>2021-06-13T16:17:31.694</td>\n",
       "      <td>None</td>\n",
       "      <td>2023-09-20T17:21:32.111535</td>\n",
       "    </tr>\n",
       "    <tr>\n",
       "      <th>58</th>\n",
       "      <td>7</td>\n",
       "      <td>27</td>\n",
       "      <td>France</td>\n",
       "      <td>Ligue 1</td>\n",
       "      <td>male</td>\n",
       "      <td>False</td>\n",
       "      <td>False</td>\n",
       "      <td>2015/2016</td>\n",
       "      <td>2023-12-13T00:27:57.162379</td>\n",
       "      <td>None</td>\n",
       "      <td>None</td>\n",
       "      <td>2023-12-13T00:27:57.162379</td>\n",
       "    </tr>\n",
       "    <tr>\n",
       "      <th>62</th>\n",
       "      <td>2</td>\n",
       "      <td>27</td>\n",
       "      <td>England</td>\n",
       "      <td>Premier League</td>\n",
       "      <td>male</td>\n",
       "      <td>False</td>\n",
       "      <td>False</td>\n",
       "      <td>2015/2016</td>\n",
       "      <td>2023-11-14T11:25:33.476498</td>\n",
       "      <td>2021-06-13T16:17:31.694</td>\n",
       "      <td>None</td>\n",
       "      <td>2023-11-14T11:25:33.476498</td>\n",
       "    </tr>\n",
       "    <tr>\n",
       "      <th>64</th>\n",
       "      <td>12</td>\n",
       "      <td>27</td>\n",
       "      <td>Italy</td>\n",
       "      <td>Serie A</td>\n",
       "      <td>male</td>\n",
       "      <td>False</td>\n",
       "      <td>False</td>\n",
       "      <td>2015/2016</td>\n",
       "      <td>2023-12-13T17:32:46.423081</td>\n",
       "      <td>None</td>\n",
       "      <td>None</td>\n",
       "      <td>2023-12-13T17:32:46.423081</td>\n",
       "    </tr>\n",
       "  </tbody>\n",
       "</table>\n",
       "</div>"
      ],
      "text/plain": [
       "    competition_id  season_id country_name competition_name  \\\n",
       "0                9         27      Germany    1. Bundesliga   \n",
       "41              11         27        Spain          La Liga   \n",
       "58               7         27       France          Ligue 1   \n",
       "62               2         27      England   Premier League   \n",
       "64              12         27        Italy          Serie A   \n",
       "\n",
       "   competition_gender  competition_youth  competition_international  \\\n",
       "0                male              False                      False   \n",
       "41               male              False                      False   \n",
       "58               male              False                      False   \n",
       "62               male              False                      False   \n",
       "64               male              False                      False   \n",
       "\n",
       "   season_name               match_updated        match_updated_360  \\\n",
       "0    2015/2016  2023-12-12T07:43:33.436182                     None   \n",
       "41   2015/2016  2023-09-20T17:21:32.111535  2021-06-13T16:17:31.694   \n",
       "58   2015/2016  2023-12-13T00:27:57.162379                     None   \n",
       "62   2015/2016  2023-11-14T11:25:33.476498  2021-06-13T16:17:31.694   \n",
       "64   2015/2016  2023-12-13T17:32:46.423081                     None   \n",
       "\n",
       "   match_available_360             match_available  \n",
       "0                 None  2023-12-12T07:43:33.436182  \n",
       "41                None  2023-09-20T17:21:32.111535  \n",
       "58                None  2023-12-13T00:27:57.162379  \n",
       "62                None  2023-11-14T11:25:33.476498  \n",
       "64                None  2023-12-13T17:32:46.423081  "
      ]
     },
     "execution_count": 7,
     "metadata": {},
     "output_type": "execute_result"
    }
   ],
   "source": [
    "competitions[\n",
    "    (competitions['competition_name'].isin([\n",
    "    'Premier League', '1. Bundesliga', 'La Liga', 'Ligue 1', 'Serie A']))\n",
    "             & \n",
    "    (competitions['season_name']=='2015/2016')\n",
    "            ]"
   ]
  },
  {
   "cell_type": "code",
   "execution_count": 8,
   "id": "cabb5787",
   "metadata": {},
   "outputs": [],
   "source": [
    "#competitions[competitions['competition_name']=='Champions League']"
   ]
  },
  {
   "cell_type": "code",
   "execution_count": 9,
   "id": "0244fc01",
   "metadata": {},
   "outputs": [
    {
     "data": {
      "text/html": [
       "<div>\n",
       "<style scoped>\n",
       "    .dataframe tbody tr th:only-of-type {\n",
       "        vertical-align: middle;\n",
       "    }\n",
       "\n",
       "    .dataframe tbody tr th {\n",
       "        vertical-align: top;\n",
       "    }\n",
       "\n",
       "    .dataframe thead th {\n",
       "        text-align: right;\n",
       "    }\n",
       "</style>\n",
       "<table border=\"1\" class=\"dataframe\">\n",
       "  <thead>\n",
       "    <tr style=\"text-align: right;\">\n",
       "      <th></th>\n",
       "      <th>match_id</th>\n",
       "      <th>match_date</th>\n",
       "      <th>kick_off</th>\n",
       "      <th>competition</th>\n",
       "      <th>season</th>\n",
       "      <th>home_team</th>\n",
       "      <th>away_team</th>\n",
       "      <th>home_score</th>\n",
       "      <th>away_score</th>\n",
       "      <th>match_status</th>\n",
       "      <th>...</th>\n",
       "      <th>last_updated_360</th>\n",
       "      <th>match_week</th>\n",
       "      <th>competition_stage</th>\n",
       "      <th>stadium</th>\n",
       "      <th>referee</th>\n",
       "      <th>home_managers</th>\n",
       "      <th>away_managers</th>\n",
       "      <th>data_version</th>\n",
       "      <th>shot_fidelity_version</th>\n",
       "      <th>xy_fidelity_version</th>\n",
       "    </tr>\n",
       "  </thead>\n",
       "  <tbody>\n",
       "    <tr>\n",
       "      <th>0</th>\n",
       "      <td>3879863</td>\n",
       "      <td>2016-05-08</td>\n",
       "      <td>15:00:00.000</td>\n",
       "      <td>Italy - Serie A</td>\n",
       "      <td>2015/2016</td>\n",
       "      <td>Atalanta</td>\n",
       "      <td>Udinese</td>\n",
       "      <td>1</td>\n",
       "      <td>1</td>\n",
       "      <td>available</td>\n",
       "      <td>...</td>\n",
       "      <td>None</td>\n",
       "      <td>37</td>\n",
       "      <td>Regular Season</td>\n",
       "      <td>Gewiss Stadium</td>\n",
       "      <td>Nicola Rizzoli</td>\n",
       "      <td>Edoardo Reja</td>\n",
       "      <td>Luigi De Canio</td>\n",
       "      <td>1.1.0</td>\n",
       "      <td>2</td>\n",
       "      <td>2</td>\n",
       "    </tr>\n",
       "    <tr>\n",
       "      <th>1</th>\n",
       "      <td>3879773</td>\n",
       "      <td>2016-03-06</td>\n",
       "      <td>16:00:00.000</td>\n",
       "      <td>Italy - Serie A</td>\n",
       "      <td>2015/2016</td>\n",
       "      <td>Frosinone</td>\n",
       "      <td>Udinese</td>\n",
       "      <td>2</td>\n",
       "      <td>0</td>\n",
       "      <td>available</td>\n",
       "      <td>...</td>\n",
       "      <td>None</td>\n",
       "      <td>28</td>\n",
       "      <td>Regular Season</td>\n",
       "      <td>Stadio Comunale Matusa</td>\n",
       "      <td>Nicola Rizzoli</td>\n",
       "      <td>Roberto Stellone</td>\n",
       "      <td>Stefano Colantuono</td>\n",
       "      <td>1.1.0</td>\n",
       "      <td>2</td>\n",
       "      <td>2</td>\n",
       "    </tr>\n",
       "    <tr>\n",
       "      <th>2</th>\n",
       "      <td>3879847</td>\n",
       "      <td>2016-04-30</td>\n",
       "      <td>18:00:00.000</td>\n",
       "      <td>Italy - Serie A</td>\n",
       "      <td>2015/2016</td>\n",
       "      <td>Udinese</td>\n",
       "      <td>Torino</td>\n",
       "      <td>1</td>\n",
       "      <td>5</td>\n",
       "      <td>available</td>\n",
       "      <td>...</td>\n",
       "      <td>None</td>\n",
       "      <td>36</td>\n",
       "      <td>Regular Season</td>\n",
       "      <td>Dacia Arena</td>\n",
       "      <td>Maurizio Mariani</td>\n",
       "      <td>Luigi De Canio</td>\n",
       "      <td>Gian Piero Ventura\\t</td>\n",
       "      <td>1.1.0</td>\n",
       "      <td>2</td>\n",
       "      <td>2</td>\n",
       "    </tr>\n",
       "    <tr>\n",
       "      <th>3</th>\n",
       "      <td>3879862</td>\n",
       "      <td>2016-05-08</td>\n",
       "      <td>20:45:00.000</td>\n",
       "      <td>Italy - Serie A</td>\n",
       "      <td>2015/2016</td>\n",
       "      <td>Torino</td>\n",
       "      <td>Napoli</td>\n",
       "      <td>1</td>\n",
       "      <td>2</td>\n",
       "      <td>available</td>\n",
       "      <td>...</td>\n",
       "      <td>None</td>\n",
       "      <td>37</td>\n",
       "      <td>Regular Season</td>\n",
       "      <td>Stadio Olimpico Grande Torino</td>\n",
       "      <td>Antonio Damato</td>\n",
       "      <td>Gian Piero Ventura\\t</td>\n",
       "      <td>Maurizio Sarri</td>\n",
       "      <td>1.1.0</td>\n",
       "      <td>2</td>\n",
       "      <td>2</td>\n",
       "    </tr>\n",
       "    <tr>\n",
       "      <th>4</th>\n",
       "      <td>3879817</td>\n",
       "      <td>2016-04-16</td>\n",
       "      <td>20:45:00.000</td>\n",
       "      <td>Italy - Serie A</td>\n",
       "      <td>2015/2016</td>\n",
       "      <td>Inter Milan</td>\n",
       "      <td>Napoli</td>\n",
       "      <td>2</td>\n",
       "      <td>0</td>\n",
       "      <td>available</td>\n",
       "      <td>...</td>\n",
       "      <td>None</td>\n",
       "      <td>33</td>\n",
       "      <td>Regular Season</td>\n",
       "      <td>Stadio Giuseppe Meazza</td>\n",
       "      <td>Gianluca Rocchi</td>\n",
       "      <td>Roberto Mancini</td>\n",
       "      <td>Maurizio Sarri</td>\n",
       "      <td>1.1.0</td>\n",
       "      <td>2</td>\n",
       "      <td>2</td>\n",
       "    </tr>\n",
       "  </tbody>\n",
       "</table>\n",
       "<p>5 rows × 22 columns</p>\n",
       "</div>"
      ],
      "text/plain": [
       "   match_id  match_date      kick_off      competition     season  \\\n",
       "0   3879863  2016-05-08  15:00:00.000  Italy - Serie A  2015/2016   \n",
       "1   3879773  2016-03-06  16:00:00.000  Italy - Serie A  2015/2016   \n",
       "2   3879847  2016-04-30  18:00:00.000  Italy - Serie A  2015/2016   \n",
       "3   3879862  2016-05-08  20:45:00.000  Italy - Serie A  2015/2016   \n",
       "4   3879817  2016-04-16  20:45:00.000  Italy - Serie A  2015/2016   \n",
       "\n",
       "     home_team away_team  home_score  away_score match_status  ...  \\\n",
       "0     Atalanta   Udinese           1           1    available  ...   \n",
       "1    Frosinone   Udinese           2           0    available  ...   \n",
       "2      Udinese    Torino           1           5    available  ...   \n",
       "3       Torino    Napoli           1           2    available  ...   \n",
       "4  Inter Milan    Napoli           2           0    available  ...   \n",
       "\n",
       "  last_updated_360 match_week competition_stage  \\\n",
       "0             None         37    Regular Season   \n",
       "1             None         28    Regular Season   \n",
       "2             None         36    Regular Season   \n",
       "3             None         37    Regular Season   \n",
       "4             None         33    Regular Season   \n",
       "\n",
       "                         stadium           referee         home_managers  \\\n",
       "0                 Gewiss Stadium    Nicola Rizzoli          Edoardo Reja   \n",
       "1         Stadio Comunale Matusa    Nicola Rizzoli      Roberto Stellone   \n",
       "2                    Dacia Arena  Maurizio Mariani        Luigi De Canio   \n",
       "3  Stadio Olimpico Grande Torino    Antonio Damato  Gian Piero Ventura\\t   \n",
       "4     Stadio Giuseppe Meazza       Gianluca Rocchi       Roberto Mancini   \n",
       "\n",
       "          away_managers data_version shot_fidelity_version xy_fidelity_version  \n",
       "0        Luigi De Canio        1.1.0                     2                   2  \n",
       "1    Stefano Colantuono        1.1.0                     2                   2  \n",
       "2  Gian Piero Ventura\\t        1.1.0                     2                   2  \n",
       "3        Maurizio Sarri        1.1.0                     2                   2  \n",
       "4        Maurizio Sarri        1.1.0                     2                   2  \n",
       "\n",
       "[5 rows x 22 columns]"
      ]
     },
     "execution_count": 9,
     "metadata": {},
     "output_type": "execute_result"
    }
   ],
   "source": [
    "SerieA = sb.matches(competition_id=12, season_id=27)\n",
    "SerieA.head()"
   ]
  },
  {
   "cell_type": "code",
   "execution_count": 10,
   "id": "c2fb83b4",
   "metadata": {
    "scrolled": false
   },
   "outputs": [
    {
     "data": {
      "text/plain": [
       "Index(['match_id', 'match_date', 'kick_off', 'competition', 'season',\n",
       "       'home_team', 'away_team', 'home_score', 'away_score', 'match_status',\n",
       "       'match_status_360', 'last_updated', 'last_updated_360', 'match_week',\n",
       "       'competition_stage', 'stadium', 'referee', 'home_managers',\n",
       "       'away_managers', 'data_version', 'shot_fidelity_version',\n",
       "       'xy_fidelity_version'],\n",
       "      dtype='object')"
      ]
     },
     "execution_count": 10,
     "metadata": {},
     "output_type": "execute_result"
    }
   ],
   "source": [
    "SerieA.columns"
   ]
  },
  {
   "cell_type": "code",
   "execution_count": 11,
   "id": "16a08eac",
   "metadata": {
    "scrolled": true
   },
   "outputs": [
    {
     "name": "stdout",
     "output_type": "stream",
     "text": [
      "['Atalanta' 'Frosinone' 'Udinese' 'Torino' 'Inter Milan' 'Lazio' 'AS Roma'\n",
      " 'Sassuolo' 'AC Milan' 'Sampdoria' 'Napoli' 'Juventus' 'Hellas Verona'\n",
      " 'Bologna' 'Palermo' 'Fiorentina' 'Genoa' 'Empoli' 'Carpi' 'Chievo']\n"
     ]
    }
   ],
   "source": [
    "print(pd.unique(SerieA['home_team']))"
   ]
  },
  {
   "cell_type": "code",
   "execution_count": 12,
   "id": "f12b1ab0",
   "metadata": {},
   "outputs": [],
   "source": [
    "# elevations = {'King Power Stadium ': 57, 'The Hawthorns': 166, \"St. James'' Park\": 78, 'Goodison Park': 47,\n",
    "#  'Selhurst Park': 54, 'Emirates Stadium': 31, 'White Hart Lane': 20, 'Stadium of Light': 40,\n",
    "#  'Villa Park': 105, 'Anfield ': 66, 'bet365 Stadium': 131, 'Old Trafford':43,\n",
    "#  'Vitality Stadium': 33,'Swansea.com Stadium': 15, \"St. Mary''s Stadium\": 1,\n",
    "#  'Carrow Road': 7, 'Stamford Bridge':11, 'Vicarage Road':70, 'Etihad Stadium': 60,\n",
    "#  'Boleyn Ground':11}"
   ]
  },
  {
   "cell_type": "code",
   "execution_count": 13,
   "id": "8ce34408",
   "metadata": {},
   "outputs": [
    {
     "data": {
      "text/plain": [
       "match_id                                    3879863\n",
       "match_date                               2016-05-08\n",
       "kick_off                               15:00:00.000\n",
       "competition                         Italy - Serie A\n",
       "season                                    2015/2016\n",
       "home_team                                  Atalanta\n",
       "away_team                                   Udinese\n",
       "home_score                                        1\n",
       "away_score                                        1\n",
       "match_status                              available\n",
       "match_status_360                        unscheduled\n",
       "last_updated             2023-07-24T07:00:20.863653\n",
       "last_updated_360                               None\n",
       "match_week                                       37\n",
       "competition_stage                    Regular Season\n",
       "stadium                              Gewiss Stadium\n",
       "referee                              Nicola Rizzoli\n",
       "home_managers                          Edoardo Reja\n",
       "away_managers                        Luigi De Canio\n",
       "data_version                                  1.1.0\n",
       "shot_fidelity_version                             2\n",
       "xy_fidelity_version                               2\n",
       "Name: 0, dtype: object"
      ]
     },
     "execution_count": 13,
     "metadata": {},
     "output_type": "execute_result"
    }
   ],
   "source": [
    "SerieA.iloc[0]"
   ]
  },
  {
   "cell_type": "code",
   "execution_count": 14,
   "id": "311e1f7f",
   "metadata": {},
   "outputs": [
    {
     "data": {
      "text/plain": [
       "Index(['ball_receipt_outcome', 'ball_recovery_offensive',\n",
       "       'ball_recovery_recovery_failure', 'carry_end_location',\n",
       "       'clearance_aerial_won', 'clearance_body_part', 'clearance_head',\n",
       "       'clearance_left_foot', 'clearance_right_foot', 'counterpress',\n",
       "       'dribble_nutmeg', 'dribble_outcome', 'dribble_overrun', 'duel_outcome',\n",
       "       'duel_type', 'duration', 'foul_committed_advantage',\n",
       "       'foul_committed_card', 'foul_committed_offensive',\n",
       "       'foul_committed_type', 'foul_won_advantage', 'foul_won_defensive',\n",
       "       'goalkeeper_body_part', 'goalkeeper_end_location', 'goalkeeper_outcome',\n",
       "       'goalkeeper_position', 'goalkeeper_technique', 'goalkeeper_type', 'id',\n",
       "       'index', 'interception_outcome', 'location', 'match_id', 'minute',\n",
       "       'miscontrol_aerial_won', 'off_camera', 'out', 'pass_aerial_won',\n",
       "       'pass_angle', 'pass_assisted_shot_id', 'pass_body_part', 'pass_cross',\n",
       "       'pass_cut_back', 'pass_end_location', 'pass_goal_assist', 'pass_height',\n",
       "       'pass_inswinging', 'pass_length', 'pass_no_touch', 'pass_outcome',\n",
       "       'pass_outswinging', 'pass_recipient', 'pass_recipient_id',\n",
       "       'pass_shot_assist', 'pass_straight', 'pass_switch', 'pass_technique',\n",
       "       'pass_type', 'period', 'play_pattern', 'player', 'player_id',\n",
       "       'position', 'possession', 'possession_team', 'possession_team_id',\n",
       "       'related_events', 'second', 'shot_aerial_won', 'shot_body_part',\n",
       "       'shot_end_location', 'shot_first_time', 'shot_freeze_frame',\n",
       "       'shot_key_pass_id', 'shot_outcome', 'shot_statsbomb_xg',\n",
       "       'shot_technique', 'shot_type', 'substitution_outcome',\n",
       "       'substitution_replacement', 'tactics', 'team', 'team_id', 'timestamp',\n",
       "       'type', 'under_pressure'],\n",
       "      dtype='object')"
      ]
     },
     "execution_count": 14,
     "metadata": {},
     "output_type": "execute_result"
    }
   ],
   "source": [
    "example = sb.events(match_id=3754037)\n",
    "example.columns"
   ]
  },
  {
   "cell_type": "code",
   "execution_count": 15,
   "id": "8a8e5589",
   "metadata": {},
   "outputs": [],
   "source": [
    "relevant_attributes = ['minute', 'second', 'team', 'shot_statsbomb_xg',\n",
    "                       'player', 'position', 'location', 'shot_body_part',\n",
    "       'shot_end_location', 'shot_first_time', \n",
    "         'shot_technique',\n",
    "       'shot_type', 'type','shot_outcome']"
   ]
  },
  {
   "cell_type": "code",
   "execution_count": 16,
   "id": "caad183b",
   "metadata": {},
   "outputs": [],
   "source": [
    "# check_attributes = ['pass_angle', 'pass_assisted_shot_id', 'pass_body_part', 'pass_cross',\n",
    "#        'pass_cut_back', 'pass_end_location', 'pass_goal_assist', 'pass_height',\n",
    "#        'pass_inswinging', 'pass_length', 'pass_no_touch', 'pass_outcome',\n",
    "#        'pass_outswinging', 'pass_recipient', 'pass_recipient_id',\n",
    "#        'pass_shot_assist', 'pass_straight', 'pass_switch', 'pass_technique',\n",
    "#        'pass_type', 'type', 'shot_outcome', 'location']\n",
    "# first_match_df = pd.DataFrame(columns=check_attributes)\n",
    "# for match in PremierLeague['match_id'][:1]:\n",
    "#     match_df = sb.events(match_id=match)\n",
    "#     relevant_match_df = match_df[relevant_attributes][match_df['type']=='Shot']\n",
    "#     first_match_df = pd.concat([first_match_df, relevant_match_df], ignore_index=True)\n",
    "\n",
    "# first_match_df['shot_outcome'] = first_match_df['shot_outcome'].replace(to_replace={'Off T': 0, 'Blocked': 0, 'Saved': 0, 'Goal': 1, 'Wayward': 0, 'Post': 0,\n",
    "#                'Saved to Post': 0, 'Saved Off Target': 0})\n",
    "\n",
    "# first_match_df['distance'] = first_match_df.apply(lambda row: np.sqrt(np.abs(row.location[0]-120)**2 + \n",
    "#                                                      np.abs(row.location[1]-40)**2), axis=1)\n",
    "# first_match_df"
   ]
  },
  {
   "cell_type": "code",
   "execution_count": 17,
   "id": "c6e7b609",
   "metadata": {},
   "outputs": [],
   "source": [
    "SerieA_shots_df = pd.DataFrame(columns=relevant_attributes)"
   ]
  },
  {
   "cell_type": "code",
   "execution_count": 18,
   "id": "a844f0f1",
   "metadata": {},
   "outputs": [
    {
     "name": "stdout",
     "output_type": "stream",
     "text": [
      "script run time: 6.255302782853445 minutes\n"
     ]
    },
    {
     "data": {
      "text/html": [
       "<div>\n",
       "<style scoped>\n",
       "    .dataframe tbody tr th:only-of-type {\n",
       "        vertical-align: middle;\n",
       "    }\n",
       "\n",
       "    .dataframe tbody tr th {\n",
       "        vertical-align: top;\n",
       "    }\n",
       "\n",
       "    .dataframe thead th {\n",
       "        text-align: right;\n",
       "    }\n",
       "</style>\n",
       "<table border=\"1\" class=\"dataframe\">\n",
       "  <thead>\n",
       "    <tr style=\"text-align: right;\">\n",
       "      <th></th>\n",
       "      <th>minute</th>\n",
       "      <th>second</th>\n",
       "      <th>team</th>\n",
       "      <th>shot_statsbomb_xg</th>\n",
       "      <th>player</th>\n",
       "      <th>position</th>\n",
       "      <th>location</th>\n",
       "      <th>shot_body_part</th>\n",
       "      <th>shot_end_location</th>\n",
       "      <th>shot_first_time</th>\n",
       "      <th>shot_technique</th>\n",
       "      <th>shot_type</th>\n",
       "      <th>type</th>\n",
       "      <th>shot_outcome</th>\n",
       "      <th>distance</th>\n",
       "      <th>shot_angle</th>\n",
       "    </tr>\n",
       "  </thead>\n",
       "  <tbody>\n",
       "    <tr>\n",
       "      <th>0</th>\n",
       "      <td>9</td>\n",
       "      <td>30</td>\n",
       "      <td>Udinese</td>\n",
       "      <td>0.074454</td>\n",
       "      <td>Duván Esteban Zapata Banguera</td>\n",
       "      <td>Right Center Forward</td>\n",
       "      <td>[112.0, 35.7]</td>\n",
       "      <td>Head</td>\n",
       "      <td>[120.0, 36.7, 0.5]</td>\n",
       "      <td>NaN</td>\n",
       "      <td>Normal</td>\n",
       "      <td>Open Play</td>\n",
       "      <td>Shot</td>\n",
       "      <td>1</td>\n",
       "      <td>9.082401</td>\n",
       "      <td>0.493196</td>\n",
       "    </tr>\n",
       "    <tr>\n",
       "      <th>1</th>\n",
       "      <td>13</td>\n",
       "      <td>39</td>\n",
       "      <td>Atalanta</td>\n",
       "      <td>0.008508</td>\n",
       "      <td>Davide Brivio</td>\n",
       "      <td>Left Back</td>\n",
       "      <td>[96.1, 19.5]</td>\n",
       "      <td>Left Foot</td>\n",
       "      <td>[105.8, 29.0]</td>\n",
       "      <td>NaN</td>\n",
       "      <td>Normal</td>\n",
       "      <td>Open Play</td>\n",
       "      <td>Shot</td>\n",
       "      <td>0</td>\n",
       "      <td>31.487458</td>\n",
       "      <td>0.708971</td>\n",
       "    </tr>\n",
       "    <tr>\n",
       "      <th>2</th>\n",
       "      <td>15</td>\n",
       "      <td>14</td>\n",
       "      <td>Atalanta</td>\n",
       "      <td>0.085069</td>\n",
       "      <td>Marco Borriello</td>\n",
       "      <td>Center Forward</td>\n",
       "      <td>[110.3, 41.2]</td>\n",
       "      <td>Head</td>\n",
       "      <td>[118.6, 39.5, 1.4]</td>\n",
       "      <td>NaN</td>\n",
       "      <td>Normal</td>\n",
       "      <td>Open Play</td>\n",
       "      <td>Shot</td>\n",
       "      <td>0</td>\n",
       "      <td>9.773945</td>\n",
       "      <td>0.123086</td>\n",
       "    </tr>\n",
       "    <tr>\n",
       "      <th>3</th>\n",
       "      <td>18</td>\n",
       "      <td>36</td>\n",
       "      <td>Atalanta</td>\n",
       "      <td>0.783500</td>\n",
       "      <td>Gianpaolo Bellini</td>\n",
       "      <td>Right Back</td>\n",
       "      <td>[108.1, 40.1]</td>\n",
       "      <td>Right Foot</td>\n",
       "      <td>[120.0, 37.1, 1.2]</td>\n",
       "      <td>NaN</td>\n",
       "      <td>Normal</td>\n",
       "      <td>Penalty</td>\n",
       "      <td>Shot</td>\n",
       "      <td>1</td>\n",
       "      <td>11.900420</td>\n",
       "      <td>0.008403</td>\n",
       "    </tr>\n",
       "    <tr>\n",
       "      <th>4</th>\n",
       "      <td>19</td>\n",
       "      <td>31</td>\n",
       "      <td>Udinese</td>\n",
       "      <td>0.011791</td>\n",
       "      <td>Duván Esteban Zapata Banguera</td>\n",
       "      <td>Right Center Forward</td>\n",
       "      <td>[110.5, 23.4]</td>\n",
       "      <td>Left Foot</td>\n",
       "      <td>[120.0, 33.4, 6.2]</td>\n",
       "      <td>True</td>\n",
       "      <td>Half Volley</td>\n",
       "      <td>Open Play</td>\n",
       "      <td>Shot</td>\n",
       "      <td>0</td>\n",
       "      <td>19.126160</td>\n",
       "      <td>1.051002</td>\n",
       "    </tr>\n",
       "    <tr>\n",
       "      <th>...</th>\n",
       "      <td>...</td>\n",
       "      <td>...</td>\n",
       "      <td>...</td>\n",
       "      <td>...</td>\n",
       "      <td>...</td>\n",
       "      <td>...</td>\n",
       "      <td>...</td>\n",
       "      <td>...</td>\n",
       "      <td>...</td>\n",
       "      <td>...</td>\n",
       "      <td>...</td>\n",
       "      <td>...</td>\n",
       "      <td>...</td>\n",
       "      <td>...</td>\n",
       "      <td>...</td>\n",
       "      <td>...</td>\n",
       "    </tr>\n",
       "    <tr>\n",
       "      <th>9993</th>\n",
       "      <td>89</td>\n",
       "      <td>37</td>\n",
       "      <td>Lazio</td>\n",
       "      <td>0.030999</td>\n",
       "      <td>Danilo Cataldi</td>\n",
       "      <td>Center Defensive Midfield</td>\n",
       "      <td>[98.6, 40.4]</td>\n",
       "      <td>Left Foot</td>\n",
       "      <td>[99.8, 40.4]</td>\n",
       "      <td>NaN</td>\n",
       "      <td>Normal</td>\n",
       "      <td>Open Play</td>\n",
       "      <td>Shot</td>\n",
       "      <td>0</td>\n",
       "      <td>21.403738</td>\n",
       "      <td>0.018689</td>\n",
       "    </tr>\n",
       "    <tr>\n",
       "      <th>9994</th>\n",
       "      <td>90</td>\n",
       "      <td>22</td>\n",
       "      <td>Bologna</td>\n",
       "      <td>0.042634</td>\n",
       "      <td>Franco Brienza</td>\n",
       "      <td>Center Attacking Midfield</td>\n",
       "      <td>[103.0, 51.3]</td>\n",
       "      <td>Left Foot</td>\n",
       "      <td>[111.5, 44.2]</td>\n",
       "      <td>True</td>\n",
       "      <td>Normal</td>\n",
       "      <td>Open Play</td>\n",
       "      <td>Shot</td>\n",
       "      <td>0</td>\n",
       "      <td>20.412986</td>\n",
       "      <td>0.586644</td>\n",
       "    </tr>\n",
       "    <tr>\n",
       "      <th>9995</th>\n",
       "      <td>90</td>\n",
       "      <td>24</td>\n",
       "      <td>Bologna</td>\n",
       "      <td>0.038101</td>\n",
       "      <td>Franco Brienza</td>\n",
       "      <td>Center Attacking Midfield</td>\n",
       "      <td>[103.8, 51.4]</td>\n",
       "      <td>Right Foot</td>\n",
       "      <td>[109.6, 40.9]</td>\n",
       "      <td>True</td>\n",
       "      <td>Half Volley</td>\n",
       "      <td>Open Play</td>\n",
       "      <td>Shot</td>\n",
       "      <td>0</td>\n",
       "      <td>19.809089</td>\n",
       "      <td>0.613207</td>\n",
       "    </tr>\n",
       "    <tr>\n",
       "      <th>9996</th>\n",
       "      <td>90</td>\n",
       "      <td>25</td>\n",
       "      <td>Bologna</td>\n",
       "      <td>0.063746</td>\n",
       "      <td>Matteo Brighi</td>\n",
       "      <td>Right Center Midfield</td>\n",
       "      <td>[110.0, 39.4]</td>\n",
       "      <td>Head</td>\n",
       "      <td>[116.8, 40.9, 2.0]</td>\n",
       "      <td>NaN</td>\n",
       "      <td>Normal</td>\n",
       "      <td>Open Play</td>\n",
       "      <td>Shot</td>\n",
       "      <td>0</td>\n",
       "      <td>10.017984</td>\n",
       "      <td>0.059928</td>\n",
       "    </tr>\n",
       "    <tr>\n",
       "      <th>9997</th>\n",
       "      <td>92</td>\n",
       "      <td>47</td>\n",
       "      <td>Lazio</td>\n",
       "      <td>0.006685</td>\n",
       "      <td>Keita Baldé Diao</td>\n",
       "      <td>Center Forward</td>\n",
       "      <td>[115.2, 19.0]</td>\n",
       "      <td>Left Foot</td>\n",
       "      <td>[120.0, 28.0, 2.8]</td>\n",
       "      <td>NaN</td>\n",
       "      <td>Normal</td>\n",
       "      <td>Open Play</td>\n",
       "      <td>Shot</td>\n",
       "      <td>0</td>\n",
       "      <td>21.541588</td>\n",
       "      <td>1.346085</td>\n",
       "    </tr>\n",
       "  </tbody>\n",
       "</table>\n",
       "<p>9998 rows × 16 columns</p>\n",
       "</div>"
      ],
      "text/plain": [
       "     minute second      team  shot_statsbomb_xg  \\\n",
       "0         9     30   Udinese           0.074454   \n",
       "1        13     39  Atalanta           0.008508   \n",
       "2        15     14  Atalanta           0.085069   \n",
       "3        18     36  Atalanta           0.783500   \n",
       "4        19     31   Udinese           0.011791   \n",
       "...     ...    ...       ...                ...   \n",
       "9993     89     37     Lazio           0.030999   \n",
       "9994     90     22   Bologna           0.042634   \n",
       "9995     90     24   Bologna           0.038101   \n",
       "9996     90     25   Bologna           0.063746   \n",
       "9997     92     47     Lazio           0.006685   \n",
       "\n",
       "                             player                   position       location  \\\n",
       "0     Duván Esteban Zapata Banguera       Right Center Forward  [112.0, 35.7]   \n",
       "1                     Davide Brivio                  Left Back   [96.1, 19.5]   \n",
       "2                   Marco Borriello             Center Forward  [110.3, 41.2]   \n",
       "3                 Gianpaolo Bellini                 Right Back  [108.1, 40.1]   \n",
       "4     Duván Esteban Zapata Banguera       Right Center Forward  [110.5, 23.4]   \n",
       "...                             ...                        ...            ...   \n",
       "9993                 Danilo Cataldi  Center Defensive Midfield   [98.6, 40.4]   \n",
       "9994                 Franco Brienza  Center Attacking Midfield  [103.0, 51.3]   \n",
       "9995                 Franco Brienza  Center Attacking Midfield  [103.8, 51.4]   \n",
       "9996                  Matteo Brighi      Right Center Midfield  [110.0, 39.4]   \n",
       "9997               Keita Baldé Diao             Center Forward  [115.2, 19.0]   \n",
       "\n",
       "     shot_body_part   shot_end_location shot_first_time shot_technique  \\\n",
       "0              Head  [120.0, 36.7, 0.5]             NaN         Normal   \n",
       "1         Left Foot       [105.8, 29.0]             NaN         Normal   \n",
       "2              Head  [118.6, 39.5, 1.4]             NaN         Normal   \n",
       "3        Right Foot  [120.0, 37.1, 1.2]             NaN         Normal   \n",
       "4         Left Foot  [120.0, 33.4, 6.2]            True    Half Volley   \n",
       "...             ...                 ...             ...            ...   \n",
       "9993      Left Foot        [99.8, 40.4]             NaN         Normal   \n",
       "9994      Left Foot       [111.5, 44.2]            True         Normal   \n",
       "9995     Right Foot       [109.6, 40.9]            True    Half Volley   \n",
       "9996           Head  [116.8, 40.9, 2.0]             NaN         Normal   \n",
       "9997      Left Foot  [120.0, 28.0, 2.8]             NaN         Normal   \n",
       "\n",
       "      shot_type  type  shot_outcome   distance  shot_angle  \n",
       "0     Open Play  Shot             1   9.082401    0.493196  \n",
       "1     Open Play  Shot             0  31.487458    0.708971  \n",
       "2     Open Play  Shot             0   9.773945    0.123086  \n",
       "3       Penalty  Shot             1  11.900420    0.008403  \n",
       "4     Open Play  Shot             0  19.126160    1.051002  \n",
       "...         ...   ...           ...        ...         ...  \n",
       "9993  Open Play  Shot             0  21.403738    0.018689  \n",
       "9994  Open Play  Shot             0  20.412986    0.586644  \n",
       "9995  Open Play  Shot             0  19.809089    0.613207  \n",
       "9996  Open Play  Shot             0  10.017984    0.059928  \n",
       "9997  Open Play  Shot             0  21.541588    1.346085  \n",
       "\n",
       "[9998 rows x 16 columns]"
      ]
     },
     "execution_count": 18,
     "metadata": {},
     "output_type": "execute_result"
    }
   ],
   "source": [
    "start = time.time()\n",
    "for match in SerieA['match_id']:#[:10]:\n",
    "    match_df = sb.events(match_id=match)\n",
    "    relevant_match_df = match_df[relevant_attributes][match_df['type']=='Shot']\n",
    "    SerieA_shots_df = pd.concat([SerieA_shots_df, relevant_match_df], ignore_index=True)\n",
    "\n",
    "SerieA_shots_df['shot_outcome'] = SerieA_shots_df['shot_outcome'].replace(\n",
    "    to_replace={'Off T': 0, 'Blocked': 0, 'Saved': 0, 'Goal': 1, 'Wayward': 0, 'Post': 0,\n",
    "               'Saved to Post': 0, 'Saved Off Target': 0})\n",
    "\n",
    "SerieA_shots_df['distance'] = SerieA_shots_df.apply(lambda row: np.sqrt(np.abs(\n",
    "    row.location[0]-120)**2 + np.abs(row.location[1]-40)**2), axis=1)\n",
    "SerieA_shots_df['shot_angle'] = SerieA_shots_df.apply(\n",
    "    lambda row: np.arctan2(np.abs(40-row.location[1]), np.abs(120-row.location[0])), axis=1)\n",
    "end = time.time()\n",
    "print(f'script run time: {(end - start)/60} minutes')\n",
    "SerieA_shots_df"
   ]
  },
  {
   "cell_type": "markdown",
   "id": "e34af5a1",
   "metadata": {},
   "source": [
    "## Describing the Data"
   ]
  },
  {
   "cell_type": "code",
   "execution_count": 19,
   "id": "6d1a70c5",
   "metadata": {},
   "outputs": [
    {
     "data": {
      "text/html": [
       "<div>\n",
       "<style scoped>\n",
       "    .dataframe tbody tr th:only-of-type {\n",
       "        vertical-align: middle;\n",
       "    }\n",
       "\n",
       "    .dataframe tbody tr th {\n",
       "        vertical-align: top;\n",
       "    }\n",
       "\n",
       "    .dataframe thead th {\n",
       "        text-align: right;\n",
       "    }\n",
       "</style>\n",
       "<table border=\"1\" class=\"dataframe\">\n",
       "  <thead>\n",
       "    <tr style=\"text-align: right;\">\n",
       "      <th></th>\n",
       "      <th>shot_statsbomb_xg</th>\n",
       "      <th>shot_outcome</th>\n",
       "      <th>distance</th>\n",
       "      <th>shot_angle</th>\n",
       "    </tr>\n",
       "  </thead>\n",
       "  <tbody>\n",
       "    <tr>\n",
       "      <th>count</th>\n",
       "      <td>9998.000000</td>\n",
       "      <td>9998.000000</td>\n",
       "      <td>9998.000000</td>\n",
       "      <td>9998.000000</td>\n",
       "    </tr>\n",
       "    <tr>\n",
       "      <th>mean</th>\n",
       "      <td>0.092096</td>\n",
       "      <td>0.095119</td>\n",
       "      <td>20.375004</td>\n",
       "      <td>0.467866</td>\n",
       "    </tr>\n",
       "    <tr>\n",
       "      <th>std</th>\n",
       "      <td>0.138325</td>\n",
       "      <td>0.293394</td>\n",
       "      <td>8.818727</td>\n",
       "      <td>0.315729</td>\n",
       "    </tr>\n",
       "    <tr>\n",
       "      <th>min</th>\n",
       "      <td>0.000180</td>\n",
       "      <td>0.000000</td>\n",
       "      <td>1.414214</td>\n",
       "      <td>0.000000</td>\n",
       "    </tr>\n",
       "    <tr>\n",
       "      <th>25%</th>\n",
       "      <td>0.024520</td>\n",
       "      <td>0.000000</td>\n",
       "      <td>13.024976</td>\n",
       "      <td>0.208056</td>\n",
       "    </tr>\n",
       "    <tr>\n",
       "      <th>50%</th>\n",
       "      <td>0.045155</td>\n",
       "      <td>0.000000</td>\n",
       "      <td>20.205445</td>\n",
       "      <td>0.431401</td>\n",
       "    </tr>\n",
       "    <tr>\n",
       "      <th>75%</th>\n",
       "      <td>0.089720</td>\n",
       "      <td>0.000000</td>\n",
       "      <td>26.820608</td>\n",
       "      <td>0.685084</td>\n",
       "    </tr>\n",
       "    <tr>\n",
       "      <th>max</th>\n",
       "      <td>0.966261</td>\n",
       "      <td>1.000000</td>\n",
       "      <td>88.833158</td>\n",
       "      <td>1.570796</td>\n",
       "    </tr>\n",
       "  </tbody>\n",
       "</table>\n",
       "</div>"
      ],
      "text/plain": [
       "       shot_statsbomb_xg  shot_outcome     distance   shot_angle\n",
       "count        9998.000000   9998.000000  9998.000000  9998.000000\n",
       "mean            0.092096      0.095119    20.375004     0.467866\n",
       "std             0.138325      0.293394     8.818727     0.315729\n",
       "min             0.000180      0.000000     1.414214     0.000000\n",
       "25%             0.024520      0.000000    13.024976     0.208056\n",
       "50%             0.045155      0.000000    20.205445     0.431401\n",
       "75%             0.089720      0.000000    26.820608     0.685084\n",
       "max             0.966261      1.000000    88.833158     1.570796"
      ]
     },
     "execution_count": 19,
     "metadata": {},
     "output_type": "execute_result"
    }
   ],
   "source": [
    "SerieA_shots_df.describe()"
   ]
  },
  {
   "cell_type": "code",
   "execution_count": 20,
   "id": "caeeb950",
   "metadata": {},
   "outputs": [],
   "source": [
    "SerieA_shots_df = SerieA_shots_df[SerieA_shots_df.shot_type != 'Corner']"
   ]
  },
  {
   "cell_type": "code",
   "execution_count": 21,
   "id": "a2bf287d",
   "metadata": {},
   "outputs": [
    {
     "data": {
      "text/plain": [
       "shot_outcome\n",
       "0    9046\n",
       "1     950\n",
       "Name: count, dtype: int64"
      ]
     },
     "execution_count": 21,
     "metadata": {},
     "output_type": "execute_result"
    }
   ],
   "source": [
    "SerieA_shots_df['shot_outcome'].value_counts()"
   ]
  },
  {
   "cell_type": "code",
   "execution_count": 22,
   "id": "58753b95",
   "metadata": {},
   "outputs": [
    {
     "data": {
      "text/html": [
       "<div>\n",
       "<style scoped>\n",
       "    .dataframe tbody tr th:only-of-type {\n",
       "        vertical-align: middle;\n",
       "    }\n",
       "\n",
       "    .dataframe tbody tr th {\n",
       "        vertical-align: top;\n",
       "    }\n",
       "\n",
       "    .dataframe thead th {\n",
       "        text-align: right;\n",
       "    }\n",
       "</style>\n",
       "<table border=\"1\" class=\"dataframe\">\n",
       "  <thead>\n",
       "    <tr style=\"text-align: right;\">\n",
       "      <th></th>\n",
       "      <th>team</th>\n",
       "      <th>shots</th>\n",
       "      <th>goals</th>\n",
       "      <th>statsbomb_xg</th>\n",
       "    </tr>\n",
       "  </thead>\n",
       "  <tbody>\n",
       "    <tr>\n",
       "      <th>4</th>\n",
       "      <td>Napoli</td>\n",
       "      <td>664</td>\n",
       "      <td>78</td>\n",
       "      <td>64.630668</td>\n",
       "    </tr>\n",
       "    <tr>\n",
       "      <th>15</th>\n",
       "      <td>Juventus</td>\n",
       "      <td>608</td>\n",
       "      <td>72</td>\n",
       "      <td>61.679564</td>\n",
       "    </tr>\n",
       "    <tr>\n",
       "      <th>9</th>\n",
       "      <td>AS Roma</td>\n",
       "      <td>592</td>\n",
       "      <td>83</td>\n",
       "      <td>61.949056</td>\n",
       "    </tr>\n",
       "    <tr>\n",
       "      <th>8</th>\n",
       "      <td>Fiorentina</td>\n",
       "      <td>582</td>\n",
       "      <td>58</td>\n",
       "      <td>53.828352</td>\n",
       "    </tr>\n",
       "    <tr>\n",
       "      <th>13</th>\n",
       "      <td>AC Milan</td>\n",
       "      <td>564</td>\n",
       "      <td>49</td>\n",
       "      <td>53.695526</td>\n",
       "    </tr>\n",
       "    <tr>\n",
       "      <th>5</th>\n",
       "      <td>Inter Milan</td>\n",
       "      <td>530</td>\n",
       "      <td>49</td>\n",
       "      <td>51.36453</td>\n",
       "    </tr>\n",
       "    <tr>\n",
       "      <th>6</th>\n",
       "      <td>Lazio</td>\n",
       "      <td>520</td>\n",
       "      <td>52</td>\n",
       "      <td>50.363241</td>\n",
       "    </tr>\n",
       "    <tr>\n",
       "      <th>10</th>\n",
       "      <td>Sassuolo</td>\n",
       "      <td>495</td>\n",
       "      <td>48</td>\n",
       "      <td>44.856433</td>\n",
       "    </tr>\n",
       "    <tr>\n",
       "      <th>2</th>\n",
       "      <td>Frosinone</td>\n",
       "      <td>492</td>\n",
       "      <td>34</td>\n",
       "      <td>31.477645</td>\n",
       "    </tr>\n",
       "    <tr>\n",
       "      <th>7</th>\n",
       "      <td>Empoli</td>\n",
       "      <td>489</td>\n",
       "      <td>39</td>\n",
       "      <td>36.909571</td>\n",
       "    </tr>\n",
       "    <tr>\n",
       "      <th>3</th>\n",
       "      <td>Torino</td>\n",
       "      <td>478</td>\n",
       "      <td>49</td>\n",
       "      <td>48.972144</td>\n",
       "    </tr>\n",
       "    <tr>\n",
       "      <th>18</th>\n",
       "      <td>Genoa</td>\n",
       "      <td>473</td>\n",
       "      <td>44</td>\n",
       "      <td>42.862237</td>\n",
       "    </tr>\n",
       "    <tr>\n",
       "      <th>1</th>\n",
       "      <td>Atalanta</td>\n",
       "      <td>471</td>\n",
       "      <td>37</td>\n",
       "      <td>42.361666</td>\n",
       "    </tr>\n",
       "    <tr>\n",
       "      <th>16</th>\n",
       "      <td>Hellas Verona</td>\n",
       "      <td>469</td>\n",
       "      <td>34</td>\n",
       "      <td>42.945356</td>\n",
       "    </tr>\n",
       "    <tr>\n",
       "      <th>0</th>\n",
       "      <td>Udinese</td>\n",
       "      <td>454</td>\n",
       "      <td>34</td>\n",
       "      <td>45.657134</td>\n",
       "    </tr>\n",
       "    <tr>\n",
       "      <th>12</th>\n",
       "      <td>Sampdoria</td>\n",
       "      <td>439</td>\n",
       "      <td>45</td>\n",
       "      <td>40.39989</td>\n",
       "    </tr>\n",
       "    <tr>\n",
       "      <th>19</th>\n",
       "      <td>Carpi</td>\n",
       "      <td>434</td>\n",
       "      <td>33</td>\n",
       "      <td>41.047142</td>\n",
       "    </tr>\n",
       "    <tr>\n",
       "      <th>14</th>\n",
       "      <td>Chievo</td>\n",
       "      <td>431</td>\n",
       "      <td>42</td>\n",
       "      <td>37.904742</td>\n",
       "    </tr>\n",
       "    <tr>\n",
       "      <th>17</th>\n",
       "      <td>Palermo</td>\n",
       "      <td>416</td>\n",
       "      <td>37</td>\n",
       "      <td>35.527671</td>\n",
       "    </tr>\n",
       "    <tr>\n",
       "      <th>11</th>\n",
       "      <td>Bologna</td>\n",
       "      <td>395</td>\n",
       "      <td>33</td>\n",
       "      <td>32.346391</td>\n",
       "    </tr>\n",
       "  </tbody>\n",
       "</table>\n",
       "</div>"
      ],
      "text/plain": [
       "             team shots goals statsbomb_xg\n",
       "4          Napoli   664    78    64.630668\n",
       "15       Juventus   608    72    61.679564\n",
       "9         AS Roma   592    83    61.949056\n",
       "8      Fiorentina   582    58    53.828352\n",
       "13       AC Milan   564    49    53.695526\n",
       "5     Inter Milan   530    49     51.36453\n",
       "6           Lazio   520    52    50.363241\n",
       "10       Sassuolo   495    48    44.856433\n",
       "2       Frosinone   492    34    31.477645\n",
       "7          Empoli   489    39    36.909571\n",
       "3          Torino   478    49    48.972144\n",
       "18          Genoa   473    44    42.862237\n",
       "1        Atalanta   471    37    42.361666\n",
       "16  Hellas Verona   469    34    42.945356\n",
       "0         Udinese   454    34    45.657134\n",
       "12      Sampdoria   439    45     40.39989\n",
       "19          Carpi   434    33    41.047142\n",
       "14         Chievo   431    42    37.904742\n",
       "17        Palermo   416    37    35.527671\n",
       "11        Bologna   395    33    32.346391"
      ]
     },
     "execution_count": 22,
     "metadata": {},
     "output_type": "execute_result"
    }
   ],
   "source": [
    "SerieA_team_summary_df = pd.DataFrame(columns = ['team', 'shots', 'goals', 'statsbomb_xg'])\n",
    "for team in pd.unique(SerieA_shots_df['team']):\n",
    "    shot_sum = SerieA_shots_df['team'].value_counts()[team]\n",
    "    goal_sum = sum(SerieA_shots_df[SerieA_shots_df['team']==team]['shot_outcome'])\n",
    "    statsbomb_xg_sum = sum(SerieA_shots_df[SerieA_shots_df['team']==team]['shot_statsbomb_xg'])\n",
    "    new_row = pd.Series({'team': team, 'shots': shot_sum, 'goals': goal_sum, 'statsbomb_xg': statsbomb_xg_sum})\n",
    "    SerieA_team_summary_df.loc[len(SerieA_team_summary_df)]=new_row\n",
    "SerieA_team_summary_df = SerieA_team_summary_df.sort_values(by=['shots'], ascending=False)\n",
    "SerieA_team_summary_df"
   ]
  },
  {
   "cell_type": "code",
   "execution_count": 23,
   "id": "e6af03c6",
   "metadata": {},
   "outputs": [
    {
     "data": {
      "text/plain": [
       "Index(['minute', 'second', 'team', 'shot_statsbomb_xg', 'player', 'position',\n",
       "       'location', 'shot_body_part', 'shot_end_location', 'shot_first_time',\n",
       "       'shot_technique', 'shot_type', 'type', 'shot_outcome', 'distance',\n",
       "       'shot_angle'],\n",
       "      dtype='object')"
      ]
     },
     "execution_count": 23,
     "metadata": {},
     "output_type": "execute_result"
    }
   ],
   "source": [
    "SerieA_shots_df.columns"
   ]
  },
  {
   "cell_type": "markdown",
   "id": "31a974fd",
   "metadata": {},
   "source": [
    "## Training Model"
   ]
  },
  {
   "cell_type": "code",
   "execution_count": 24,
   "id": "ad5d008b",
   "metadata": {},
   "outputs": [],
   "source": [
    "cap_x_df, y_df = pd.concat([SerieA_shots_df.iloc[:,:-3], SerieA_shots_df.iloc[:,-2:]], axis=1),SerieA_shots_df.iloc[:,-3].to_frame()"
   ]
  },
  {
   "cell_type": "code",
   "execution_count": 25,
   "id": "e78fe3a4",
   "metadata": {},
   "outputs": [],
   "source": [
    "train_cap_x_df, test_cap_x_df, train_y_df, test_y_df = \\\n",
    "train_test_split(cap_x_df, y_df,\n",
    "                 test_size=0.20,\n",
    "                random_state=42,\n",
    "                 shuffle=True,\n",
    "                stratify=y_df)"
   ]
  },
  {
   "cell_type": "code",
   "execution_count": 26,
   "id": "1ecb013b",
   "metadata": {},
   "outputs": [],
   "source": [
    "target_attr = 'shot_outcome'"
   ]
  },
  {
   "cell_type": "code",
   "execution_count": 27,
   "id": "19ca5dd3",
   "metadata": {},
   "outputs": [],
   "source": [
    "numerical_attrs = ['distance', 'minute', 'shot_angle']"
   ]
  },
  {
   "cell_type": "code",
   "execution_count": 28,
   "id": "428553b4",
   "metadata": {},
   "outputs": [],
   "source": [
    "nominal_attrs = ['shot_technique', 'shot_type', 'shot_body_part', 'position', 'shot_first_time', 'position']"
   ]
  },
  {
   "cell_type": "code",
   "execution_count": 29,
   "id": "719fb4b5",
   "metadata": {},
   "outputs": [],
   "source": [
    "numerical_transformer = Pipeline(\n",
    "        steps=[(\"imputer\", SimpleImputer()),\n",
    "               (\"scaler\", StandardScaler())]\n",
    "    )"
   ]
  },
  {
   "cell_type": "code",
   "execution_count": 30,
   "id": "924fde4f",
   "metadata": {},
   "outputs": [],
   "source": [
    "nominal_transformer = Pipeline(\n",
    "        steps=[(\"imputer\", SimpleImputer(strategy=\"most_frequent\")),\n",
    "               #('target_encoder', TargetEncoder(target_type=target_type, random_state=42)),\n",
    "               (\"target_encoder\", OrdinalEncoder()),\n",
    "               (\"scaler\", StandardScaler())\n",
    "               ]\n",
    "    )"
   ]
  },
  {
   "cell_type": "code",
   "execution_count": 31,
   "id": "01ecf6a1",
   "metadata": {},
   "outputs": [],
   "source": [
    "preprocessor = ColumnTransformer(\n",
    "        transformers=[\n",
    "            ('numerical', numerical_transformer, numerical_attrs),\n",
    "            ('nominal', nominal_transformer, nominal_attrs)\n",
    "        ]\n",
    "    )"
   ]
  },
  {
   "cell_type": "markdown",
   "id": "107b94b5",
   "metadata": {},
   "source": [
    "## Try with Logistic Regression"
   ]
  },
  {
   "cell_type": "code",
   "execution_count": 32,
   "id": "869d0305",
   "metadata": {},
   "outputs": [],
   "source": [
    "estimator = LogisticRegression()"
   ]
  },
  {
   "cell_type": "code",
   "execution_count": 33,
   "id": "b36798eb",
   "metadata": {},
   "outputs": [],
   "source": [
    "composite_estimator = Pipeline(steps=[('preprocessor', preprocessor), ('estimator', estimator)])"
   ]
  },
  {
   "cell_type": "code",
   "execution_count": 34,
   "id": "b7d07e3f",
   "metadata": {},
   "outputs": [
    {
     "data": {
      "text/html": [
       "<style>#sk-container-id-1 {color: black;}#sk-container-id-1 pre{padding: 0;}#sk-container-id-1 div.sk-toggleable {background-color: white;}#sk-container-id-1 label.sk-toggleable__label {cursor: pointer;display: block;width: 100%;margin-bottom: 0;padding: 0.3em;box-sizing: border-box;text-align: center;}#sk-container-id-1 label.sk-toggleable__label-arrow:before {content: \"▸\";float: left;margin-right: 0.25em;color: #696969;}#sk-container-id-1 label.sk-toggleable__label-arrow:hover:before {color: black;}#sk-container-id-1 div.sk-estimator:hover label.sk-toggleable__label-arrow:before {color: black;}#sk-container-id-1 div.sk-toggleable__content {max-height: 0;max-width: 0;overflow: hidden;text-align: left;background-color: #f0f8ff;}#sk-container-id-1 div.sk-toggleable__content pre {margin: 0.2em;color: black;border-radius: 0.25em;background-color: #f0f8ff;}#sk-container-id-1 input.sk-toggleable__control:checked~div.sk-toggleable__content {max-height: 200px;max-width: 100%;overflow: auto;}#sk-container-id-1 input.sk-toggleable__control:checked~label.sk-toggleable__label-arrow:before {content: \"▾\";}#sk-container-id-1 div.sk-estimator input.sk-toggleable__control:checked~label.sk-toggleable__label {background-color: #d4ebff;}#sk-container-id-1 div.sk-label input.sk-toggleable__control:checked~label.sk-toggleable__label {background-color: #d4ebff;}#sk-container-id-1 input.sk-hidden--visually {border: 0;clip: rect(1px 1px 1px 1px);clip: rect(1px, 1px, 1px, 1px);height: 1px;margin: -1px;overflow: hidden;padding: 0;position: absolute;width: 1px;}#sk-container-id-1 div.sk-estimator {font-family: monospace;background-color: #f0f8ff;border: 1px dotted black;border-radius: 0.25em;box-sizing: border-box;margin-bottom: 0.5em;}#sk-container-id-1 div.sk-estimator:hover {background-color: #d4ebff;}#sk-container-id-1 div.sk-parallel-item::after {content: \"\";width: 100%;border-bottom: 1px solid gray;flex-grow: 1;}#sk-container-id-1 div.sk-label:hover label.sk-toggleable__label {background-color: #d4ebff;}#sk-container-id-1 div.sk-serial::before {content: \"\";position: absolute;border-left: 1px solid gray;box-sizing: border-box;top: 0;bottom: 0;left: 50%;z-index: 0;}#sk-container-id-1 div.sk-serial {display: flex;flex-direction: column;align-items: center;background-color: white;padding-right: 0.2em;padding-left: 0.2em;position: relative;}#sk-container-id-1 div.sk-item {position: relative;z-index: 1;}#sk-container-id-1 div.sk-parallel {display: flex;align-items: stretch;justify-content: center;background-color: white;position: relative;}#sk-container-id-1 div.sk-item::before, #sk-container-id-1 div.sk-parallel-item::before {content: \"\";position: absolute;border-left: 1px solid gray;box-sizing: border-box;top: 0;bottom: 0;left: 50%;z-index: -1;}#sk-container-id-1 div.sk-parallel-item {display: flex;flex-direction: column;z-index: 1;position: relative;background-color: white;}#sk-container-id-1 div.sk-parallel-item:first-child::after {align-self: flex-end;width: 50%;}#sk-container-id-1 div.sk-parallel-item:last-child::after {align-self: flex-start;width: 50%;}#sk-container-id-1 div.sk-parallel-item:only-child::after {width: 0;}#sk-container-id-1 div.sk-dashed-wrapped {border: 1px dashed gray;margin: 0 0.4em 0.5em 0.4em;box-sizing: border-box;padding-bottom: 0.4em;background-color: white;}#sk-container-id-1 div.sk-label label {font-family: monospace;font-weight: bold;display: inline-block;line-height: 1.2em;}#sk-container-id-1 div.sk-label-container {text-align: center;}#sk-container-id-1 div.sk-container {/* jupyter's `normalize.less` sets `[hidden] { display: none; }` but bootstrap.min.css set `[hidden] { display: none !important; }` so we also need the `!important` here to be able to override the default hidden behavior on the sphinx rendered scikit-learn.org. See: https://github.com/scikit-learn/scikit-learn/issues/21755 */display: inline-block !important;position: relative;}#sk-container-id-1 div.sk-text-repr-fallback {display: none;}</style><div id=\"sk-container-id-1\" class=\"sk-top-container\"><div class=\"sk-text-repr-fallback\"><pre>Pipeline(steps=[(&#x27;preprocessor&#x27;,\n",
       "                 ColumnTransformer(transformers=[(&#x27;numerical&#x27;,\n",
       "                                                  Pipeline(steps=[(&#x27;imputer&#x27;,\n",
       "                                                                   SimpleImputer()),\n",
       "                                                                  (&#x27;scaler&#x27;,\n",
       "                                                                   StandardScaler())]),\n",
       "                                                  [&#x27;distance&#x27;, &#x27;minute&#x27;,\n",
       "                                                   &#x27;shot_angle&#x27;]),\n",
       "                                                 (&#x27;nominal&#x27;,\n",
       "                                                  Pipeline(steps=[(&#x27;imputer&#x27;,\n",
       "                                                                   SimpleImputer(strategy=&#x27;most_frequent&#x27;)),\n",
       "                                                                  (&#x27;target_encoder&#x27;,\n",
       "                                                                   OrdinalEncoder()),\n",
       "                                                                  (&#x27;scaler&#x27;,\n",
       "                                                                   StandardScaler())]),\n",
       "                                                  [&#x27;shot_technique&#x27;,\n",
       "                                                   &#x27;shot_type&#x27;,\n",
       "                                                   &#x27;shot_body_part&#x27;, &#x27;position&#x27;,\n",
       "                                                   &#x27;shot_first_time&#x27;,\n",
       "                                                   &#x27;position&#x27;])])),\n",
       "                (&#x27;estimator&#x27;, LogisticRegression())])</pre><b>In a Jupyter environment, please rerun this cell to show the HTML representation or trust the notebook. <br />On GitHub, the HTML representation is unable to render, please try loading this page with nbviewer.org.</b></div><div class=\"sk-container\" hidden><div class=\"sk-item sk-dashed-wrapped\"><div class=\"sk-label-container\"><div class=\"sk-label sk-toggleable\"><input class=\"sk-toggleable__control sk-hidden--visually\" id=\"sk-estimator-id-1\" type=\"checkbox\" ><label for=\"sk-estimator-id-1\" class=\"sk-toggleable__label sk-toggleable__label-arrow\">Pipeline</label><div class=\"sk-toggleable__content\"><pre>Pipeline(steps=[(&#x27;preprocessor&#x27;,\n",
       "                 ColumnTransformer(transformers=[(&#x27;numerical&#x27;,\n",
       "                                                  Pipeline(steps=[(&#x27;imputer&#x27;,\n",
       "                                                                   SimpleImputer()),\n",
       "                                                                  (&#x27;scaler&#x27;,\n",
       "                                                                   StandardScaler())]),\n",
       "                                                  [&#x27;distance&#x27;, &#x27;minute&#x27;,\n",
       "                                                   &#x27;shot_angle&#x27;]),\n",
       "                                                 (&#x27;nominal&#x27;,\n",
       "                                                  Pipeline(steps=[(&#x27;imputer&#x27;,\n",
       "                                                                   SimpleImputer(strategy=&#x27;most_frequent&#x27;)),\n",
       "                                                                  (&#x27;target_encoder&#x27;,\n",
       "                                                                   OrdinalEncoder()),\n",
       "                                                                  (&#x27;scaler&#x27;,\n",
       "                                                                   StandardScaler())]),\n",
       "                                                  [&#x27;shot_technique&#x27;,\n",
       "                                                   &#x27;shot_type&#x27;,\n",
       "                                                   &#x27;shot_body_part&#x27;, &#x27;position&#x27;,\n",
       "                                                   &#x27;shot_first_time&#x27;,\n",
       "                                                   &#x27;position&#x27;])])),\n",
       "                (&#x27;estimator&#x27;, LogisticRegression())])</pre></div></div></div><div class=\"sk-serial\"><div class=\"sk-item sk-dashed-wrapped\"><div class=\"sk-label-container\"><div class=\"sk-label sk-toggleable\"><input class=\"sk-toggleable__control sk-hidden--visually\" id=\"sk-estimator-id-2\" type=\"checkbox\" ><label for=\"sk-estimator-id-2\" class=\"sk-toggleable__label sk-toggleable__label-arrow\">preprocessor: ColumnTransformer</label><div class=\"sk-toggleable__content\"><pre>ColumnTransformer(transformers=[(&#x27;numerical&#x27;,\n",
       "                                 Pipeline(steps=[(&#x27;imputer&#x27;, SimpleImputer()),\n",
       "                                                 (&#x27;scaler&#x27;, StandardScaler())]),\n",
       "                                 [&#x27;distance&#x27;, &#x27;minute&#x27;, &#x27;shot_angle&#x27;]),\n",
       "                                (&#x27;nominal&#x27;,\n",
       "                                 Pipeline(steps=[(&#x27;imputer&#x27;,\n",
       "                                                  SimpleImputer(strategy=&#x27;most_frequent&#x27;)),\n",
       "                                                 (&#x27;target_encoder&#x27;,\n",
       "                                                  OrdinalEncoder()),\n",
       "                                                 (&#x27;scaler&#x27;, StandardScaler())]),\n",
       "                                 [&#x27;shot_technique&#x27;, &#x27;shot_type&#x27;,\n",
       "                                  &#x27;shot_body_part&#x27;, &#x27;position&#x27;,\n",
       "                                  &#x27;shot_first_time&#x27;, &#x27;position&#x27;])])</pre></div></div></div><div class=\"sk-parallel\"><div class=\"sk-parallel-item\"><div class=\"sk-item\"><div class=\"sk-label-container\"><div class=\"sk-label sk-toggleable\"><input class=\"sk-toggleable__control sk-hidden--visually\" id=\"sk-estimator-id-3\" type=\"checkbox\" ><label for=\"sk-estimator-id-3\" class=\"sk-toggleable__label sk-toggleable__label-arrow\">numerical</label><div class=\"sk-toggleable__content\"><pre>[&#x27;distance&#x27;, &#x27;minute&#x27;, &#x27;shot_angle&#x27;]</pre></div></div></div><div class=\"sk-serial\"><div class=\"sk-item\"><div class=\"sk-serial\"><div class=\"sk-item\"><div class=\"sk-estimator sk-toggleable\"><input class=\"sk-toggleable__control sk-hidden--visually\" id=\"sk-estimator-id-4\" type=\"checkbox\" ><label for=\"sk-estimator-id-4\" class=\"sk-toggleable__label sk-toggleable__label-arrow\">SimpleImputer</label><div class=\"sk-toggleable__content\"><pre>SimpleImputer()</pre></div></div></div><div class=\"sk-item\"><div class=\"sk-estimator sk-toggleable\"><input class=\"sk-toggleable__control sk-hidden--visually\" id=\"sk-estimator-id-5\" type=\"checkbox\" ><label for=\"sk-estimator-id-5\" class=\"sk-toggleable__label sk-toggleable__label-arrow\">StandardScaler</label><div class=\"sk-toggleable__content\"><pre>StandardScaler()</pre></div></div></div></div></div></div></div></div><div class=\"sk-parallel-item\"><div class=\"sk-item\"><div class=\"sk-label-container\"><div class=\"sk-label sk-toggleable\"><input class=\"sk-toggleable__control sk-hidden--visually\" id=\"sk-estimator-id-6\" type=\"checkbox\" ><label for=\"sk-estimator-id-6\" class=\"sk-toggleable__label sk-toggleable__label-arrow\">nominal</label><div class=\"sk-toggleable__content\"><pre>[&#x27;shot_technique&#x27;, &#x27;shot_type&#x27;, &#x27;shot_body_part&#x27;, &#x27;position&#x27;, &#x27;shot_first_time&#x27;, &#x27;position&#x27;]</pre></div></div></div><div class=\"sk-serial\"><div class=\"sk-item\"><div class=\"sk-serial\"><div class=\"sk-item\"><div class=\"sk-estimator sk-toggleable\"><input class=\"sk-toggleable__control sk-hidden--visually\" id=\"sk-estimator-id-7\" type=\"checkbox\" ><label for=\"sk-estimator-id-7\" class=\"sk-toggleable__label sk-toggleable__label-arrow\">SimpleImputer</label><div class=\"sk-toggleable__content\"><pre>SimpleImputer(strategy=&#x27;most_frequent&#x27;)</pre></div></div></div><div class=\"sk-item\"><div class=\"sk-estimator sk-toggleable\"><input class=\"sk-toggleable__control sk-hidden--visually\" id=\"sk-estimator-id-8\" type=\"checkbox\" ><label for=\"sk-estimator-id-8\" class=\"sk-toggleable__label sk-toggleable__label-arrow\">OrdinalEncoder</label><div class=\"sk-toggleable__content\"><pre>OrdinalEncoder()</pre></div></div></div><div class=\"sk-item\"><div class=\"sk-estimator sk-toggleable\"><input class=\"sk-toggleable__control sk-hidden--visually\" id=\"sk-estimator-id-9\" type=\"checkbox\" ><label for=\"sk-estimator-id-9\" class=\"sk-toggleable__label sk-toggleable__label-arrow\">StandardScaler</label><div class=\"sk-toggleable__content\"><pre>StandardScaler()</pre></div></div></div></div></div></div></div></div></div></div><div class=\"sk-item\"><div class=\"sk-estimator sk-toggleable\"><input class=\"sk-toggleable__control sk-hidden--visually\" id=\"sk-estimator-id-10\" type=\"checkbox\" ><label for=\"sk-estimator-id-10\" class=\"sk-toggleable__label sk-toggleable__label-arrow\">LogisticRegression</label><div class=\"sk-toggleable__content\"><pre>LogisticRegression()</pre></div></div></div></div></div></div></div>"
      ],
      "text/plain": [
       "Pipeline(steps=[('preprocessor',\n",
       "                 ColumnTransformer(transformers=[('numerical',\n",
       "                                                  Pipeline(steps=[('imputer',\n",
       "                                                                   SimpleImputer()),\n",
       "                                                                  ('scaler',\n",
       "                                                                   StandardScaler())]),\n",
       "                                                  ['distance', 'minute',\n",
       "                                                   'shot_angle']),\n",
       "                                                 ('nominal',\n",
       "                                                  Pipeline(steps=[('imputer',\n",
       "                                                                   SimpleImputer(strategy='most_frequent')),\n",
       "                                                                  ('target_encoder',\n",
       "                                                                   OrdinalEncoder()),\n",
       "                                                                  ('scaler',\n",
       "                                                                   StandardScaler())]),\n",
       "                                                  ['shot_technique',\n",
       "                                                   'shot_type',\n",
       "                                                   'shot_body_part', 'position',\n",
       "                                                   'shot_first_time',\n",
       "                                                   'position'])])),\n",
       "                ('estimator', LogisticRegression())])"
      ]
     },
     "execution_count": 34,
     "metadata": {},
     "output_type": "execute_result"
    }
   ],
   "source": [
    "composite_estimator.fit(train_cap_x_df, train_y_df.values.ravel())"
   ]
  },
  {
   "cell_type": "code",
   "execution_count": 35,
   "id": "201d83cc",
   "metadata": {},
   "outputs": [
    {
     "data": {
      "text/plain": [
       "array([[0.9097183 , 0.0902817 ],\n",
       "       [0.9522353 , 0.0477647 ],\n",
       "       [0.97240331, 0.02759669],\n",
       "       ...,\n",
       "       [0.98275262, 0.01724738],\n",
       "       [0.9445129 , 0.0554871 ],\n",
       "       [0.88084597, 0.11915403]])"
      ]
     },
     "execution_count": 35,
     "metadata": {},
     "output_type": "execute_result"
    }
   ],
   "source": [
    "composite_estimator.predict_proba(train_cap_x_df)"
   ]
  },
  {
   "cell_type": "code",
   "execution_count": 36,
   "id": "5b6a26d1",
   "metadata": {},
   "outputs": [
    {
     "name": "stdout",
     "output_type": "stream",
     "text": [
      "Training set actual goal information\n",
      "shot_outcome\n",
      "0    7236\n",
      "1     760\n",
      "Name: count, dtype: int64\n",
      "Training set naive model total xG 759.9989077673158\n",
      "Training set Statsbomb total xG: 729.8124820783017\n"
     ]
    }
   ],
   "source": [
    "print(\"Training set actual goal information\")\n",
    "print(train_y_df[target_attr].value_counts())\n",
    "print(\"Training set naive model total xG\",sum(composite_estimator.predict_proba(train_cap_x_df)[:,1]))\n",
    "print(\"Training set Statsbomb total xG:\", sum(train_cap_x_df['shot_statsbomb_xg']))"
   ]
  },
  {
   "cell_type": "code",
   "execution_count": 37,
   "id": "db3fe3be",
   "metadata": {},
   "outputs": [],
   "source": [
    "def plot_comparison(model1, model1_name, model2, model2_name, outcome):\n",
    "    plt.scatter(model1, model2,c=outcome)\n",
    "    plt.xlabel(model1_name)\n",
    "    plt.ylabel(model2_name)\n",
    "    plt.xlim(0,1.1)\n",
    "    plt.ylim(0,1.1)\n",
    "    #.legend(label=outcome\n",
    "    z = np.polyfit(model1, model2,1)\n",
    "    p = np.poly1d(z)\n",
    "    plt.plot(model1, p(model1),\"r--\")\n",
    "    print(\"y=%.2fx+%.2f\"%(z[0],z[1]))\n",
    "    print(\"$R^2$=\", r2_score(model1,model2))"
   ]
  },
  {
   "cell_type": "code",
   "execution_count": 38,
   "id": "c43d47e9",
   "metadata": {},
   "outputs": [
    {
     "data": {
      "text/plain": [
       "array(['Open Play', 'Penalty', 'Free Kick'], dtype=object)"
      ]
     },
     "execution_count": 38,
     "metadata": {},
     "output_type": "execute_result"
    }
   ],
   "source": [
    "pd.unique(SerieA_shots_df['shot_type'])"
   ]
  },
  {
   "cell_type": "code",
   "execution_count": 39,
   "id": "ee4efb1f",
   "metadata": {},
   "outputs": [],
   "source": [
    "test_predictions = composite_estimator.predict_proba(test_cap_x_df)"
   ]
  },
  {
   "cell_type": "code",
   "execution_count": 40,
   "id": "00d660cd",
   "metadata": {},
   "outputs": [
    {
     "name": "stdout",
     "output_type": "stream",
     "text": [
      "Test set actual goal information\n",
      "shot_outcome\n",
      "0    1810\n",
      "1     190\n",
      "Name: count, dtype: int64\n",
      "Test set naive model total xG 192.98543342401183\n",
      "Statsbomb total xG: 190.96647685750017\n"
     ]
    }
   ],
   "source": [
    "print(\"Test set actual goal information\")\n",
    "print(test_y_df[target_attr].value_counts())\n",
    "print(\"Test set naive model total xG\", sum(test_predictions[:,1]))\n",
    "print(\"Statsbomb total xG:\", sum(test_cap_x_df['shot_statsbomb_xg']))"
   ]
  },
  {
   "cell_type": "code",
   "execution_count": 41,
   "id": "a6b60596",
   "metadata": {},
   "outputs": [
    {
     "name": "stdout",
     "output_type": "stream",
     "text": [
      "shot_outcome\n",
      "0    1810\n",
      "1     190\n",
      "Name: count, dtype: int64\n"
     ]
    }
   ],
   "source": [
    "print(test_y_df[target_attr].value_counts())"
   ]
  },
  {
   "cell_type": "code",
   "execution_count": 42,
   "id": "4adebab6",
   "metadata": {},
   "outputs": [
    {
     "name": "stdout",
     "output_type": "stream",
     "text": [
      "Statsbomb total xG: 190.96647685750017\n"
     ]
    }
   ],
   "source": [
    "print(\"Statsbomb total xG:\", sum(test_cap_x_df['shot_statsbomb_xg']))"
   ]
  },
  {
   "cell_type": "code",
   "execution_count": 43,
   "id": "e4d3f2dc",
   "metadata": {},
   "outputs": [],
   "source": [
    "SBModel = test_cap_x_df['shot_statsbomb_xg']\n",
    "proposed_model = test_predictions[:,1]\n",
    "shot_outcome = test_y_df[target_attr]"
   ]
  },
  {
   "cell_type": "code",
   "execution_count": 44,
   "id": "b8be2856",
   "metadata": {
    "scrolled": true
   },
   "outputs": [
    {
     "name": "stdout",
     "output_type": "stream",
     "text": [
      "y=1.07x+-0.01\n",
      "$R^2$= 0.2434415515052789\n"
     ]
    },
    {
     "data": {
      "image/png": "[encoded data removed]",
      "text/plain": [
       "<Figure size 640x480 with 1 Axes>"
      ]
     },
     "metadata": {},
     "output_type": "display_data"
    }
   ],
   "source": [
    "plot_comparison(proposed_model, \"Proposed Model\", SBModel, 'Statsbomb xG', shot_outcome)"
   ]
  },
  {
   "cell_type": "code",
   "execution_count": 45,
   "id": "cf726209",
   "metadata": {},
   "outputs": [
    {
     "data": {
      "text/html": [
       "<div>\n",
       "<style scoped>\n",
       "    .dataframe tbody tr th:only-of-type {\n",
       "        vertical-align: middle;\n",
       "    }\n",
       "\n",
       "    .dataframe tbody tr th {\n",
       "        vertical-align: top;\n",
       "    }\n",
       "\n",
       "    .dataframe thead th {\n",
       "        text-align: right;\n",
       "    }\n",
       "</style>\n",
       "<table border=\"1\" class=\"dataframe\">\n",
       "  <thead>\n",
       "    <tr style=\"text-align: right;\">\n",
       "      <th></th>\n",
       "      <th>shots</th>\n",
       "      <th>goals</th>\n",
       "      <th>statsbomb_xg</th>\n",
       "      <th>proposed_model_xg</th>\n",
       "    </tr>\n",
       "  </thead>\n",
       "  <tbody>\n",
       "    <tr>\n",
       "      <th>0</th>\n",
       "      <td>2000.0</td>\n",
       "      <td>190.0</td>\n",
       "      <td>190.966477</td>\n",
       "      <td>192.985433</td>\n",
       "    </tr>\n",
       "  </tbody>\n",
       "</table>\n",
       "</div>"
      ],
      "text/plain": [
       "    shots  goals  statsbomb_xg  proposed_model_xg\n",
       "0  2000.0  190.0    190.966477         192.985433"
      ]
     },
     "execution_count": 45,
     "metadata": {},
     "output_type": "execute_result"
    }
   ],
   "source": [
    "model_summary = pd.DataFrame(columns = ['shots', 'goals', 'statsbomb_xg', 'proposed_model_xg'])\n",
    "shots = len(test_y_df[target_attr])\n",
    "goals = test_y_df[target_attr].value_counts()[1]\n",
    "statsbomb_xg = sum(test_cap_x_df['shot_statsbomb_xg'])\n",
    "proposed_model_xg = sum(test_predictions[:,1])\n",
    "new_row = pd.Series({'shots': shots, 'goals': goals, 'statsbomb_xg': statsbomb_xg, 'proposed_model_xg': proposed_model_xg})\n",
    "model_summary.loc[len(model_summary)]=new_row\n",
    "model_summary"
   ]
  },
  {
   "cell_type": "markdown",
   "id": "48de4e52",
   "metadata": {},
   "source": [
    "## Try with SGDClassifier"
   ]
  },
  {
   "cell_type": "code",
   "execution_count": 46,
   "id": "c9d12b47",
   "metadata": {},
   "outputs": [],
   "source": [
    "estimator = SGDClassifier(\n",
    "        loss='log_loss', \n",
    "        penalty='l2', \n",
    "        alpha=0.0001, \n",
    "        l1_ratio=0.15, \n",
    "        fit_intercept=True, \n",
    "        max_iter=1000, \n",
    "        tol=0.001, \n",
    "        shuffle=True, \n",
    "        verbose=0, \n",
    "        epsilon=0.1, \n",
    "        n_jobs=None, \n",
    "        random_state=42, \n",
    "        learning_rate='optimal', \n",
    "        eta0=0.0, \n",
    "        power_t=0.5, \n",
    "        early_stopping=False, \n",
    "        validation_fraction=0.1, \n",
    "        n_iter_no_change=5, \n",
    "        class_weight=None, \n",
    "        warm_start=False, \n",
    "        average=False\n",
    "    )"
   ]
  },
  {
   "cell_type": "code",
   "execution_count": 47,
   "id": "5fce2340",
   "metadata": {},
   "outputs": [],
   "source": [
    "composite_estimator = Pipeline(steps=[('preprocessor', preprocessor), ('estimator', estimator)])"
   ]
  },
  {
   "cell_type": "code",
   "execution_count": 48,
   "id": "31f5cf97",
   "metadata": {},
   "outputs": [
    {
     "data": {
      "text/html": [
       "<style>#sk-container-id-2 {color: black;}#sk-container-id-2 pre{padding: 0;}#sk-container-id-2 div.sk-toggleable {background-color: white;}#sk-container-id-2 label.sk-toggleable__label {cursor: pointer;display: block;width: 100%;margin-bottom: 0;padding: 0.3em;box-sizing: border-box;text-align: center;}#sk-container-id-2 label.sk-toggleable__label-arrow:before {content: \"▸\";float: left;margin-right: 0.25em;color: #696969;}#sk-container-id-2 label.sk-toggleable__label-arrow:hover:before {color: black;}#sk-container-id-2 div.sk-estimator:hover label.sk-toggleable__label-arrow:before {color: black;}#sk-container-id-2 div.sk-toggleable__content {max-height: 0;max-width: 0;overflow: hidden;text-align: left;background-color: #f0f8ff;}#sk-container-id-2 div.sk-toggleable__content pre {margin: 0.2em;color: black;border-radius: 0.25em;background-color: #f0f8ff;}#sk-container-id-2 input.sk-toggleable__control:checked~div.sk-toggleable__content {max-height: 200px;max-width: 100%;overflow: auto;}#sk-container-id-2 input.sk-toggleable__control:checked~label.sk-toggleable__label-arrow:before {content: \"▾\";}#sk-container-id-2 div.sk-estimator input.sk-toggleable__control:checked~label.sk-toggleable__label {background-color: #d4ebff;}#sk-container-id-2 div.sk-label input.sk-toggleable__control:checked~label.sk-toggleable__label {background-color: #d4ebff;}#sk-container-id-2 input.sk-hidden--visually {border: 0;clip: rect(1px 1px 1px 1px);clip: rect(1px, 1px, 1px, 1px);height: 1px;margin: -1px;overflow: hidden;padding: 0;position: absolute;width: 1px;}#sk-container-id-2 div.sk-estimator {font-family: monospace;background-color: #f0f8ff;border: 1px dotted black;border-radius: 0.25em;box-sizing: border-box;margin-bottom: 0.5em;}#sk-container-id-2 div.sk-estimator:hover {background-color: #d4ebff;}#sk-container-id-2 div.sk-parallel-item::after {content: \"\";width: 100%;border-bottom: 1px solid gray;flex-grow: 1;}#sk-container-id-2 div.sk-label:hover label.sk-toggleable__label {background-color: #d4ebff;}#sk-container-id-2 div.sk-serial::before {content: \"\";position: absolute;border-left: 1px solid gray;box-sizing: border-box;top: 0;bottom: 0;left: 50%;z-index: 0;}#sk-container-id-2 div.sk-serial {display: flex;flex-direction: column;align-items: center;background-color: white;padding-right: 0.2em;padding-left: 0.2em;position: relative;}#sk-container-id-2 div.sk-item {position: relative;z-index: 1;}#sk-container-id-2 div.sk-parallel {display: flex;align-items: stretch;justify-content: center;background-color: white;position: relative;}#sk-container-id-2 div.sk-item::before, #sk-container-id-2 div.sk-parallel-item::before {content: \"\";position: absolute;border-left: 1px solid gray;box-sizing: border-box;top: 0;bottom: 0;left: 50%;z-index: -1;}#sk-container-id-2 div.sk-parallel-item {display: flex;flex-direction: column;z-index: 1;position: relative;background-color: white;}#sk-container-id-2 div.sk-parallel-item:first-child::after {align-self: flex-end;width: 50%;}#sk-container-id-2 div.sk-parallel-item:last-child::after {align-self: flex-start;width: 50%;}#sk-container-id-2 div.sk-parallel-item:only-child::after {width: 0;}#sk-container-id-2 div.sk-dashed-wrapped {border: 1px dashed gray;margin: 0 0.4em 0.5em 0.4em;box-sizing: border-box;padding-bottom: 0.4em;background-color: white;}#sk-container-id-2 div.sk-label label {font-family: monospace;font-weight: bold;display: inline-block;line-height: 1.2em;}#sk-container-id-2 div.sk-label-container {text-align: center;}#sk-container-id-2 div.sk-container {/* jupyter's `normalize.less` sets `[hidden] { display: none; }` but bootstrap.min.css set `[hidden] { display: none !important; }` so we also need the `!important` here to be able to override the default hidden behavior on the sphinx rendered scikit-learn.org. See: https://github.com/scikit-learn/scikit-learn/issues/21755 */display: inline-block !important;position: relative;}#sk-container-id-2 div.sk-text-repr-fallback {display: none;}</style><div id=\"sk-container-id-2\" class=\"sk-top-container\"><div class=\"sk-text-repr-fallback\"><pre>Pipeline(steps=[(&#x27;preprocessor&#x27;,\n",
       "                 ColumnTransformer(transformers=[(&#x27;numerical&#x27;,\n",
       "                                                  Pipeline(steps=[(&#x27;imputer&#x27;,\n",
       "                                                                   SimpleImputer()),\n",
       "                                                                  (&#x27;scaler&#x27;,\n",
       "                                                                   StandardScaler())]),\n",
       "                                                  [&#x27;distance&#x27;, &#x27;minute&#x27;,\n",
       "                                                   &#x27;shot_angle&#x27;]),\n",
       "                                                 (&#x27;nominal&#x27;,\n",
       "                                                  Pipeline(steps=[(&#x27;imputer&#x27;,\n",
       "                                                                   SimpleImputer(strategy=&#x27;most_frequent&#x27;)),\n",
       "                                                                  (&#x27;target_encoder&#x27;,\n",
       "                                                                   OrdinalEncoder()),\n",
       "                                                                  (&#x27;scaler&#x27;,\n",
       "                                                                   StandardScaler())]),\n",
       "                                                  [&#x27;shot_technique&#x27;,\n",
       "                                                   &#x27;shot_type&#x27;,\n",
       "                                                   &#x27;shot_body_part&#x27;, &#x27;position&#x27;,\n",
       "                                                   &#x27;shot_first_time&#x27;,\n",
       "                                                   &#x27;position&#x27;])])),\n",
       "                (&#x27;estimator&#x27;, SGDClassifier(loss=&#x27;log_loss&#x27;, random_state=42))])</pre><b>In a Jupyter environment, please rerun this cell to show the HTML representation or trust the notebook. <br />On GitHub, the HTML representation is unable to render, please try loading this page with nbviewer.org.</b></div><div class=\"sk-container\" hidden><div class=\"sk-item sk-dashed-wrapped\"><div class=\"sk-label-container\"><div class=\"sk-label sk-toggleable\"><input class=\"sk-toggleable__control sk-hidden--visually\" id=\"sk-estimator-id-11\" type=\"checkbox\" ><label for=\"sk-estimator-id-11\" class=\"sk-toggleable__label sk-toggleable__label-arrow\">Pipeline</label><div class=\"sk-toggleable__content\"><pre>Pipeline(steps=[(&#x27;preprocessor&#x27;,\n",
       "                 ColumnTransformer(transformers=[(&#x27;numerical&#x27;,\n",
       "                                                  Pipeline(steps=[(&#x27;imputer&#x27;,\n",
       "                                                                   SimpleImputer()),\n",
       "                                                                  (&#x27;scaler&#x27;,\n",
       "                                                                   StandardScaler())]),\n",
       "                                                  [&#x27;distance&#x27;, &#x27;minute&#x27;,\n",
       "                                                   &#x27;shot_angle&#x27;]),\n",
       "                                                 (&#x27;nominal&#x27;,\n",
       "                                                  Pipeline(steps=[(&#x27;imputer&#x27;,\n",
       "                                                                   SimpleImputer(strategy=&#x27;most_frequent&#x27;)),\n",
       "                                                                  (&#x27;target_encoder&#x27;,\n",
       "                                                                   OrdinalEncoder()),\n",
       "                                                                  (&#x27;scaler&#x27;,\n",
       "                                                                   StandardScaler())]),\n",
       "                                                  [&#x27;shot_technique&#x27;,\n",
       "                                                   &#x27;shot_type&#x27;,\n",
       "                                                   &#x27;shot_body_part&#x27;, &#x27;position&#x27;,\n",
       "                                                   &#x27;shot_first_time&#x27;,\n",
       "                                                   &#x27;position&#x27;])])),\n",
       "                (&#x27;estimator&#x27;, SGDClassifier(loss=&#x27;log_loss&#x27;, random_state=42))])</pre></div></div></div><div class=\"sk-serial\"><div class=\"sk-item sk-dashed-wrapped\"><div class=\"sk-label-container\"><div class=\"sk-label sk-toggleable\"><input class=\"sk-toggleable__control sk-hidden--visually\" id=\"sk-estimator-id-12\" type=\"checkbox\" ><label for=\"sk-estimator-id-12\" class=\"sk-toggleable__label sk-toggleable__label-arrow\">preprocessor: ColumnTransformer</label><div class=\"sk-toggleable__content\"><pre>ColumnTransformer(transformers=[(&#x27;numerical&#x27;,\n",
       "                                 Pipeline(steps=[(&#x27;imputer&#x27;, SimpleImputer()),\n",
       "                                                 (&#x27;scaler&#x27;, StandardScaler())]),\n",
       "                                 [&#x27;distance&#x27;, &#x27;minute&#x27;, &#x27;shot_angle&#x27;]),\n",
       "                                (&#x27;nominal&#x27;,\n",
       "                                 Pipeline(steps=[(&#x27;imputer&#x27;,\n",
       "                                                  SimpleImputer(strategy=&#x27;most_frequent&#x27;)),\n",
       "                                                 (&#x27;target_encoder&#x27;,\n",
       "                                                  OrdinalEncoder()),\n",
       "                                                 (&#x27;scaler&#x27;, StandardScaler())]),\n",
       "                                 [&#x27;shot_technique&#x27;, &#x27;shot_type&#x27;,\n",
       "                                  &#x27;shot_body_part&#x27;, &#x27;position&#x27;,\n",
       "                                  &#x27;shot_first_time&#x27;, &#x27;position&#x27;])])</pre></div></div></div><div class=\"sk-parallel\"><div class=\"sk-parallel-item\"><div class=\"sk-item\"><div class=\"sk-label-container\"><div class=\"sk-label sk-toggleable\"><input class=\"sk-toggleable__control sk-hidden--visually\" id=\"sk-estimator-id-13\" type=\"checkbox\" ><label for=\"sk-estimator-id-13\" class=\"sk-toggleable__label sk-toggleable__label-arrow\">numerical</label><div class=\"sk-toggleable__content\"><pre>[&#x27;distance&#x27;, &#x27;minute&#x27;, &#x27;shot_angle&#x27;]</pre></div></div></div><div class=\"sk-serial\"><div class=\"sk-item\"><div class=\"sk-serial\"><div class=\"sk-item\"><div class=\"sk-estimator sk-toggleable\"><input class=\"sk-toggleable__control sk-hidden--visually\" id=\"sk-estimator-id-14\" type=\"checkbox\" ><label for=\"sk-estimator-id-14\" class=\"sk-toggleable__label sk-toggleable__label-arrow\">SimpleImputer</label><div class=\"sk-toggleable__content\"><pre>SimpleImputer()</pre></div></div></div><div class=\"sk-item\"><div class=\"sk-estimator sk-toggleable\"><input class=\"sk-toggleable__control sk-hidden--visually\" id=\"sk-estimator-id-15\" type=\"checkbox\" ><label for=\"sk-estimator-id-15\" class=\"sk-toggleable__label sk-toggleable__label-arrow\">StandardScaler</label><div class=\"sk-toggleable__content\"><pre>StandardScaler()</pre></div></div></div></div></div></div></div></div><div class=\"sk-parallel-item\"><div class=\"sk-item\"><div class=\"sk-label-container\"><div class=\"sk-label sk-toggleable\"><input class=\"sk-toggleable__control sk-hidden--visually\" id=\"sk-estimator-id-16\" type=\"checkbox\" ><label for=\"sk-estimator-id-16\" class=\"sk-toggleable__label sk-toggleable__label-arrow\">nominal</label><div class=\"sk-toggleable__content\"><pre>[&#x27;shot_technique&#x27;, &#x27;shot_type&#x27;, &#x27;shot_body_part&#x27;, &#x27;position&#x27;, &#x27;shot_first_time&#x27;, &#x27;position&#x27;]</pre></div></div></div><div class=\"sk-serial\"><div class=\"sk-item\"><div class=\"sk-serial\"><div class=\"sk-item\"><div class=\"sk-estimator sk-toggleable\"><input class=\"sk-toggleable__control sk-hidden--visually\" id=\"sk-estimator-id-17\" type=\"checkbox\" ><label for=\"sk-estimator-id-17\" class=\"sk-toggleable__label sk-toggleable__label-arrow\">SimpleImputer</label><div class=\"sk-toggleable__content\"><pre>SimpleImputer(strategy=&#x27;most_frequent&#x27;)</pre></div></div></div><div class=\"sk-item\"><div class=\"sk-estimator sk-toggleable\"><input class=\"sk-toggleable__control sk-hidden--visually\" id=\"sk-estimator-id-18\" type=\"checkbox\" ><label for=\"sk-estimator-id-18\" class=\"sk-toggleable__label sk-toggleable__label-arrow\">OrdinalEncoder</label><div class=\"sk-toggleable__content\"><pre>OrdinalEncoder()</pre></div></div></div><div class=\"sk-item\"><div class=\"sk-estimator sk-toggleable\"><input class=\"sk-toggleable__control sk-hidden--visually\" id=\"sk-estimator-id-19\" type=\"checkbox\" ><label for=\"sk-estimator-id-19\" class=\"sk-toggleable__label sk-toggleable__label-arrow\">StandardScaler</label><div class=\"sk-toggleable__content\"><pre>StandardScaler()</pre></div></div></div></div></div></div></div></div></div></div><div class=\"sk-item\"><div class=\"sk-estimator sk-toggleable\"><input class=\"sk-toggleable__control sk-hidden--visually\" id=\"sk-estimator-id-20\" type=\"checkbox\" ><label for=\"sk-estimator-id-20\" class=\"sk-toggleable__label sk-toggleable__label-arrow\">SGDClassifier</label><div class=\"sk-toggleable__content\"><pre>SGDClassifier(loss=&#x27;log_loss&#x27;, random_state=42)</pre></div></div></div></div></div></div></div>"
      ],
      "text/plain": [
       "Pipeline(steps=[('preprocessor',\n",
       "                 ColumnTransformer(transformers=[('numerical',\n",
       "                                                  Pipeline(steps=[('imputer',\n",
       "                                                                   SimpleImputer()),\n",
       "                                                                  ('scaler',\n",
       "                                                                   StandardScaler())]),\n",
       "                                                  ['distance', 'minute',\n",
       "                                                   'shot_angle']),\n",
       "                                                 ('nominal',\n",
       "                                                  Pipeline(steps=[('imputer',\n",
       "                                                                   SimpleImputer(strategy='most_frequent')),\n",
       "                                                                  ('target_encoder',\n",
       "                                                                   OrdinalEncoder()),\n",
       "                                                                  ('scaler',\n",
       "                                                                   StandardScaler())]),\n",
       "                                                  ['shot_technique',\n",
       "                                                   'shot_type',\n",
       "                                                   'shot_body_part', 'position',\n",
       "                                                   'shot_first_time',\n",
       "                                                   'position'])])),\n",
       "                ('estimator', SGDClassifier(loss='log_loss', random_state=42))])"
      ]
     },
     "execution_count": 48,
     "metadata": {},
     "output_type": "execute_result"
    }
   ],
   "source": [
    "composite_estimator.fit(train_cap_x_df, train_y_df.values.ravel())"
   ]
  },
  {
   "cell_type": "code",
   "execution_count": 49,
   "id": "919d821c",
   "metadata": {},
   "outputs": [
    {
     "data": {
      "text/plain": [
       "array([[0.91063817, 0.08936183],\n",
       "       [0.96367579, 0.03632421],\n",
       "       [0.96791151, 0.03208849],\n",
       "       ...,\n",
       "       [0.99022187, 0.00977813],\n",
       "       [0.95383067, 0.04616933],\n",
       "       [0.93885546, 0.06114454]])"
      ]
     },
     "execution_count": 49,
     "metadata": {},
     "output_type": "execute_result"
    }
   ],
   "source": [
    "composite_estimator.predict_proba(train_cap_x_df)"
   ]
  },
  {
   "cell_type": "code",
   "execution_count": 50,
   "id": "8407c308",
   "metadata": {},
   "outputs": [
    {
     "name": "stdout",
     "output_type": "stream",
     "text": [
      "Training set actual goal information\n",
      "shot_outcome\n",
      "0    7236\n",
      "1     760\n",
      "Name: count, dtype: int64\n",
      "Training set naive model total xG 575.9063269239585\n",
      "Training set Statsbomb total xG: 729.8124820783017\n"
     ]
    }
   ],
   "source": [
    "print(\"Training set actual goal information\")\n",
    "print(train_y_df[target_attr].value_counts())\n",
    "print(\"Training set naive model total xG\",sum(composite_estimator.predict_proba(train_cap_x_df)[:,1]))\n",
    "print(\"Training set Statsbomb total xG:\", sum(train_cap_x_df['shot_statsbomb_xg']))"
   ]
  },
  {
   "cell_type": "code",
   "execution_count": 51,
   "id": "71d35a45",
   "metadata": {},
   "outputs": [],
   "source": [
    "def plot_comparison(model1, model1_name, model2, model2_name, outcome):\n",
    "    plt.scatter(model1, model2,c=outcome)\n",
    "    plt.xlabel(model1_name)\n",
    "    plt.ylabel(model2_name)\n",
    "    plt.xlim(0,1.1)\n",
    "    plt.ylim(0,1.1)\n",
    "    #.legend(label=outcome\n",
    "    z = np.polyfit(model1, model2,1)\n",
    "    p = np.poly1d(z)\n",
    "    plt.plot(model1, p(model1),\"r--\")\n",
    "    print(\"y=%.2fx+%.2f\"%(z[0],z[1]))\n",
    "    print(\"$R^2$=\", r2_score(model1,model2))"
   ]
  },
  {
   "cell_type": "code",
   "execution_count": 52,
   "id": "b73b92ca",
   "metadata": {},
   "outputs": [
    {
     "data": {
      "text/plain": [
       "array(['Open Play', 'Penalty', 'Free Kick'], dtype=object)"
      ]
     },
     "execution_count": 52,
     "metadata": {},
     "output_type": "execute_result"
    }
   ],
   "source": [
    "pd.unique(SerieA_shots_df['shot_type'])"
   ]
  },
  {
   "cell_type": "code",
   "execution_count": 53,
   "id": "5e012b29",
   "metadata": {},
   "outputs": [],
   "source": [
    "test_predictions = composite_estimator.predict_proba(test_cap_x_df)"
   ]
  },
  {
   "cell_type": "code",
   "execution_count": 54,
   "id": "d5c7da6e",
   "metadata": {},
   "outputs": [
    {
     "name": "stdout",
     "output_type": "stream",
     "text": [
      "Test set actual goal information\n",
      "shot_outcome\n",
      "0    1810\n",
      "1     190\n",
      "Name: count, dtype: int64\n",
      "Test set naive model total xG 146.44903512354807\n",
      "Statsbomb total xG: 190.96647685750017\n"
     ]
    }
   ],
   "source": [
    "print(\"Test set actual goal information\")\n",
    "print(test_y_df[target_attr].value_counts())\n",
    "print(\"Test set naive model total xG\", sum(test_predictions[:,1]))\n",
    "print(\"Statsbomb total xG:\", sum(test_cap_x_df['shot_statsbomb_xg']))"
   ]
  },
  {
   "cell_type": "code",
   "execution_count": 55,
   "id": "6a2f68ec",
   "metadata": {},
   "outputs": [
    {
     "name": "stdout",
     "output_type": "stream",
     "text": [
      "shot_outcome\n",
      "0    1810\n",
      "1     190\n",
      "Name: count, dtype: int64\n"
     ]
    }
   ],
   "source": [
    "print(test_y_df[target_attr].value_counts())"
   ]
  },
  {
   "cell_type": "code",
   "execution_count": 56,
   "id": "50e7b671",
   "metadata": {},
   "outputs": [
    {
     "name": "stdout",
     "output_type": "stream",
     "text": [
      "Statsbomb total xG: 190.96647685750017\n"
     ]
    }
   ],
   "source": [
    "print(\"Statsbomb total xG:\", sum(test_cap_x_df['shot_statsbomb_xg']))"
   ]
  },
  {
   "cell_type": "code",
   "execution_count": 57,
   "id": "1c033062",
   "metadata": {},
   "outputs": [],
   "source": [
    "SBModel = test_cap_x_df['shot_statsbomb_xg']\n",
    "proposed_model = test_predictions[:,1]\n",
    "shot_outcome = test_y_df[target_attr]"
   ]
  },
  {
   "cell_type": "code",
   "execution_count": 58,
   "id": "1ea340cc",
   "metadata": {
    "scrolled": true
   },
   "outputs": [
    {
     "name": "stdout",
     "output_type": "stream",
     "text": [
      "y=1.39x+-0.01\n",
      "$R^2$= -0.39803187997565503\n"
     ]
    },
    {
     "data": {
      "image/png": "[encoded data removed]",
      "text/plain": [
       "<Figure size 640x480 with 1 Axes>"
      ]
     },
     "metadata": {},
     "output_type": "display_data"
    }
   ],
   "source": [
    "plot_comparison(proposed_model, \"Proposed Model\", SBModel, 'Statsbomb xG', shot_outcome)"
   ]
  },
  {
   "cell_type": "code",
   "execution_count": 59,
   "id": "9acf5cc5",
   "metadata": {},
   "outputs": [
    {
     "data": {
      "text/html": [
       "<div>\n",
       "<style scoped>\n",
       "    .dataframe tbody tr th:only-of-type {\n",
       "        vertical-align: middle;\n",
       "    }\n",
       "\n",
       "    .dataframe tbody tr th {\n",
       "        vertical-align: top;\n",
       "    }\n",
       "\n",
       "    .dataframe thead th {\n",
       "        text-align: right;\n",
       "    }\n",
       "</style>\n",
       "<table border=\"1\" class=\"dataframe\">\n",
       "  <thead>\n",
       "    <tr style=\"text-align: right;\">\n",
       "      <th></th>\n",
       "      <th>shots</th>\n",
       "      <th>goals</th>\n",
       "      <th>statsbomb_xg</th>\n",
       "      <th>proposed_model_xg</th>\n",
       "    </tr>\n",
       "  </thead>\n",
       "  <tbody>\n",
       "    <tr>\n",
       "      <th>0</th>\n",
       "      <td>2000.0</td>\n",
       "      <td>190.0</td>\n",
       "      <td>190.966477</td>\n",
       "      <td>146.449035</td>\n",
       "    </tr>\n",
       "  </tbody>\n",
       "</table>\n",
       "</div>"
      ],
      "text/plain": [
       "    shots  goals  statsbomb_xg  proposed_model_xg\n",
       "0  2000.0  190.0    190.966477         146.449035"
      ]
     },
     "execution_count": 59,
     "metadata": {},
     "output_type": "execute_result"
    }
   ],
   "source": [
    "model_summary = pd.DataFrame(columns = ['shots', 'goals', 'statsbomb_xg', 'proposed_model_xg'])\n",
    "shots = len(test_y_df[target_attr])\n",
    "goals = test_y_df[target_attr].value_counts()[1]\n",
    "statsbomb_xg = sum(test_cap_x_df['shot_statsbomb_xg'])\n",
    "proposed_model_xg = sum(test_predictions[:,1])\n",
    "new_row = pd.Series({'shots': shots, 'goals': goals, 'statsbomb_xg': statsbomb_xg, 'proposed_model_xg': proposed_model_xg})\n",
    "model_summary.loc[len(model_summary)]=new_row\n",
    "model_summary"
   ]
  },
  {
   "cell_type": "markdown",
   "id": "ed049f88",
   "metadata": {},
   "source": [
    "## Try with RandomForest Classifier"
   ]
  },
  {
   "cell_type": "code",
   "execution_count": 60,
   "id": "a26962e0",
   "metadata": {},
   "outputs": [],
   "source": [
    "estimator = RandomForestClassifier(\n",
    "    n_estimators=500, \n",
    "    criterion='gini', \n",
    "    max_depth=None, \n",
    "    min_samples_split=2, \n",
    "    min_samples_leaf=1, \n",
    "    min_weight_fraction_leaf=0.0, \n",
    "    max_features='sqrt', \n",
    "    max_leaf_nodes=16, \n",
    "    min_impurity_decrease=0.0, \n",
    "    bootstrap=True, \n",
    "    oob_score=False, \n",
    "    n_jobs=-1, \n",
    "    random_state=42,\n",
    "    verbose=0, \n",
    "    warm_start=False, \n",
    "    class_weight=None, \n",
    "    ccp_alpha=0.0, \n",
    "    max_samples=None\n",
    ")"
   ]
  },
  {
   "cell_type": "code",
   "execution_count": 61,
   "id": "3a812303",
   "metadata": {},
   "outputs": [],
   "source": [
    "composite_estimator = Pipeline(steps=[('preprocessor', preprocessor), ('estimator', estimator)])"
   ]
  },
  {
   "cell_type": "code",
   "execution_count": 62,
   "id": "0d843f06",
   "metadata": {},
   "outputs": [
    {
     "data": {
      "text/html": [
       "<style>#sk-container-id-3 {color: black;}#sk-container-id-3 pre{padding: 0;}#sk-container-id-3 div.sk-toggleable {background-color: white;}#sk-container-id-3 label.sk-toggleable__label {cursor: pointer;display: block;width: 100%;margin-bottom: 0;padding: 0.3em;box-sizing: border-box;text-align: center;}#sk-container-id-3 label.sk-toggleable__label-arrow:before {content: \"▸\";float: left;margin-right: 0.25em;color: #696969;}#sk-container-id-3 label.sk-toggleable__label-arrow:hover:before {color: black;}#sk-container-id-3 div.sk-estimator:hover label.sk-toggleable__label-arrow:before {color: black;}#sk-container-id-3 div.sk-toggleable__content {max-height: 0;max-width: 0;overflow: hidden;text-align: left;background-color: #f0f8ff;}#sk-container-id-3 div.sk-toggleable__content pre {margin: 0.2em;color: black;border-radius: 0.25em;background-color: #f0f8ff;}#sk-container-id-3 input.sk-toggleable__control:checked~div.sk-toggleable__content {max-height: 200px;max-width: 100%;overflow: auto;}#sk-container-id-3 input.sk-toggleable__control:checked~label.sk-toggleable__label-arrow:before {content: \"▾\";}#sk-container-id-3 div.sk-estimator input.sk-toggleable__control:checked~label.sk-toggleable__label {background-color: #d4ebff;}#sk-container-id-3 div.sk-label input.sk-toggleable__control:checked~label.sk-toggleable__label {background-color: #d4ebff;}#sk-container-id-3 input.sk-hidden--visually {border: 0;clip: rect(1px 1px 1px 1px);clip: rect(1px, 1px, 1px, 1px);height: 1px;margin: -1px;overflow: hidden;padding: 0;position: absolute;width: 1px;}#sk-container-id-3 div.sk-estimator {font-family: monospace;background-color: #f0f8ff;border: 1px dotted black;border-radius: 0.25em;box-sizing: border-box;margin-bottom: 0.5em;}#sk-container-id-3 div.sk-estimator:hover {background-color: #d4ebff;}#sk-container-id-3 div.sk-parallel-item::after {content: \"\";width: 100%;border-bottom: 1px solid gray;flex-grow: 1;}#sk-container-id-3 div.sk-label:hover label.sk-toggleable__label {background-color: #d4ebff;}#sk-container-id-3 div.sk-serial::before {content: \"\";position: absolute;border-left: 1px solid gray;box-sizing: border-box;top: 0;bottom: 0;left: 50%;z-index: 0;}#sk-container-id-3 div.sk-serial {display: flex;flex-direction: column;align-items: center;background-color: white;padding-right: 0.2em;padding-left: 0.2em;position: relative;}#sk-container-id-3 div.sk-item {position: relative;z-index: 1;}#sk-container-id-3 div.sk-parallel {display: flex;align-items: stretch;justify-content: center;background-color: white;position: relative;}#sk-container-id-3 div.sk-item::before, #sk-container-id-3 div.sk-parallel-item::before {content: \"\";position: absolute;border-left: 1px solid gray;box-sizing: border-box;top: 0;bottom: 0;left: 50%;z-index: -1;}#sk-container-id-3 div.sk-parallel-item {display: flex;flex-direction: column;z-index: 1;position: relative;background-color: white;}#sk-container-id-3 div.sk-parallel-item:first-child::after {align-self: flex-end;width: 50%;}#sk-container-id-3 div.sk-parallel-item:last-child::after {align-self: flex-start;width: 50%;}#sk-container-id-3 div.sk-parallel-item:only-child::after {width: 0;}#sk-container-id-3 div.sk-dashed-wrapped {border: 1px dashed gray;margin: 0 0.4em 0.5em 0.4em;box-sizing: border-box;padding-bottom: 0.4em;background-color: white;}#sk-container-id-3 div.sk-label label {font-family: monospace;font-weight: bold;display: inline-block;line-height: 1.2em;}#sk-container-id-3 div.sk-label-container {text-align: center;}#sk-container-id-3 div.sk-container {/* jupyter's `normalize.less` sets `[hidden] { display: none; }` but bootstrap.min.css set `[hidden] { display: none !important; }` so we also need the `!important` here to be able to override the default hidden behavior on the sphinx rendered scikit-learn.org. See: https://github.com/scikit-learn/scikit-learn/issues/21755 */display: inline-block !important;position: relative;}#sk-container-id-3 div.sk-text-repr-fallback {display: none;}</style><div id=\"sk-container-id-3\" class=\"sk-top-container\"><div class=\"sk-text-repr-fallback\"><pre>Pipeline(steps=[(&#x27;preprocessor&#x27;,\n",
       "                 ColumnTransformer(transformers=[(&#x27;numerical&#x27;,\n",
       "                                                  Pipeline(steps=[(&#x27;imputer&#x27;,\n",
       "                                                                   SimpleImputer()),\n",
       "                                                                  (&#x27;scaler&#x27;,\n",
       "                                                                   StandardScaler())]),\n",
       "                                                  [&#x27;distance&#x27;, &#x27;minute&#x27;,\n",
       "                                                   &#x27;shot_angle&#x27;]),\n",
       "                                                 (&#x27;nominal&#x27;,\n",
       "                                                  Pipeline(steps=[(&#x27;imputer&#x27;,\n",
       "                                                                   SimpleImputer(strategy=&#x27;most_frequent&#x27;)),\n",
       "                                                                  (&#x27;target_encoder&#x27;,\n",
       "                                                                   OrdinalEncoder()),\n",
       "                                                                  (&#x27;scaler&#x27;,\n",
       "                                                                   StandardScaler())]),\n",
       "                                                  [&#x27;shot_technique&#x27;,\n",
       "                                                   &#x27;shot_type&#x27;,\n",
       "                                                   &#x27;shot_body_part&#x27;, &#x27;position&#x27;,\n",
       "                                                   &#x27;shot_first_time&#x27;,\n",
       "                                                   &#x27;position&#x27;])])),\n",
       "                (&#x27;estimator&#x27;,\n",
       "                 RandomForestClassifier(max_leaf_nodes=16, n_estimators=500,\n",
       "                                        n_jobs=-1, random_state=42))])</pre><b>In a Jupyter environment, please rerun this cell to show the HTML representation or trust the notebook. <br />On GitHub, the HTML representation is unable to render, please try loading this page with nbviewer.org.</b></div><div class=\"sk-container\" hidden><div class=\"sk-item sk-dashed-wrapped\"><div class=\"sk-label-container\"><div class=\"sk-label sk-toggleable\"><input class=\"sk-toggleable__control sk-hidden--visually\" id=\"sk-estimator-id-21\" type=\"checkbox\" ><label for=\"sk-estimator-id-21\" class=\"sk-toggleable__label sk-toggleable__label-arrow\">Pipeline</label><div class=\"sk-toggleable__content\"><pre>Pipeline(steps=[(&#x27;preprocessor&#x27;,\n",
       "                 ColumnTransformer(transformers=[(&#x27;numerical&#x27;,\n",
       "                                                  Pipeline(steps=[(&#x27;imputer&#x27;,\n",
       "                                                                   SimpleImputer()),\n",
       "                                                                  (&#x27;scaler&#x27;,\n",
       "                                                                   StandardScaler())]),\n",
       "                                                  [&#x27;distance&#x27;, &#x27;minute&#x27;,\n",
       "                                                   &#x27;shot_angle&#x27;]),\n",
       "                                                 (&#x27;nominal&#x27;,\n",
       "                                                  Pipeline(steps=[(&#x27;imputer&#x27;,\n",
       "                                                                   SimpleImputer(strategy=&#x27;most_frequent&#x27;)),\n",
       "                                                                  (&#x27;target_encoder&#x27;,\n",
       "                                                                   OrdinalEncoder()),\n",
       "                                                                  (&#x27;scaler&#x27;,\n",
       "                                                                   StandardScaler())]),\n",
       "                                                  [&#x27;shot_technique&#x27;,\n",
       "                                                   &#x27;shot_type&#x27;,\n",
       "                                                   &#x27;shot_body_part&#x27;, &#x27;position&#x27;,\n",
       "                                                   &#x27;shot_first_time&#x27;,\n",
       "                                                   &#x27;position&#x27;])])),\n",
       "                (&#x27;estimator&#x27;,\n",
       "                 RandomForestClassifier(max_leaf_nodes=16, n_estimators=500,\n",
       "                                        n_jobs=-1, random_state=42))])</pre></div></div></div><div class=\"sk-serial\"><div class=\"sk-item sk-dashed-wrapped\"><div class=\"sk-label-container\"><div class=\"sk-label sk-toggleable\"><input class=\"sk-toggleable__control sk-hidden--visually\" id=\"sk-estimator-id-22\" type=\"checkbox\" ><label for=\"sk-estimator-id-22\" class=\"sk-toggleable__label sk-toggleable__label-arrow\">preprocessor: ColumnTransformer</label><div class=\"sk-toggleable__content\"><pre>ColumnTransformer(transformers=[(&#x27;numerical&#x27;,\n",
       "                                 Pipeline(steps=[(&#x27;imputer&#x27;, SimpleImputer()),\n",
       "                                                 (&#x27;scaler&#x27;, StandardScaler())]),\n",
       "                                 [&#x27;distance&#x27;, &#x27;minute&#x27;, &#x27;shot_angle&#x27;]),\n",
       "                                (&#x27;nominal&#x27;,\n",
       "                                 Pipeline(steps=[(&#x27;imputer&#x27;,\n",
       "                                                  SimpleImputer(strategy=&#x27;most_frequent&#x27;)),\n",
       "                                                 (&#x27;target_encoder&#x27;,\n",
       "                                                  OrdinalEncoder()),\n",
       "                                                 (&#x27;scaler&#x27;, StandardScaler())]),\n",
       "                                 [&#x27;shot_technique&#x27;, &#x27;shot_type&#x27;,\n",
       "                                  &#x27;shot_body_part&#x27;, &#x27;position&#x27;,\n",
       "                                  &#x27;shot_first_time&#x27;, &#x27;position&#x27;])])</pre></div></div></div><div class=\"sk-parallel\"><div class=\"sk-parallel-item\"><div class=\"sk-item\"><div class=\"sk-label-container\"><div class=\"sk-label sk-toggleable\"><input class=\"sk-toggleable__control sk-hidden--visually\" id=\"sk-estimator-id-23\" type=\"checkbox\" ><label for=\"sk-estimator-id-23\" class=\"sk-toggleable__label sk-toggleable__label-arrow\">numerical</label><div class=\"sk-toggleable__content\"><pre>[&#x27;distance&#x27;, &#x27;minute&#x27;, &#x27;shot_angle&#x27;]</pre></div></div></div><div class=\"sk-serial\"><div class=\"sk-item\"><div class=\"sk-serial\"><div class=\"sk-item\"><div class=\"sk-estimator sk-toggleable\"><input class=\"sk-toggleable__control sk-hidden--visually\" id=\"sk-estimator-id-24\" type=\"checkbox\" ><label for=\"sk-estimator-id-24\" class=\"sk-toggleable__label sk-toggleable__label-arrow\">SimpleImputer</label><div class=\"sk-toggleable__content\"><pre>SimpleImputer()</pre></div></div></div><div class=\"sk-item\"><div class=\"sk-estimator sk-toggleable\"><input class=\"sk-toggleable__control sk-hidden--visually\" id=\"sk-estimator-id-25\" type=\"checkbox\" ><label for=\"sk-estimator-id-25\" class=\"sk-toggleable__label sk-toggleable__label-arrow\">StandardScaler</label><div class=\"sk-toggleable__content\"><pre>StandardScaler()</pre></div></div></div></div></div></div></div></div><div class=\"sk-parallel-item\"><div class=\"sk-item\"><div class=\"sk-label-container\"><div class=\"sk-label sk-toggleable\"><input class=\"sk-toggleable__control sk-hidden--visually\" id=\"sk-estimator-id-26\" type=\"checkbox\" ><label for=\"sk-estimator-id-26\" class=\"sk-toggleable__label sk-toggleable__label-arrow\">nominal</label><div class=\"sk-toggleable__content\"><pre>[&#x27;shot_technique&#x27;, &#x27;shot_type&#x27;, &#x27;shot_body_part&#x27;, &#x27;position&#x27;, &#x27;shot_first_time&#x27;, &#x27;position&#x27;]</pre></div></div></div><div class=\"sk-serial\"><div class=\"sk-item\"><div class=\"sk-serial\"><div class=\"sk-item\"><div class=\"sk-estimator sk-toggleable\"><input class=\"sk-toggleable__control sk-hidden--visually\" id=\"sk-estimator-id-27\" type=\"checkbox\" ><label for=\"sk-estimator-id-27\" class=\"sk-toggleable__label sk-toggleable__label-arrow\">SimpleImputer</label><div class=\"sk-toggleable__content\"><pre>SimpleImputer(strategy=&#x27;most_frequent&#x27;)</pre></div></div></div><div class=\"sk-item\"><div class=\"sk-estimator sk-toggleable\"><input class=\"sk-toggleable__control sk-hidden--visually\" id=\"sk-estimator-id-28\" type=\"checkbox\" ><label for=\"sk-estimator-id-28\" class=\"sk-toggleable__label sk-toggleable__label-arrow\">OrdinalEncoder</label><div class=\"sk-toggleable__content\"><pre>OrdinalEncoder()</pre></div></div></div><div class=\"sk-item\"><div class=\"sk-estimator sk-toggleable\"><input class=\"sk-toggleable__control sk-hidden--visually\" id=\"sk-estimator-id-29\" type=\"checkbox\" ><label for=\"sk-estimator-id-29\" class=\"sk-toggleable__label sk-toggleable__label-arrow\">StandardScaler</label><div class=\"sk-toggleable__content\"><pre>StandardScaler()</pre></div></div></div></div></div></div></div></div></div></div><div class=\"sk-item\"><div class=\"sk-estimator sk-toggleable\"><input class=\"sk-toggleable__control sk-hidden--visually\" id=\"sk-estimator-id-30\" type=\"checkbox\" ><label for=\"sk-estimator-id-30\" class=\"sk-toggleable__label sk-toggleable__label-arrow\">RandomForestClassifier</label><div class=\"sk-toggleable__content\"><pre>RandomForestClassifier(max_leaf_nodes=16, n_estimators=500, n_jobs=-1,\n",
       "                       random_state=42)</pre></div></div></div></div></div></div></div>"
      ],
      "text/plain": [
       "Pipeline(steps=[('preprocessor',\n",
       "                 ColumnTransformer(transformers=[('numerical',\n",
       "                                                  Pipeline(steps=[('imputer',\n",
       "                                                                   SimpleImputer()),\n",
       "                                                                  ('scaler',\n",
       "                                                                   StandardScaler())]),\n",
       "                                                  ['distance', 'minute',\n",
       "                                                   'shot_angle']),\n",
       "                                                 ('nominal',\n",
       "                                                  Pipeline(steps=[('imputer',\n",
       "                                                                   SimpleImputer(strategy='most_frequent')),\n",
       "                                                                  ('target_encoder',\n",
       "                                                                   OrdinalEncoder()),\n",
       "                                                                  ('scaler',\n",
       "                                                                   StandardScaler())]),\n",
       "                                                  ['shot_technique',\n",
       "                                                   'shot_type',\n",
       "                                                   'shot_body_part', 'position',\n",
       "                                                   'shot_first_time',\n",
       "                                                   'position'])])),\n",
       "                ('estimator',\n",
       "                 RandomForestClassifier(max_leaf_nodes=16, n_estimators=500,\n",
       "                                        n_jobs=-1, random_state=42))])"
      ]
     },
     "execution_count": 62,
     "metadata": {},
     "output_type": "execute_result"
    }
   ],
   "source": [
    "composite_estimator.fit(train_cap_x_df, train_y_df.values.ravel())"
   ]
  },
  {
   "cell_type": "code",
   "execution_count": 63,
   "id": "7e37c384",
   "metadata": {},
   "outputs": [
    {
     "data": {
      "text/plain": [
       "array([[0.90494717, 0.09505283],\n",
       "       [0.9457987 , 0.0542013 ],\n",
       "       [0.94426301, 0.05573699],\n",
       "       ...,\n",
       "       [0.94697142, 0.05302858],\n",
       "       [0.94666004, 0.05333996],\n",
       "       [0.92056549, 0.07943451]])"
      ]
     },
     "execution_count": 63,
     "metadata": {},
     "output_type": "execute_result"
    }
   ],
   "source": [
    "composite_estimator.predict_proba(train_cap_x_df)"
   ]
  },
  {
   "cell_type": "code",
   "execution_count": 64,
   "id": "f7d194b4",
   "metadata": {},
   "outputs": [
    {
     "name": "stdout",
     "output_type": "stream",
     "text": [
      "Training set actual goal information\n",
      "shot_outcome\n",
      "0    7236\n",
      "1     760\n",
      "Name: count, dtype: int64\n",
      "Training set naive model total xG 757.7200472878433\n",
      "Training set Statsbomb total xG: 729.8124820783017\n"
     ]
    }
   ],
   "source": [
    "print(\"Training set actual goal information\")\n",
    "print(train_y_df[target_attr].value_counts())\n",
    "print(\"Training set naive model total xG\",sum(composite_estimator.predict_proba(train_cap_x_df)[:,1]))\n",
    "print(\"Training set Statsbomb total xG:\", sum(train_cap_x_df['shot_statsbomb_xg']))"
   ]
  },
  {
   "cell_type": "code",
   "execution_count": 65,
   "id": "fcf2e52b",
   "metadata": {},
   "outputs": [],
   "source": [
    "def plot_comparison(model1, model1_name, model2, model2_name, outcome):\n",
    "    plt.scatter(model1, model2,c=outcome)\n",
    "    plt.xlabel(model1_name)\n",
    "    plt.ylabel(model2_name)\n",
    "    plt.xlim(0,1.1)\n",
    "    plt.ylim(0,1.1)\n",
    "    #.legend(label=outcome\n",
    "    z = np.polyfit(model1, model2,1)\n",
    "    p = np.poly1d(z)\n",
    "    plt.plot(model1, p(model1),\"r--\")\n",
    "    print(\"y=%.2fx+%.2f\"%(z[0],z[1]))\n",
    "    print(\"$R^2$=\", r2_score(model1,model2))"
   ]
  },
  {
   "cell_type": "code",
   "execution_count": 66,
   "id": "26ee4567",
   "metadata": {},
   "outputs": [
    {
     "data": {
      "text/plain": [
       "array(['Open Play', 'Penalty', 'Free Kick'], dtype=object)"
      ]
     },
     "execution_count": 66,
     "metadata": {},
     "output_type": "execute_result"
    }
   ],
   "source": [
    "pd.unique(SerieA_shots_df['shot_type'])"
   ]
  },
  {
   "cell_type": "code",
   "execution_count": 67,
   "id": "cb8ee2da",
   "metadata": {},
   "outputs": [],
   "source": [
    "test_predictions = composite_estimator.predict_proba(test_cap_x_df)"
   ]
  },
  {
   "cell_type": "code",
   "execution_count": 68,
   "id": "77b770c9",
   "metadata": {},
   "outputs": [
    {
     "name": "stdout",
     "output_type": "stream",
     "text": [
      "Test set actual goal information\n",
      "shot_outcome\n",
      "0    1810\n",
      "1     190\n",
      "Name: count, dtype: int64\n",
      "Test set naive model total xG 193.7561473826301\n",
      "Statsbomb total xG: 190.96647685750017\n"
     ]
    }
   ],
   "source": [
    "print(\"Test set actual goal information\")\n",
    "print(test_y_df[target_attr].value_counts())\n",
    "print(\"Test set naive model total xG\", sum(test_predictions[:,1]))\n",
    "print(\"Statsbomb total xG:\", sum(test_cap_x_df['shot_statsbomb_xg']))"
   ]
  },
  {
   "cell_type": "code",
   "execution_count": 69,
   "id": "98ca208a",
   "metadata": {},
   "outputs": [
    {
     "name": "stdout",
     "output_type": "stream",
     "text": [
      "shot_outcome\n",
      "0    1810\n",
      "1     190\n",
      "Name: count, dtype: int64\n"
     ]
    }
   ],
   "source": [
    "print(test_y_df[target_attr].value_counts())"
   ]
  },
  {
   "cell_type": "code",
   "execution_count": 70,
   "id": "82b78d64",
   "metadata": {},
   "outputs": [
    {
     "name": "stdout",
     "output_type": "stream",
     "text": [
      "Statsbomb total xG: 190.96647685750017\n"
     ]
    }
   ],
   "source": [
    "print(\"Statsbomb total xG:\", sum(test_cap_x_df['shot_statsbomb_xg']))"
   ]
  },
  {
   "cell_type": "code",
   "execution_count": 71,
   "id": "fb84e0d6",
   "metadata": {},
   "outputs": [],
   "source": [
    "SBModel = test_cap_x_df['shot_statsbomb_xg']\n",
    "proposed_model = test_predictions[:,1]\n",
    "shot_outcome = test_y_df[target_attr]"
   ]
  },
  {
   "cell_type": "code",
   "execution_count": 72,
   "id": "c78fc58b",
   "metadata": {
    "scrolled": true
   },
   "outputs": [
    {
     "name": "stdout",
     "output_type": "stream",
     "text": [
      "y=1.23x+-0.02\n",
      "$R^2$= 0.29914148897386283\n"
     ]
    },
    {
     "data": {
      "image/png": "[encoded data removed]",
      "text/plain": [
       "<Figure size 640x480 with 1 Axes>"
      ]
     },
     "metadata": {},
     "output_type": "display_data"
    }
   ],
   "source": [
    "plot_comparison(proposed_model, \"Proposed Model\", SBModel, 'Statsbomb xG', shot_outcome)"
   ]
  },
  {
   "cell_type": "code",
   "execution_count": 73,
   "id": "a14fc584",
   "metadata": {},
   "outputs": [
    {
     "data": {
      "text/html": [
       "<div>\n",
       "<style scoped>\n",
       "    .dataframe tbody tr th:only-of-type {\n",
       "        vertical-align: middle;\n",
       "    }\n",
       "\n",
       "    .dataframe tbody tr th {\n",
       "        vertical-align: top;\n",
       "    }\n",
       "\n",
       "    .dataframe thead th {\n",
       "        text-align: right;\n",
       "    }\n",
       "</style>\n",
       "<table border=\"1\" class=\"dataframe\">\n",
       "  <thead>\n",
       "    <tr style=\"text-align: right;\">\n",
       "      <th></th>\n",
       "      <th>shots</th>\n",
       "      <th>goals</th>\n",
       "      <th>statsbomb_xg</th>\n",
       "      <th>proposed_model_xg</th>\n",
       "    </tr>\n",
       "  </thead>\n",
       "  <tbody>\n",
       "    <tr>\n",
       "      <th>0</th>\n",
       "      <td>2000.0</td>\n",
       "      <td>190.0</td>\n",
       "      <td>190.966477</td>\n",
       "      <td>193.756147</td>\n",
       "    </tr>\n",
       "  </tbody>\n",
       "</table>\n",
       "</div>"
      ],
      "text/plain": [
       "    shots  goals  statsbomb_xg  proposed_model_xg\n",
       "0  2000.0  190.0    190.966477         193.756147"
      ]
     },
     "execution_count": 73,
     "metadata": {},
     "output_type": "execute_result"
    }
   ],
   "source": [
    "model_summary = pd.DataFrame(columns = ['shots', 'goals', 'statsbomb_xg', 'proposed_model_xg'])\n",
    "shots = len(test_y_df[target_attr])\n",
    "goals = test_y_df[target_attr].value_counts()[1]\n",
    "statsbomb_xg = sum(test_cap_x_df['shot_statsbomb_xg'])\n",
    "proposed_model_xg = sum(test_predictions[:,1])\n",
    "new_row = pd.Series({'shots': shots, 'goals': goals, 'statsbomb_xg': statsbomb_xg, 'proposed_model_xg': proposed_model_xg})\n",
    "model_summary.loc[len(model_summary)]=new_row\n",
    "model_summary"
   ]
  }
 ],
 "metadata": {
  "kernelspec": {
   "display_name": "Python(dsc)",
   "language": "python",
   "name": "dsc"
  },
  "language_info": {
   "codemirror_mode": {
    "name": "ipython",
    "version": 3
   },
   "file_extension": ".py",
   "mimetype": "text/x-python",
   "name": "python",
   "nbconvert_exporter": "python",
   "pygments_lexer": "ipython3",
   "version": "3.10.13"
  }
 },
 "nbformat": 4,
 "nbformat_minor": 5
}
