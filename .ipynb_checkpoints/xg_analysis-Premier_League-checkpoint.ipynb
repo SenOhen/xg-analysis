{
 "cells": [
  {
   "cell_type": "code",
   "execution_count": 1,
   "id": "67dcb23a",
   "metadata": {},
   "outputs": [],
   "source": [
    "from statsbombpy import sb\n",
    "import pandas as pd\n",
    "import json"
   ]
  },
  {
   "cell_type": "code",
   "execution_count": 2,
   "id": "47d34770",
   "metadata": {},
   "outputs": [],
   "source": [
    "from bs4 import BeautifulSoup\n",
    "import requests"
   ]
  },
  {
   "cell_type": "code",
   "execution_count": null,
   "id": "30b973b4",
   "metadata": {},
   "outputs": [
    {
     "name": "stderr",
     "output_type": "stream",
     "text": [
      "/Users/Senyo/miniconda3/envs/dsc/lib/python3.10/site-packages/statsbombpy/api_client.py:21: NoAuthWarning: credentials were not supplied. open data access only\n",
      "  warnings.warn(\n"
     ]
    }
   ],
   "source": [
    "competitions = sb.competitions()"
   ]
  },
  {
   "cell_type": "code",
   "execution_count": null,
   "id": "7d0fb9ad",
   "metadata": {},
   "outputs": [],
   "source": [
    "competitions"
   ]
  },
  {
   "cell_type": "code",
   "execution_count": null,
   "id": "15d76294",
   "metadata": {},
   "outputs": [],
   "source": [
    "competitions['competition_name'].unique()"
   ]
  },
  {
   "cell_type": "code",
   "execution_count": null,
   "id": "cabb5787",
   "metadata": {},
   "outputs": [],
   "source": [
    "competitions[\n",
    "    #competitions['competition_name'].isin([\n",
    "    #'Premier League', 'Bundesliga', 'La Liga', 'Ligue 1', 'Serie A']) \n",
    "    #         & \n",
    "    competitions['season_name']=='2015/2016'\n",
    "            ]\n",
    "#type(competitions['season_name'][0])"
   ]
  },
  {
   "cell_type": "code",
   "execution_count": null,
   "id": "0244fc01",
   "metadata": {},
   "outputs": [],
   "source": [
    "#sb.matches(competition_id=2, season_id=27)"
   ]
  },
  {
   "cell_type": "code",
   "execution_count": null,
   "id": "e4d3f2dc",
   "metadata": {},
   "outputs": [],
   "source": [
    "#events = sb.events(match_id=3754078)"
   ]
  },
  {
   "cell_type": "code",
   "execution_count": null,
   "id": "b8be2856",
   "metadata": {},
   "outputs": [],
   "source": [
    "#events"
   ]
  },
  {
   "cell_type": "code",
   "execution_count": null,
   "id": "3ebf6646",
   "metadata": {},
   "outputs": [],
   "source": [
    "#events.columns"
   ]
  },
  {
   "cell_type": "code",
   "execution_count": null,
   "id": "7b8b3926",
   "metadata": {},
   "outputs": [],
   "source": [
    "# base_url = 'https://understat.com/match/'\n",
    "# match = str(input('Please enter match id: '))\n",
    "# url = base_url + match"
   ]
  },
  {
   "cell_type": "code",
   "execution_count": null,
   "id": "b61a2f89",
   "metadata": {},
   "outputs": [],
   "source": [
    "# res = requests.get(url)\n",
    "# soup = BeautifulSoup(res.content, 'lxml')\n",
    "# scripts = soup.find_all('script')\n",
    "# #help(BeautifulSoup)"
   ]
  },
  {
   "cell_type": "code",
   "execution_count": null,
   "id": "0f367c62",
   "metadata": {},
   "outputs": [],
   "source": [
    "#scripts"
   ]
  },
  {
   "cell_type": "code",
   "execution_count": null,
   "id": "b253ab18",
   "metadata": {},
   "outputs": [],
   "source": [
    "strings = scripts[1].string"
   ]
  },
  {
   "cell_type": "code",
   "execution_count": null,
   "id": "c142ad4a",
   "metadata": {},
   "outputs": [],
   "source": [
    "#strings"
   ]
  },
  {
   "cell_type": "code",
   "execution_count": null,
   "id": "c00ff7cc",
   "metadata": {},
   "outputs": [],
   "source": [
    "ind_start = strings.index(\"('\")+2\n",
    "ind_end = strings.index(\"')\")\n",
    "\n",
    "json_data = strings[ind_start:ind_end]\n",
    "json_data = json_data.encode('utf8').decode('unicode_escape')\n",
    "\n",
    "data = json.loads(json_data)\n"
   ]
  },
  {
   "cell_type": "code",
   "execution_count": null,
   "id": "0f60f32d",
   "metadata": {},
   "outputs": [],
   "source": [
    "data"
   ]
  },
  {
   "cell_type": "code",
   "execution_count": null,
   "id": "8c99db7e",
   "metadata": {},
   "outputs": [],
   "source": [
    "x = []\n",
    "y = []\n",
    "minute = []\n",
    "xG = []\n",
    "h_a = []\n",
    "team = []\n",
    "result = []\n",
    "\n",
    "data_home = data['h']\n",
    "data_away = data['a']\n",
    "\n",
    "for index in range(len(data_home)):\n",
    "    for key in data_home[index]:\n",
    "        if key == 'X':\n",
    "            x.append(data_home[index][key])\n",
    "        if key == 'Y':\n",
    "            y.append(data_home[index][key])\n",
    "        if key == 'xG':\n",
    "            xG.append(data_home[index][key])\n",
    "        if key == 'h_team':\n",
    "            team.append(data_home[index][key])\n",
    "        if key == 'h_a':\n",
    "            h_a.append(data_home[index][key])\n",
    "        if key == 'minute':\n",
    "            minute.append(data_home[index][key])\n",
    "        if key == 'result':\n",
    "            result.append(data_home[index][key])\n",
    "\n",
    "for index in range(len(data_away)):\n",
    "    for key in data_away[index]:\n",
    "        if key == 'X':\n",
    "            x.append(data_away[index][key])\n",
    "        if key == 'Y':\n",
    "            y.append(data_away[index][key])\n",
    "        if key == 'xG':\n",
    "            xG.append(data_away[index][key])\n",
    "        if key == 'a_team':\n",
    "            team.append(data_away[index][key])\n",
    "        if key == 'h_a':\n",
    "            h_a.append(data_away[index][key])\n",
    "        if key == 'minute':\n",
    "            minute.append(data_away[index][key])\n",
    "        if key == 'result':\n",
    "            result.append(data_away[index][key])"
   ]
  },
  {
   "cell_type": "code",
   "execution_count": null,
   "id": "194135a3",
   "metadata": {},
   "outputs": [],
   "source": [
    "col_names = ['x', 'y', 'xG', 'team', 'h_a', 'minute', 'result']\n",
    "df = pd.DataFrame([x,y,xG,team, h_a, minute, result], index=col_names)\n",
    "df = df.T"
   ]
  },
  {
   "cell_type": "code",
   "execution_count": null,
   "id": "9d9c6edc",
   "metadata": {},
   "outputs": [],
   "source": [
    "for col in ['x', 'y', 'xG']:\n",
    "    df[col]=pd.to_numeric(df[col])\n",
    "df.round(decimals=5)\n",
    "df"
   ]
  },
  {
   "cell_type": "code",
   "execution_count": null,
   "id": "8f0e682e",
   "metadata": {},
   "outputs": [],
   "source": []
  }
 ],
 "metadata": {
  "kernelspec": {
   "display_name": "Python(dsc)",
   "language": "python",
   "name": "dsc"
  },
  "language_info": {
   "codemirror_mode": {
    "name": "ipython",
    "version": 3
   },
   "file_extension": ".py",
   "mimetype": "text/x-python",
   "name": "python",
   "nbconvert_exporter": "python",
   "pygments_lexer": "ipython3",
   "version": "3.10.13"
  }
 },
 "nbformat": 4,
 "nbformat_minor": 5
}
